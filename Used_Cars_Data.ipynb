{
 "cells": [
  {
   "cell_type": "markdown",
   "metadata": {
    "id": "hEPMsnwjWqwB"
   },
   "source": [
    "<h1><center><font size=8>AIML - Project 2 - Cars4U</center></font></h1>\n",
    "<center><img src=\"https://images.cars.com/cldstatic/wp-content/uploads/202201-chip-shortage-used-cars-scaled.jpg\" width=\"500\" height=\"400\"></center>\n"
   ]
  },
  {
   "cell_type": "markdown",
   "metadata": {
    "id": "smyTSXr7XJff"
   },
   "source": [
    "\n",
    "### **Objective:**\n",
    "To explore and visualize the dataset, build a linear regression model to predict the prices of used cars, and generate a set of insights and recommendations that will help the business.\n",
    "\n",
    "\n",
    "Come up with a pricing model that can effectively predict the price of used cars and can help the business in devising profitable strategies using differential pricing. For example, if the business knows the market price, it will never sell anything below it.\n",
    "\n",
    "\n",
    "### **Data Description:**\n",
    "The data contains the different attributes of used cars sold in different locations. The detailed data dictionary is given below.\n",
    "\n",
    "Data Dictionary\n",
    "\n",
    "* S.No.: Serial number\n",
    "* Name: Name of the car which includes brand name and model name\n",
    "* Location: Location in which the car is being sold or is available for purchase (cities)\n",
    "* Year: Manufacturing year of the car\n",
    "* Kilometers_driven: The total kilometers (a unit used to measure length or distance) driven in the car by the previous owner(s)\n",
    "* Fuel_Type: The type of fuel used by the car (Petrol, Diesel, Electric, CNG, LPG)\n",
    "* Transmission: The type of transmission used by the car (Automatic/Manual)\n",
    "* Owner: Type of ownership\n",
    "* Mileage: The standard mileage offered by the car company in kmpl or km/kg\n",
    "* Engine: The displacement volume of the engine in CC\n",
    "* Power: The maximum power of the engine in bhp\n",
    "* Seats: The number of seats in the car\n",
    "* New_Price: The price of a new car of the same model in INR Lakhs (1 Lakh INR = 100,000 INR)\n",
    "* Price: The price of the used car in INR Lakhs* "
   ]
  },
  {
   "cell_type": "markdown",
   "metadata": {
    "id": "r5ubmLpUXVnB"
   },
   "source": [
    "### **Importing the necessary libraries**"
   ]
  },
  {
   "cell_type": "code",
   "execution_count": 233,
   "metadata": {
    "colab": {
     "base_uri": "https://localhost:8080/",
     "height": 0
    },
    "executionInfo": {
     "elapsed": 3814,
     "status": "ok",
     "timestamp": 1665697269804,
     "user": {
      "displayName": "Sushant Upadhyay",
      "userId": "05018399502161361441"
     },
     "user_tz": 420
    },
    "id": "HHJZz8_OWnQ3",
    "outputId": "2b39e491-bf7c-4fff-8cf1-fb7ce097dc21"
   },
   "outputs": [
    {
     "name": "stdout",
     "output_type": "stream",
     "text": [
      "Looking in indexes: https://pypi.org/simple, https://us-python.pkg.dev/colab-wheels/public/simple/\n",
      "Requirement already satisfied: nb_black in /usr/local/lib/python3.7/dist-packages (1.0.7)\n",
      "Requirement already satisfied: ipython in /usr/local/lib/python3.7/dist-packages (from nb_black) (7.9.0)\n",
      "Requirement already satisfied: black>='19.3' in /usr/local/lib/python3.7/dist-packages (from nb_black) (22.10.0)\n",
      "Requirement already satisfied: click>=8.0.0 in /usr/local/lib/python3.7/dist-packages (from black>='19.3'->nb_black) (8.1.3)\n",
      "Requirement already satisfied: pathspec>=0.9.0 in /usr/local/lib/python3.7/dist-packages (from black>='19.3'->nb_black) (0.10.1)\n",
      "Requirement already satisfied: typed-ast>=1.4.2 in /usr/local/lib/python3.7/dist-packages (from black>='19.3'->nb_black) (1.5.4)\n",
      "Requirement already satisfied: tomli>=1.1.0 in /usr/local/lib/python3.7/dist-packages (from black>='19.3'->nb_black) (2.0.1)\n",
      "Requirement already satisfied: platformdirs>=2 in /usr/local/lib/python3.7/dist-packages (from black>='19.3'->nb_black) (2.5.2)\n",
      "Requirement already satisfied: typing-extensions>=3.10.0.0 in /usr/local/lib/python3.7/dist-packages (from black>='19.3'->nb_black) (4.1.1)\n",
      "Requirement already satisfied: mypy-extensions>=0.4.3 in /usr/local/lib/python3.7/dist-packages (from black>='19.3'->nb_black) (0.4.3)\n",
      "Requirement already satisfied: importlib-metadata in /usr/local/lib/python3.7/dist-packages (from click>=8.0.0->black>='19.3'->nb_black) (5.0.0)\n",
      "Requirement already satisfied: zipp>=0.5 in /usr/local/lib/python3.7/dist-packages (from importlib-metadata->click>=8.0.0->black>='19.3'->nb_black) (3.9.0)\n",
      "Requirement already satisfied: pygments in /usr/local/lib/python3.7/dist-packages (from ipython->nb_black) (2.6.1)\n",
      "Requirement already satisfied: decorator in /usr/local/lib/python3.7/dist-packages (from ipython->nb_black) (4.4.2)\n",
      "Requirement already satisfied: backcall in /usr/local/lib/python3.7/dist-packages (from ipython->nb_black) (0.2.0)\n",
      "Requirement already satisfied: pickleshare in /usr/local/lib/python3.7/dist-packages (from ipython->nb_black) (0.7.5)\n",
      "Requirement already satisfied: prompt-toolkit<2.1.0,>=2.0.0 in /usr/local/lib/python3.7/dist-packages (from ipython->nb_black) (2.0.10)\n",
      "Requirement already satisfied: pexpect in /usr/local/lib/python3.7/dist-packages (from ipython->nb_black) (4.8.0)\n",
      "Requirement already satisfied: jedi>=0.10 in /usr/local/lib/python3.7/dist-packages (from ipython->nb_black) (0.18.1)\n",
      "Requirement already satisfied: traitlets>=4.2 in /usr/local/lib/python3.7/dist-packages (from ipython->nb_black) (5.1.1)\n",
      "Requirement already satisfied: setuptools>=18.5 in /usr/local/lib/python3.7/dist-packages (from ipython->nb_black) (57.4.0)\n",
      "Requirement already satisfied: parso<0.9.0,>=0.8.0 in /usr/local/lib/python3.7/dist-packages (from jedi>=0.10->ipython->nb_black) (0.8.3)\n",
      "Requirement already satisfied: six>=1.9.0 in /usr/local/lib/python3.7/dist-packages (from prompt-toolkit<2.1.0,>=2.0.0->ipython->nb_black) (1.15.0)\n",
      "Requirement already satisfied: wcwidth in /usr/local/lib/python3.7/dist-packages (from prompt-toolkit<2.1.0,>=2.0.0->ipython->nb_black) (0.2.5)\n",
      "Requirement already satisfied: ptyprocess>=0.5 in /usr/local/lib/python3.7/dist-packages (from pexpect->ipython->nb_black) (0.7.0)\n",
      "The nb_black extension is already loaded. To reload it, use:\n",
      "  %reload_ext nb_black\n"
     ]
    },
    {
     "data": {
      "application/javascript": [
       "\n",
       "            setTimeout(function() {\n",
       "                var nbb_cell_id = 233;\n",
       "                var nbb_unformatted_code = \"# this will help in making the Python code more structured automatically (good coding practice)\\n!pip install nb_black\\n%load_ext nb_black\\n\\n# Libraries to help with reading and manipulating data\\nimport numpy as np\\nimport pandas as pd\\n\\n# Libraries to help with data visualization\\nimport matplotlib.pyplot as plt\\nimport seaborn as sns\\n\\nsns.set()\\n\\n# Removes the limit for the number of displayed columns\\npd.set_option(\\\"display.max_columns\\\", None)\\n# Sets the limit for the number of displayed rows\\npd.set_option(\\\"display.max_rows\\\", 200)\\n\\n# to split the data into train and test\\nfrom sklearn.model_selection import train_test_split\\n\\n# to build linear regression_model\\nfrom sklearn.linear_model import LinearRegression\\n\\n# to check model performance\\nfrom sklearn.metrics import mean_absolute_error, mean_squared_error, r2_score\";\n",
       "                var nbb_formatted_code = \"# this will help in making the Python code more structured automatically (good coding practice)\\n!pip install nb_black\\n%load_ext nb_black\\n\\n# Libraries to help with reading and manipulating data\\nimport numpy as np\\nimport pandas as pd\\n\\n# Libraries to help with data visualization\\nimport matplotlib.pyplot as plt\\nimport seaborn as sns\\n\\nsns.set()\\n\\n# Removes the limit for the number of displayed columns\\npd.set_option(\\\"display.max_columns\\\", None)\\n# Sets the limit for the number of displayed rows\\npd.set_option(\\\"display.max_rows\\\", 200)\\n\\n# to split the data into train and test\\nfrom sklearn.model_selection import train_test_split\\n\\n# to build linear regression_model\\nfrom sklearn.linear_model import LinearRegression\\n\\n# to check model performance\\nfrom sklearn.metrics import mean_absolute_error, mean_squared_error, r2_score\";\n",
       "                var nbb_cells = Jupyter.notebook.get_cells();\n",
       "                for (var i = 0; i < nbb_cells.length; ++i) {\n",
       "                    if (nbb_cells[i].input_prompt_number == nbb_cell_id) {\n",
       "                        if (nbb_cells[i].get_text() == nbb_unformatted_code) {\n",
       "                             nbb_cells[i].set_text(nbb_formatted_code);\n",
       "                        }\n",
       "                        break;\n",
       "                    }\n",
       "                }\n",
       "            }, 500);\n",
       "            "
      ],
      "text/plain": [
       "<IPython.core.display.Javascript object>"
      ]
     },
     "metadata": {},
     "output_type": "display_data"
    }
   ],
   "source": [
    "# this will help in making the Python code more structured automatically (good coding practice)\n",
    "!pip install nb_black\n",
    "%load_ext nb_black\n",
    "\n",
    "# Libraries to help with reading and manipulating data\n",
    "import numpy as np\n",
    "import pandas as pd\n",
    "\n",
    "# Libraries to help with data visualization\n",
    "import matplotlib.pyplot as plt\n",
    "import seaborn as sns\n",
    "\n",
    "sns.set()\n",
    "\n",
    "# Removes the limit for the number of displayed columns\n",
    "pd.set_option(\"display.max_columns\", None)\n",
    "# Sets the limit for the number of displayed rows\n",
    "pd.set_option(\"display.max_rows\", 200)\n",
    "\n",
    "# to split the data into train and test\n",
    "from sklearn.model_selection import train_test_split\n",
    "\n",
    "# to build linear regression_model\n",
    "from sklearn.linear_model import LinearRegression\n",
    "\n",
    "# to check model performance\n",
    "from sklearn.metrics import mean_absolute_error, mean_squared_error, r2_score"
   ]
  },
  {
   "cell_type": "markdown",
   "metadata": {
    "id": "DHGC2-FDXaGQ"
   },
   "source": [
    "### **Loading the dataset**"
   ]
  },
  {
   "cell_type": "code",
   "execution_count": 234,
   "metadata": {
    "colab": {
     "base_uri": "https://localhost:8080/",
     "height": 0
    },
    "executionInfo": {
     "elapsed": 1931,
     "status": "ok",
     "timestamp": 1665697273179,
     "user": {
      "displayName": "Sushant Upadhyay",
      "userId": "05018399502161361441"
     },
     "user_tz": 420
    },
    "id": "7GcW4a-rYl_5",
    "outputId": "ad58a023-0574-4d89-c4eb-d444c38c0697"
   },
   "outputs": [
    {
     "name": "stdout",
     "output_type": "stream",
     "text": [
      "Drive already mounted at /content/drive; to attempt to forcibly remount, call drive.mount(\"/content/drive\", force_remount=True).\n"
     ]
    },
    {
     "data": {
      "application/javascript": [
       "\n",
       "            setTimeout(function() {\n",
       "                var nbb_cell_id = 234;\n",
       "                var nbb_unformatted_code = \"#Mount drive\\nfrom google.colab import drive\\ndrive.mount('/content/drive')\";\n",
       "                var nbb_formatted_code = \"# Mount drive\\nfrom google.colab import drive\\n\\ndrive.mount(\\\"/content/drive\\\")\";\n",
       "                var nbb_cells = Jupyter.notebook.get_cells();\n",
       "                for (var i = 0; i < nbb_cells.length; ++i) {\n",
       "                    if (nbb_cells[i].input_prompt_number == nbb_cell_id) {\n",
       "                        if (nbb_cells[i].get_text() == nbb_unformatted_code) {\n",
       "                             nbb_cells[i].set_text(nbb_formatted_code);\n",
       "                        }\n",
       "                        break;\n",
       "                    }\n",
       "                }\n",
       "            }, 500);\n",
       "            "
      ],
      "text/plain": [
       "<IPython.core.display.Javascript object>"
      ]
     },
     "metadata": {},
     "output_type": "display_data"
    }
   ],
   "source": [
    "#Mount drive\n",
    "from google.colab import drive\n",
    "drive.mount('/content/drive')"
   ]
  },
  {
   "cell_type": "code",
   "execution_count": 235,
   "metadata": {
    "colab": {
     "base_uri": "https://localhost:8080/",
     "height": 0
    },
    "executionInfo": {
     "elapsed": 11,
     "status": "ok",
     "timestamp": 1665697273180,
     "user": {
      "displayName": "Sushant Upadhyay",
      "userId": "05018399502161361441"
     },
     "user_tz": 420
    },
    "id": "Dhlz9NWrYoTR",
    "outputId": "4701a5e5-c5ef-4729-e42d-8dccf7712257"
   },
   "outputs": [
    {
     "data": {
      "application/javascript": [
       "\n",
       "            setTimeout(function() {\n",
       "                var nbb_cell_id = 235;\n",
       "                var nbb_unformatted_code = \"# Read data from CSV file.\\ndata = pd.read_csv('/content/drive/My Drive/Python Learning/Projects/Project2/used_cars_data.csv')\";\n",
       "                var nbb_formatted_code = \"# Read data from CSV file.\\ndata = pd.read_csv(\\n    \\\"/content/drive/My Drive/Python Learning/Projects/Project2/used_cars_data.csv\\\"\\n)\";\n",
       "                var nbb_cells = Jupyter.notebook.get_cells();\n",
       "                for (var i = 0; i < nbb_cells.length; ++i) {\n",
       "                    if (nbb_cells[i].input_prompt_number == nbb_cell_id) {\n",
       "                        if (nbb_cells[i].get_text() == nbb_unformatted_code) {\n",
       "                             nbb_cells[i].set_text(nbb_formatted_code);\n",
       "                        }\n",
       "                        break;\n",
       "                    }\n",
       "                }\n",
       "            }, 500);\n",
       "            "
      ],
      "text/plain": [
       "<IPython.core.display.Javascript object>"
      ]
     },
     "metadata": {},
     "output_type": "display_data"
    }
   ],
   "source": [
    "# Read data from CSV file.\n",
    "data = pd.read_csv('/content/drive/My Drive/Python Learning/Projects/Project2/used_cars_data.csv')"
   ]
  },
  {
   "cell_type": "code",
   "execution_count": 236,
   "metadata": {
    "colab": {
     "base_uri": "https://localhost:8080/",
     "height": 0
    },
    "executionInfo": {
     "elapsed": 10,
     "status": "ok",
     "timestamp": 1665697273181,
     "user": {
      "displayName": "Sushant Upadhyay",
      "userId": "05018399502161361441"
     },
     "user_tz": 420
    },
    "id": "qcdNYRECYqgN",
    "outputId": "8740cb44-ab53-4315-8c8f-55d120a53159"
   },
   "outputs": [
    {
     "data": {
      "application/javascript": [
       "\n",
       "            setTimeout(function() {\n",
       "                var nbb_cell_id = 236;\n",
       "                var nbb_unformatted_code = \"# copying data to another variable to avoid any changes to original data\\ndf = data.copy()\";\n",
       "                var nbb_formatted_code = \"# copying data to another variable to avoid any changes to original data\\ndf = data.copy()\";\n",
       "                var nbb_cells = Jupyter.notebook.get_cells();\n",
       "                for (var i = 0; i < nbb_cells.length; ++i) {\n",
       "                    if (nbb_cells[i].input_prompt_number == nbb_cell_id) {\n",
       "                        if (nbb_cells[i].get_text() == nbb_unformatted_code) {\n",
       "                             nbb_cells[i].set_text(nbb_formatted_code);\n",
       "                        }\n",
       "                        break;\n",
       "                    }\n",
       "                }\n",
       "            }, 500);\n",
       "            "
      ],
      "text/plain": [
       "<IPython.core.display.Javascript object>"
      ]
     },
     "metadata": {},
     "output_type": "display_data"
    }
   ],
   "source": [
    "# copying data to another variable to avoid any changes to original data\n",
    "df = data.copy()"
   ]
  },
  {
   "cell_type": "markdown",
   "metadata": {
    "id": "uXGJakiCoWvZ"
   },
   "source": [
    "### **Define the problem and perform an Exploratory Data Analysis**"
   ]
  },
  {
   "cell_type": "markdown",
   "metadata": {
    "id": "QZNqwt2RXd3Z"
   },
   "source": [
    "#### **Understanding the structure of the data**\n",
    "- Overview of the dataset shape, datatypes - Statistical summary and check for missing values"
   ]
  },
  {
   "cell_type": "code",
   "execution_count": 237,
   "metadata": {
    "colab": {
     "base_uri": "https://localhost:8080/",
     "height": 0
    },
    "executionInfo": {
     "elapsed": 20,
     "status": "ok",
     "timestamp": 1665697275329,
     "user": {
      "displayName": "Sushant Upadhyay",
      "userId": "05018399502161361441"
     },
     "user_tz": 420
    },
    "id": "DZhxf_2QG11w",
    "outputId": "bdb809a9-0b1b-4187-d092-d4c3cad2b899"
   },
   "outputs": [
    {
     "name": "stdout",
     "output_type": "stream",
     "text": [
      "There are 7253 rows and 14 columns.\n"
     ]
    },
    {
     "data": {
      "application/javascript": [
       "\n",
       "            setTimeout(function() {\n",
       "                var nbb_cell_id = 237;\n",
       "                var nbb_unformatted_code = \"# checking the shape of the data\\nprint(f\\\"There are {df.shape[0]} rows and {df.shape[1]} columns.\\\")  # f-string\";\n",
       "                var nbb_formatted_code = \"# checking the shape of the data\\nprint(f\\\"There are {df.shape[0]} rows and {df.shape[1]} columns.\\\")  # f-string\";\n",
       "                var nbb_cells = Jupyter.notebook.get_cells();\n",
       "                for (var i = 0; i < nbb_cells.length; ++i) {\n",
       "                    if (nbb_cells[i].input_prompt_number == nbb_cell_id) {\n",
       "                        if (nbb_cells[i].get_text() == nbb_unformatted_code) {\n",
       "                             nbb_cells[i].set_text(nbb_formatted_code);\n",
       "                        }\n",
       "                        break;\n",
       "                    }\n",
       "                }\n",
       "            }, 500);\n",
       "            "
      ],
      "text/plain": [
       "<IPython.core.display.Javascript object>"
      ]
     },
     "metadata": {},
     "output_type": "display_data"
    }
   ],
   "source": [
    "# checking the shape of the data\n",
    "print(f\"There are {df.shape[0]} rows and {df.shape[1]} columns.\")  # f-string"
   ]
  },
  {
   "cell_type": "code",
   "execution_count": 238,
   "metadata": {
    "colab": {
     "base_uri": "https://localhost:8080/",
     "height": 0
    },
    "executionInfo": {
     "elapsed": 19,
     "status": "ok",
     "timestamp": 1665697275331,
     "user": {
      "displayName": "Sushant Upadhyay",
      "userId": "05018399502161361441"
     },
     "user_tz": 420
    },
    "id": "p_HoNBxWcufF",
    "outputId": "19947bc5-9f36-4228-d070-847454bc7ec6"
   },
   "outputs": [
    {
     "data": {
      "text/html": [
       "\n",
       "  <div id=\"df-de0ea807-1174-44b8-a0c4-1bf455844483\">\n",
       "    <div class=\"colab-df-container\">\n",
       "      <div>\n",
       "<style scoped>\n",
       "    .dataframe tbody tr th:only-of-type {\n",
       "        vertical-align: middle;\n",
       "    }\n",
       "\n",
       "    .dataframe tbody tr th {\n",
       "        vertical-align: top;\n",
       "    }\n",
       "\n",
       "    .dataframe thead th {\n",
       "        text-align: right;\n",
       "    }\n",
       "</style>\n",
       "<table border=\"1\" class=\"dataframe\">\n",
       "  <thead>\n",
       "    <tr style=\"text-align: right;\">\n",
       "      <th></th>\n",
       "      <th>S.No.</th>\n",
       "      <th>Name</th>\n",
       "      <th>Location</th>\n",
       "      <th>Year</th>\n",
       "      <th>Kilometers_Driven</th>\n",
       "      <th>Fuel_Type</th>\n",
       "      <th>Transmission</th>\n",
       "      <th>Owner_Type</th>\n",
       "      <th>Mileage</th>\n",
       "      <th>Engine</th>\n",
       "      <th>Power</th>\n",
       "      <th>Seats</th>\n",
       "      <th>New_Price</th>\n",
       "      <th>Price</th>\n",
       "    </tr>\n",
       "  </thead>\n",
       "  <tbody>\n",
       "    <tr>\n",
       "      <th>2397</th>\n",
       "      <td>2397</td>\n",
       "      <td>Ford EcoSport 1.5 Petrol Trend</td>\n",
       "      <td>Kolkata</td>\n",
       "      <td>2016</td>\n",
       "      <td>21460</td>\n",
       "      <td>Petrol</td>\n",
       "      <td>Manual</td>\n",
       "      <td>First</td>\n",
       "      <td>17.0 kmpl</td>\n",
       "      <td>1497 CC</td>\n",
       "      <td>121.36 bhp</td>\n",
       "      <td>5.0</td>\n",
       "      <td>9.47</td>\n",
       "      <td>6.00</td>\n",
       "    </tr>\n",
       "    <tr>\n",
       "      <th>3777</th>\n",
       "      <td>3777</td>\n",
       "      <td>Maruti Wagon R VXI 1.2</td>\n",
       "      <td>Kochi</td>\n",
       "      <td>2015</td>\n",
       "      <td>49818</td>\n",
       "      <td>Petrol</td>\n",
       "      <td>Manual</td>\n",
       "      <td>First</td>\n",
       "      <td>21.5 kmpl</td>\n",
       "      <td>1197 CC</td>\n",
       "      <td>81.80 bhp</td>\n",
       "      <td>5.0</td>\n",
       "      <td>5.44</td>\n",
       "      <td>4.11</td>\n",
       "    </tr>\n",
       "    <tr>\n",
       "      <th>4425</th>\n",
       "      <td>4425</td>\n",
       "      <td>Ford Endeavour 4x2 XLT</td>\n",
       "      <td>Hyderabad</td>\n",
       "      <td>2007</td>\n",
       "      <td>130000</td>\n",
       "      <td>Diesel</td>\n",
       "      <td>Manual</td>\n",
       "      <td>First</td>\n",
       "      <td>13.1 kmpl</td>\n",
       "      <td>2499 CC</td>\n",
       "      <td>141 bhp</td>\n",
       "      <td>7.0</td>\n",
       "      <td>35.29</td>\n",
       "      <td>6.00</td>\n",
       "    </tr>\n",
       "    <tr>\n",
       "      <th>3661</th>\n",
       "      <td>3661</td>\n",
       "      <td>Mercedes-Benz E-Class E250 CDI Avantgrade</td>\n",
       "      <td>Coimbatore</td>\n",
       "      <td>2016</td>\n",
       "      <td>39753</td>\n",
       "      <td>Diesel</td>\n",
       "      <td>Automatic</td>\n",
       "      <td>First</td>\n",
       "      <td>13.0 kmpl</td>\n",
       "      <td>2143 CC</td>\n",
       "      <td>201.1 bhp</td>\n",
       "      <td>5.0</td>\n",
       "      <td>86.97</td>\n",
       "      <td>35.28</td>\n",
       "    </tr>\n",
       "    <tr>\n",
       "      <th>4514</th>\n",
       "      <td>4514</td>\n",
       "      <td>Hyundai Xcent 1.2 Kappa AT SX Option</td>\n",
       "      <td>Kochi</td>\n",
       "      <td>2016</td>\n",
       "      <td>45560</td>\n",
       "      <td>Petrol</td>\n",
       "      <td>Automatic</td>\n",
       "      <td>First</td>\n",
       "      <td>16.9 kmpl</td>\n",
       "      <td>1197 CC</td>\n",
       "      <td>82 bhp</td>\n",
       "      <td>5.0</td>\n",
       "      <td>8.23</td>\n",
       "      <td>6.34</td>\n",
       "    </tr>\n",
       "    <tr>\n",
       "      <th>599</th>\n",
       "      <td>599</td>\n",
       "      <td>Toyota Innova Crysta 2.8 ZX AT</td>\n",
       "      <td>Coimbatore</td>\n",
       "      <td>2019</td>\n",
       "      <td>40674</td>\n",
       "      <td>Diesel</td>\n",
       "      <td>Automatic</td>\n",
       "      <td>First</td>\n",
       "      <td>11.36 kmpl</td>\n",
       "      <td>2755 CC</td>\n",
       "      <td>171.5 bhp</td>\n",
       "      <td>7.0</td>\n",
       "      <td>28.05</td>\n",
       "      <td>24.82</td>\n",
       "    </tr>\n",
       "    <tr>\n",
       "      <th>186</th>\n",
       "      <td>186</td>\n",
       "      <td>Mercedes-Benz E-Class E250 CDI Avantgrade</td>\n",
       "      <td>Bangalore</td>\n",
       "      <td>2014</td>\n",
       "      <td>37382</td>\n",
       "      <td>Diesel</td>\n",
       "      <td>Automatic</td>\n",
       "      <td>First</td>\n",
       "      <td>13.0 kmpl</td>\n",
       "      <td>2143 CC</td>\n",
       "      <td>201.1 bhp</td>\n",
       "      <td>5.0</td>\n",
       "      <td>86.97</td>\n",
       "      <td>32.00</td>\n",
       "    </tr>\n",
       "    <tr>\n",
       "      <th>305</th>\n",
       "      <td>305</td>\n",
       "      <td>Audi A6 2011-2015 2.0 TDI Premium Plus</td>\n",
       "      <td>Kochi</td>\n",
       "      <td>2014</td>\n",
       "      <td>61726</td>\n",
       "      <td>Diesel</td>\n",
       "      <td>Automatic</td>\n",
       "      <td>First</td>\n",
       "      <td>17.68 kmpl</td>\n",
       "      <td>1968 CC</td>\n",
       "      <td>174.33 bhp</td>\n",
       "      <td>5.0</td>\n",
       "      <td>67.10</td>\n",
       "      <td>20.77</td>\n",
       "    </tr>\n",
       "    <tr>\n",
       "      <th>4582</th>\n",
       "      <td>4582</td>\n",
       "      <td>Hyundai i20 1.2 Magna</td>\n",
       "      <td>Kolkata</td>\n",
       "      <td>2011</td>\n",
       "      <td>36000</td>\n",
       "      <td>Petrol</td>\n",
       "      <td>Manual</td>\n",
       "      <td>First</td>\n",
       "      <td>18.5 kmpl</td>\n",
       "      <td>1197 CC</td>\n",
       "      <td>80 bhp</td>\n",
       "      <td>5.0</td>\n",
       "      <td>10.25</td>\n",
       "      <td>2.50</td>\n",
       "    </tr>\n",
       "    <tr>\n",
       "      <th>5434</th>\n",
       "      <td>5434</td>\n",
       "      <td>Honda WR-V Edge Edition i-VTEC S</td>\n",
       "      <td>Kochi</td>\n",
       "      <td>2019</td>\n",
       "      <td>13913</td>\n",
       "      <td>Petrol</td>\n",
       "      <td>Manual</td>\n",
       "      <td>First</td>\n",
       "      <td>17.5 kmpl</td>\n",
       "      <td>1199 CC</td>\n",
       "      <td>88.7 bhp</td>\n",
       "      <td>5.0</td>\n",
       "      <td>9.36</td>\n",
       "      <td>8.20</td>\n",
       "    </tr>\n",
       "  </tbody>\n",
       "</table>\n",
       "</div>\n",
       "      <button class=\"colab-df-convert\" onclick=\"convertToInteractive('df-de0ea807-1174-44b8-a0c4-1bf455844483')\"\n",
       "              title=\"Convert this dataframe to an interactive table.\"\n",
       "              style=\"display:none;\">\n",
       "        \n",
       "  <svg xmlns=\"http://www.w3.org/2000/svg\" height=\"24px\"viewBox=\"0 0 24 24\"\n",
       "       width=\"24px\">\n",
       "    <path d=\"M0 0h24v24H0V0z\" fill=\"none\"/>\n",
       "    <path d=\"M18.56 5.44l.94 2.06.94-2.06 2.06-.94-2.06-.94-.94-2.06-.94 2.06-2.06.94zm-11 1L8.5 8.5l.94-2.06 2.06-.94-2.06-.94L8.5 2.5l-.94 2.06-2.06.94zm10 10l.94 2.06.94-2.06 2.06-.94-2.06-.94-.94-2.06-.94 2.06-2.06.94z\"/><path d=\"M17.41 7.96l-1.37-1.37c-.4-.4-.92-.59-1.43-.59-.52 0-1.04.2-1.43.59L10.3 9.45l-7.72 7.72c-.78.78-.78 2.05 0 2.83L4 21.41c.39.39.9.59 1.41.59.51 0 1.02-.2 1.41-.59l7.78-7.78 2.81-2.81c.8-.78.8-2.07 0-2.86zM5.41 20L4 18.59l7.72-7.72 1.47 1.35L5.41 20z\"/>\n",
       "  </svg>\n",
       "      </button>\n",
       "      \n",
       "  <style>\n",
       "    .colab-df-container {\n",
       "      display:flex;\n",
       "      flex-wrap:wrap;\n",
       "      gap: 12px;\n",
       "    }\n",
       "\n",
       "    .colab-df-convert {\n",
       "      background-color: #E8F0FE;\n",
       "      border: none;\n",
       "      border-radius: 50%;\n",
       "      cursor: pointer;\n",
       "      display: none;\n",
       "      fill: #1967D2;\n",
       "      height: 32px;\n",
       "      padding: 0 0 0 0;\n",
       "      width: 32px;\n",
       "    }\n",
       "\n",
       "    .colab-df-convert:hover {\n",
       "      background-color: #E2EBFA;\n",
       "      box-shadow: 0px 1px 2px rgba(60, 64, 67, 0.3), 0px 1px 3px 1px rgba(60, 64, 67, 0.15);\n",
       "      fill: #174EA6;\n",
       "    }\n",
       "\n",
       "    [theme=dark] .colab-df-convert {\n",
       "      background-color: #3B4455;\n",
       "      fill: #D2E3FC;\n",
       "    }\n",
       "\n",
       "    [theme=dark] .colab-df-convert:hover {\n",
       "      background-color: #434B5C;\n",
       "      box-shadow: 0px 1px 3px 1px rgba(0, 0, 0, 0.15);\n",
       "      filter: drop-shadow(0px 1px 2px rgba(0, 0, 0, 0.3));\n",
       "      fill: #FFFFFF;\n",
       "    }\n",
       "  </style>\n",
       "\n",
       "      <script>\n",
       "        const buttonEl =\n",
       "          document.querySelector('#df-de0ea807-1174-44b8-a0c4-1bf455844483 button.colab-df-convert');\n",
       "        buttonEl.style.display =\n",
       "          google.colab.kernel.accessAllowed ? 'block' : 'none';\n",
       "\n",
       "        async function convertToInteractive(key) {\n",
       "          const element = document.querySelector('#df-de0ea807-1174-44b8-a0c4-1bf455844483');\n",
       "          const dataTable =\n",
       "            await google.colab.kernel.invokeFunction('convertToInteractive',\n",
       "                                                     [key], {});\n",
       "          if (!dataTable) return;\n",
       "\n",
       "          const docLinkHtml = 'Like what you see? Visit the ' +\n",
       "            '<a target=\"_blank\" href=https://colab.research.google.com/notebooks/data_table.ipynb>data table notebook</a>'\n",
       "            + ' to learn more about interactive tables.';\n",
       "          element.innerHTML = '';\n",
       "          dataTable['output_type'] = 'display_data';\n",
       "          await google.colab.output.renderOutput(dataTable, element);\n",
       "          const docLink = document.createElement('div');\n",
       "          docLink.innerHTML = docLinkHtml;\n",
       "          element.appendChild(docLink);\n",
       "        }\n",
       "      </script>\n",
       "    </div>\n",
       "  </div>\n",
       "  "
      ],
      "text/plain": [
       "      S.No.                                       Name    Location  Year  \\\n",
       "2397   2397             Ford EcoSport 1.5 Petrol Trend     Kolkata  2016   \n",
       "3777   3777                     Maruti Wagon R VXI 1.2       Kochi  2015   \n",
       "4425   4425                     Ford Endeavour 4x2 XLT   Hyderabad  2007   \n",
       "3661   3661  Mercedes-Benz E-Class E250 CDI Avantgrade  Coimbatore  2016   \n",
       "4514   4514       Hyundai Xcent 1.2 Kappa AT SX Option       Kochi  2016   \n",
       "599     599             Toyota Innova Crysta 2.8 ZX AT  Coimbatore  2019   \n",
       "186     186  Mercedes-Benz E-Class E250 CDI Avantgrade   Bangalore  2014   \n",
       "305     305     Audi A6 2011-2015 2.0 TDI Premium Plus       Kochi  2014   \n",
       "4582   4582                      Hyundai i20 1.2 Magna     Kolkata  2011   \n",
       "5434   5434           Honda WR-V Edge Edition i-VTEC S       Kochi  2019   \n",
       "\n",
       "      Kilometers_Driven Fuel_Type Transmission Owner_Type     Mileage  \\\n",
       "2397              21460    Petrol       Manual      First   17.0 kmpl   \n",
       "3777              49818    Petrol       Manual      First   21.5 kmpl   \n",
       "4425             130000    Diesel       Manual      First   13.1 kmpl   \n",
       "3661              39753    Diesel    Automatic      First   13.0 kmpl   \n",
       "4514              45560    Petrol    Automatic      First   16.9 kmpl   \n",
       "599               40674    Diesel    Automatic      First  11.36 kmpl   \n",
       "186               37382    Diesel    Automatic      First   13.0 kmpl   \n",
       "305               61726    Diesel    Automatic      First  17.68 kmpl   \n",
       "4582              36000    Petrol       Manual      First   18.5 kmpl   \n",
       "5434              13913    Petrol       Manual      First   17.5 kmpl   \n",
       "\n",
       "       Engine       Power  Seats  New_Price  Price  \n",
       "2397  1497 CC  121.36 bhp    5.0       9.47   6.00  \n",
       "3777  1197 CC   81.80 bhp    5.0       5.44   4.11  \n",
       "4425  2499 CC     141 bhp    7.0      35.29   6.00  \n",
       "3661  2143 CC   201.1 bhp    5.0      86.97  35.28  \n",
       "4514  1197 CC      82 bhp    5.0       8.23   6.34  \n",
       "599   2755 CC   171.5 bhp    7.0      28.05  24.82  \n",
       "186   2143 CC   201.1 bhp    5.0      86.97  32.00  \n",
       "305   1968 CC  174.33 bhp    5.0      67.10  20.77  \n",
       "4582  1197 CC      80 bhp    5.0      10.25   2.50  \n",
       "5434  1199 CC    88.7 bhp    5.0       9.36   8.20  "
      ]
     },
     "execution_count": 238,
     "metadata": {},
     "output_type": "execute_result"
    },
    {
     "data": {
      "application/javascript": [
       "\n",
       "            setTimeout(function() {\n",
       "                var nbb_cell_id = 238;\n",
       "                var nbb_unformatted_code = \"# Checking 10 random values from data set\\nnp.random.seed(1)\\ndf.sample(n=10)\";\n",
       "                var nbb_formatted_code = \"# Checking 10 random values from data set\\nnp.random.seed(1)\\ndf.sample(n=10)\";\n",
       "                var nbb_cells = Jupyter.notebook.get_cells();\n",
       "                for (var i = 0; i < nbb_cells.length; ++i) {\n",
       "                    if (nbb_cells[i].input_prompt_number == nbb_cell_id) {\n",
       "                        if (nbb_cells[i].get_text() == nbb_unformatted_code) {\n",
       "                             nbb_cells[i].set_text(nbb_formatted_code);\n",
       "                        }\n",
       "                        break;\n",
       "                    }\n",
       "                }\n",
       "            }, 500);\n",
       "            "
      ],
      "text/plain": [
       "<IPython.core.display.Javascript object>"
      ]
     },
     "metadata": {},
     "output_type": "display_data"
    }
   ],
   "source": [
    "# Checking 10 random values from data set\n",
    "np.random.seed(1)\n",
    "df.sample(n=10)"
   ]
  },
  {
   "cell_type": "markdown",
   "metadata": {
    "id": "XRjnnZTNHw2I"
   },
   "source": [
    "* The `Mileage` and `Power`column value has units. Mostly same unit for all rows."
   ]
  },
  {
   "cell_type": "code",
   "execution_count": 239,
   "metadata": {
    "colab": {
     "base_uri": "https://localhost:8080/",
     "height": 0
    },
    "executionInfo": {
     "elapsed": 18,
     "status": "ok",
     "timestamp": 1665697275331,
     "user": {
      "displayName": "Sushant Upadhyay",
      "userId": "05018399502161361441"
     },
     "user_tz": 420
    },
    "id": "4-o7hPZl9Vip",
    "outputId": "aa685478-c82f-4faf-883d-03aca43096a2"
   },
   "outputs": [
    {
     "data": {
      "text/plain": [
       "0"
      ]
     },
     "execution_count": 239,
     "metadata": {},
     "output_type": "execute_result"
    },
    {
     "data": {
      "application/javascript": [
       "\n",
       "            setTimeout(function() {\n",
       "                var nbb_cell_id = 239;\n",
       "                var nbb_unformatted_code = \"# Find if there are any duplicates in dataset\\ndf.duplicated().sum()\";\n",
       "                var nbb_formatted_code = \"# Find if there are any duplicates in dataset\\ndf.duplicated().sum()\";\n",
       "                var nbb_cells = Jupyter.notebook.get_cells();\n",
       "                for (var i = 0; i < nbb_cells.length; ++i) {\n",
       "                    if (nbb_cells[i].input_prompt_number == nbb_cell_id) {\n",
       "                        if (nbb_cells[i].get_text() == nbb_unformatted_code) {\n",
       "                             nbb_cells[i].set_text(nbb_formatted_code);\n",
       "                        }\n",
       "                        break;\n",
       "                    }\n",
       "                }\n",
       "            }, 500);\n",
       "            "
      ],
      "text/plain": [
       "<IPython.core.display.Javascript object>"
      ]
     },
     "metadata": {},
     "output_type": "display_data"
    }
   ],
   "source": [
    "# Find if there are any duplicates in dataset\n",
    "df.duplicated().sum()"
   ]
  },
  {
   "cell_type": "markdown",
   "metadata": {
    "id": "f7Hdos5NIw5L"
   },
   "source": [
    "* No duplicate values in dataset."
   ]
  },
  {
   "cell_type": "code",
   "execution_count": 240,
   "metadata": {
    "colab": {
     "base_uri": "https://localhost:8080/",
     "height": 0
    },
    "executionInfo": {
     "elapsed": 17,
     "status": "ok",
     "timestamp": 1665697275331,
     "user": {
      "displayName": "Sushant Upadhyay",
      "userId": "05018399502161361441"
     },
     "user_tz": 420
    },
    "id": "2HZzCs-GdVpv",
    "outputId": "139bf25d-5c62-48a7-a37c-03caf3ef0f2b"
   },
   "outputs": [
    {
     "name": "stdout",
     "output_type": "stream",
     "text": [
      "<class 'pandas.core.frame.DataFrame'>\n",
      "RangeIndex: 7253 entries, 0 to 7252\n",
      "Data columns (total 14 columns):\n",
      " #   Column             Non-Null Count  Dtype  \n",
      "---  ------             --------------  -----  \n",
      " 0   S.No.              7253 non-null   int64  \n",
      " 1   Name               7253 non-null   object \n",
      " 2   Location           7253 non-null   object \n",
      " 3   Year               7253 non-null   int64  \n",
      " 4   Kilometers_Driven  7253 non-null   int64  \n",
      " 5   Fuel_Type          7253 non-null   object \n",
      " 6   Transmission       7253 non-null   object \n",
      " 7   Owner_Type         7253 non-null   object \n",
      " 8   Mileage            7251 non-null   object \n",
      " 9   Engine             7207 non-null   object \n",
      " 10  Power              7078 non-null   object \n",
      " 11  Seats              7200 non-null   float64\n",
      " 12  New_Price          7253 non-null   float64\n",
      " 13  Price              6019 non-null   float64\n",
      "dtypes: float64(3), int64(3), object(8)\n",
      "memory usage: 793.4+ KB\n"
     ]
    },
    {
     "data": {
      "application/javascript": [
       "\n",
       "            setTimeout(function() {\n",
       "                var nbb_cell_id = 240;\n",
       "                var nbb_unformatted_code = \"#Checking data types for columns\\ndf.info()\";\n",
       "                var nbb_formatted_code = \"# Checking data types for columns\\ndf.info()\";\n",
       "                var nbb_cells = Jupyter.notebook.get_cells();\n",
       "                for (var i = 0; i < nbb_cells.length; ++i) {\n",
       "                    if (nbb_cells[i].input_prompt_number == nbb_cell_id) {\n",
       "                        if (nbb_cells[i].get_text() == nbb_unformatted_code) {\n",
       "                             nbb_cells[i].set_text(nbb_formatted_code);\n",
       "                        }\n",
       "                        break;\n",
       "                    }\n",
       "                }\n",
       "            }, 500);\n",
       "            "
      ],
      "text/plain": [
       "<IPython.core.display.Javascript object>"
      ]
     },
     "metadata": {},
     "output_type": "display_data"
    }
   ],
   "source": [
    "#Checking data types for columns\n",
    "df.info()"
   ]
  },
  {
   "cell_type": "markdown",
   "metadata": {
    "id": "FKSD9QUmekNQ"
   },
   "source": [
    "* The `S. No.` Column may not be required and can be dropped from dataset.\n",
    "* `Mileage` `Engine` and `Power`   column are object type. Can be converted to float/int. "
   ]
  },
  {
   "cell_type": "code",
   "execution_count": 241,
   "metadata": {
    "colab": {
     "base_uri": "https://localhost:8080/",
     "height": 0
    },
    "executionInfo": {
     "elapsed": 17,
     "status": "ok",
     "timestamp": 1665697275332,
     "user": {
      "displayName": "Sushant Upadhyay",
      "userId": "05018399502161361441"
     },
     "user_tz": 420
    },
    "id": "AvzxflOYJ0US",
    "outputId": "a083b90f-514f-456a-9487-84e61e67ac8f"
   },
   "outputs": [
    {
     "data": {
      "text/plain": [
       "Price                1234\n",
       "Power                 175\n",
       "Seats                  53\n",
       "Engine                 46\n",
       "Mileage                 2\n",
       "S.No.                   0\n",
       "Name                    0\n",
       "Location                0\n",
       "Year                    0\n",
       "Kilometers_Driven       0\n",
       "Fuel_Type               0\n",
       "Transmission            0\n",
       "Owner_Type              0\n",
       "New_Price               0\n",
       "dtype: int64"
      ]
     },
     "execution_count": 241,
     "metadata": {},
     "output_type": "execute_result"
    },
    {
     "data": {
      "application/javascript": [
       "\n",
       "            setTimeout(function() {\n",
       "                var nbb_cell_id = 241;\n",
       "                var nbb_unformatted_code = \"# checking for missing values in the data.\\ndf.isnull().sum().sort_values(ascending=False)\";\n",
       "                var nbb_formatted_code = \"# checking for missing values in the data.\\ndf.isnull().sum().sort_values(ascending=False)\";\n",
       "                var nbb_cells = Jupyter.notebook.get_cells();\n",
       "                for (var i = 0; i < nbb_cells.length; ++i) {\n",
       "                    if (nbb_cells[i].input_prompt_number == nbb_cell_id) {\n",
       "                        if (nbb_cells[i].get_text() == nbb_unformatted_code) {\n",
       "                             nbb_cells[i].set_text(nbb_formatted_code);\n",
       "                        }\n",
       "                        break;\n",
       "                    }\n",
       "                }\n",
       "            }, 500);\n",
       "            "
      ],
      "text/plain": [
       "<IPython.core.display.Javascript object>"
      ]
     },
     "metadata": {},
     "output_type": "display_data"
    }
   ],
   "source": [
    "# checking for missing values in the data.\n",
    "df.isnull().sum().sort_values(ascending=False)"
   ]
  },
  {
   "cell_type": "markdown",
   "metadata": {
    "id": "2-XpGmFTKDV-"
   },
   "source": [
    "* There are missing values in few columns.\n",
    "* Since `Price` is target variable, after initial evaluation we may drop all the rows with missing Pricefrom dataset."
   ]
  },
  {
   "cell_type": "code",
   "execution_count": 242,
   "metadata": {
    "colab": {
     "base_uri": "https://localhost:8080/",
     "height": 0
    },
    "executionInfo": {
     "elapsed": 15,
     "status": "ok",
     "timestamp": 1665697275332,
     "user": {
      "displayName": "Sushant Upadhyay",
      "userId": "05018399502161361441"
     },
     "user_tz": 420
    },
    "id": "AJEJyw5GeQKn",
    "outputId": "f5d9cda9-79d7-4894-e8f1-d2a272d1ba53"
   },
   "outputs": [
    {
     "data": {
      "text/html": [
       "\n",
       "  <div id=\"df-4b2e9a8f-a4bd-46ce-a438-1ea4b29cb1cc\">\n",
       "    <div class=\"colab-df-container\">\n",
       "      <div>\n",
       "<style scoped>\n",
       "    .dataframe tbody tr th:only-of-type {\n",
       "        vertical-align: middle;\n",
       "    }\n",
       "\n",
       "    .dataframe tbody tr th {\n",
       "        vertical-align: top;\n",
       "    }\n",
       "\n",
       "    .dataframe thead th {\n",
       "        text-align: right;\n",
       "    }\n",
       "</style>\n",
       "<table border=\"1\" class=\"dataframe\">\n",
       "  <thead>\n",
       "    <tr style=\"text-align: right;\">\n",
       "      <th></th>\n",
       "      <th>count</th>\n",
       "      <th>unique</th>\n",
       "      <th>top</th>\n",
       "      <th>freq</th>\n",
       "      <th>mean</th>\n",
       "      <th>std</th>\n",
       "      <th>min</th>\n",
       "      <th>25%</th>\n",
       "      <th>50%</th>\n",
       "      <th>75%</th>\n",
       "      <th>max</th>\n",
       "    </tr>\n",
       "  </thead>\n",
       "  <tbody>\n",
       "    <tr>\n",
       "      <th>S.No.</th>\n",
       "      <td>7253.0</td>\n",
       "      <td>NaN</td>\n",
       "      <td>NaN</td>\n",
       "      <td>NaN</td>\n",
       "      <td>3626.0</td>\n",
       "      <td>2093.905084</td>\n",
       "      <td>0.0</td>\n",
       "      <td>1813.0</td>\n",
       "      <td>3626.0</td>\n",
       "      <td>5439.0</td>\n",
       "      <td>7252.0</td>\n",
       "    </tr>\n",
       "    <tr>\n",
       "      <th>Name</th>\n",
       "      <td>7253</td>\n",
       "      <td>2041</td>\n",
       "      <td>Mahindra XUV500 W8 2WD</td>\n",
       "      <td>55</td>\n",
       "      <td>NaN</td>\n",
       "      <td>NaN</td>\n",
       "      <td>NaN</td>\n",
       "      <td>NaN</td>\n",
       "      <td>NaN</td>\n",
       "      <td>NaN</td>\n",
       "      <td>NaN</td>\n",
       "    </tr>\n",
       "    <tr>\n",
       "      <th>Location</th>\n",
       "      <td>7253</td>\n",
       "      <td>11</td>\n",
       "      <td>Mumbai</td>\n",
       "      <td>949</td>\n",
       "      <td>NaN</td>\n",
       "      <td>NaN</td>\n",
       "      <td>NaN</td>\n",
       "      <td>NaN</td>\n",
       "      <td>NaN</td>\n",
       "      <td>NaN</td>\n",
       "      <td>NaN</td>\n",
       "    </tr>\n",
       "    <tr>\n",
       "      <th>Year</th>\n",
       "      <td>7253.0</td>\n",
       "      <td>NaN</td>\n",
       "      <td>NaN</td>\n",
       "      <td>NaN</td>\n",
       "      <td>2013.365366</td>\n",
       "      <td>3.254421</td>\n",
       "      <td>1996.0</td>\n",
       "      <td>2011.0</td>\n",
       "      <td>2014.0</td>\n",
       "      <td>2016.0</td>\n",
       "      <td>2019.0</td>\n",
       "    </tr>\n",
       "    <tr>\n",
       "      <th>Kilometers_Driven</th>\n",
       "      <td>7253.0</td>\n",
       "      <td>NaN</td>\n",
       "      <td>NaN</td>\n",
       "      <td>NaN</td>\n",
       "      <td>58699.063146</td>\n",
       "      <td>84427.720583</td>\n",
       "      <td>171.0</td>\n",
       "      <td>34000.0</td>\n",
       "      <td>53416.0</td>\n",
       "      <td>73000.0</td>\n",
       "      <td>6500000.0</td>\n",
       "    </tr>\n",
       "    <tr>\n",
       "      <th>Fuel_Type</th>\n",
       "      <td>7253</td>\n",
       "      <td>5</td>\n",
       "      <td>Diesel</td>\n",
       "      <td>3852</td>\n",
       "      <td>NaN</td>\n",
       "      <td>NaN</td>\n",
       "      <td>NaN</td>\n",
       "      <td>NaN</td>\n",
       "      <td>NaN</td>\n",
       "      <td>NaN</td>\n",
       "      <td>NaN</td>\n",
       "    </tr>\n",
       "    <tr>\n",
       "      <th>Transmission</th>\n",
       "      <td>7253</td>\n",
       "      <td>2</td>\n",
       "      <td>Manual</td>\n",
       "      <td>5204</td>\n",
       "      <td>NaN</td>\n",
       "      <td>NaN</td>\n",
       "      <td>NaN</td>\n",
       "      <td>NaN</td>\n",
       "      <td>NaN</td>\n",
       "      <td>NaN</td>\n",
       "      <td>NaN</td>\n",
       "    </tr>\n",
       "    <tr>\n",
       "      <th>Owner_Type</th>\n",
       "      <td>7253</td>\n",
       "      <td>4</td>\n",
       "      <td>First</td>\n",
       "      <td>5952</td>\n",
       "      <td>NaN</td>\n",
       "      <td>NaN</td>\n",
       "      <td>NaN</td>\n",
       "      <td>NaN</td>\n",
       "      <td>NaN</td>\n",
       "      <td>NaN</td>\n",
       "      <td>NaN</td>\n",
       "    </tr>\n",
       "    <tr>\n",
       "      <th>Mileage</th>\n",
       "      <td>7251</td>\n",
       "      <td>450</td>\n",
       "      <td>17.0 kmpl</td>\n",
       "      <td>207</td>\n",
       "      <td>NaN</td>\n",
       "      <td>NaN</td>\n",
       "      <td>NaN</td>\n",
       "      <td>NaN</td>\n",
       "      <td>NaN</td>\n",
       "      <td>NaN</td>\n",
       "      <td>NaN</td>\n",
       "    </tr>\n",
       "    <tr>\n",
       "      <th>Engine</th>\n",
       "      <td>7207</td>\n",
       "      <td>150</td>\n",
       "      <td>1197 CC</td>\n",
       "      <td>732</td>\n",
       "      <td>NaN</td>\n",
       "      <td>NaN</td>\n",
       "      <td>NaN</td>\n",
       "      <td>NaN</td>\n",
       "      <td>NaN</td>\n",
       "      <td>NaN</td>\n",
       "      <td>NaN</td>\n",
       "    </tr>\n",
       "    <tr>\n",
       "      <th>Power</th>\n",
       "      <td>7078</td>\n",
       "      <td>385</td>\n",
       "      <td>74 bhp</td>\n",
       "      <td>280</td>\n",
       "      <td>NaN</td>\n",
       "      <td>NaN</td>\n",
       "      <td>NaN</td>\n",
       "      <td>NaN</td>\n",
       "      <td>NaN</td>\n",
       "      <td>NaN</td>\n",
       "      <td>NaN</td>\n",
       "    </tr>\n",
       "    <tr>\n",
       "      <th>Seats</th>\n",
       "      <td>7200.0</td>\n",
       "      <td>NaN</td>\n",
       "      <td>NaN</td>\n",
       "      <td>NaN</td>\n",
       "      <td>5.279722</td>\n",
       "      <td>0.81166</td>\n",
       "      <td>0.0</td>\n",
       "      <td>5.0</td>\n",
       "      <td>5.0</td>\n",
       "      <td>5.0</td>\n",
       "      <td>10.0</td>\n",
       "    </tr>\n",
       "    <tr>\n",
       "      <th>New_Price</th>\n",
       "      <td>7253.0</td>\n",
       "      <td>NaN</td>\n",
       "      <td>NaN</td>\n",
       "      <td>NaN</td>\n",
       "      <td>21.307322</td>\n",
       "      <td>24.256314</td>\n",
       "      <td>3.91</td>\n",
       "      <td>7.88</td>\n",
       "      <td>11.3</td>\n",
       "      <td>21.69</td>\n",
       "      <td>375.0</td>\n",
       "    </tr>\n",
       "    <tr>\n",
       "      <th>Price</th>\n",
       "      <td>6019.0</td>\n",
       "      <td>NaN</td>\n",
       "      <td>NaN</td>\n",
       "      <td>NaN</td>\n",
       "      <td>9.479468</td>\n",
       "      <td>11.187917</td>\n",
       "      <td>0.44</td>\n",
       "      <td>3.5</td>\n",
       "      <td>5.64</td>\n",
       "      <td>9.95</td>\n",
       "      <td>160.0</td>\n",
       "    </tr>\n",
       "  </tbody>\n",
       "</table>\n",
       "</div>\n",
       "      <button class=\"colab-df-convert\" onclick=\"convertToInteractive('df-4b2e9a8f-a4bd-46ce-a438-1ea4b29cb1cc')\"\n",
       "              title=\"Convert this dataframe to an interactive table.\"\n",
       "              style=\"display:none;\">\n",
       "        \n",
       "  <svg xmlns=\"http://www.w3.org/2000/svg\" height=\"24px\"viewBox=\"0 0 24 24\"\n",
       "       width=\"24px\">\n",
       "    <path d=\"M0 0h24v24H0V0z\" fill=\"none\"/>\n",
       "    <path d=\"M18.56 5.44l.94 2.06.94-2.06 2.06-.94-2.06-.94-.94-2.06-.94 2.06-2.06.94zm-11 1L8.5 8.5l.94-2.06 2.06-.94-2.06-.94L8.5 2.5l-.94 2.06-2.06.94zm10 10l.94 2.06.94-2.06 2.06-.94-2.06-.94-.94-2.06-.94 2.06-2.06.94z\"/><path d=\"M17.41 7.96l-1.37-1.37c-.4-.4-.92-.59-1.43-.59-.52 0-1.04.2-1.43.59L10.3 9.45l-7.72 7.72c-.78.78-.78 2.05 0 2.83L4 21.41c.39.39.9.59 1.41.59.51 0 1.02-.2 1.41-.59l7.78-7.78 2.81-2.81c.8-.78.8-2.07 0-2.86zM5.41 20L4 18.59l7.72-7.72 1.47 1.35L5.41 20z\"/>\n",
       "  </svg>\n",
       "      </button>\n",
       "      \n",
       "  <style>\n",
       "    .colab-df-container {\n",
       "      display:flex;\n",
       "      flex-wrap:wrap;\n",
       "      gap: 12px;\n",
       "    }\n",
       "\n",
       "    .colab-df-convert {\n",
       "      background-color: #E8F0FE;\n",
       "      border: none;\n",
       "      border-radius: 50%;\n",
       "      cursor: pointer;\n",
       "      display: none;\n",
       "      fill: #1967D2;\n",
       "      height: 32px;\n",
       "      padding: 0 0 0 0;\n",
       "      width: 32px;\n",
       "    }\n",
       "\n",
       "    .colab-df-convert:hover {\n",
       "      background-color: #E2EBFA;\n",
       "      box-shadow: 0px 1px 2px rgba(60, 64, 67, 0.3), 0px 1px 3px 1px rgba(60, 64, 67, 0.15);\n",
       "      fill: #174EA6;\n",
       "    }\n",
       "\n",
       "    [theme=dark] .colab-df-convert {\n",
       "      background-color: #3B4455;\n",
       "      fill: #D2E3FC;\n",
       "    }\n",
       "\n",
       "    [theme=dark] .colab-df-convert:hover {\n",
       "      background-color: #434B5C;\n",
       "      box-shadow: 0px 1px 3px 1px rgba(0, 0, 0, 0.15);\n",
       "      filter: drop-shadow(0px 1px 2px rgba(0, 0, 0, 0.3));\n",
       "      fill: #FFFFFF;\n",
       "    }\n",
       "  </style>\n",
       "\n",
       "      <script>\n",
       "        const buttonEl =\n",
       "          document.querySelector('#df-4b2e9a8f-a4bd-46ce-a438-1ea4b29cb1cc button.colab-df-convert');\n",
       "        buttonEl.style.display =\n",
       "          google.colab.kernel.accessAllowed ? 'block' : 'none';\n",
       "\n",
       "        async function convertToInteractive(key) {\n",
       "          const element = document.querySelector('#df-4b2e9a8f-a4bd-46ce-a438-1ea4b29cb1cc');\n",
       "          const dataTable =\n",
       "            await google.colab.kernel.invokeFunction('convertToInteractive',\n",
       "                                                     [key], {});\n",
       "          if (!dataTable) return;\n",
       "\n",
       "          const docLinkHtml = 'Like what you see? Visit the ' +\n",
       "            '<a target=\"_blank\" href=https://colab.research.google.com/notebooks/data_table.ipynb>data table notebook</a>'\n",
       "            + ' to learn more about interactive tables.';\n",
       "          element.innerHTML = '';\n",
       "          dataTable['output_type'] = 'display_data';\n",
       "          await google.colab.output.renderOutput(dataTable, element);\n",
       "          const docLink = document.createElement('div');\n",
       "          docLink.innerHTML = docLinkHtml;\n",
       "          element.appendChild(docLink);\n",
       "        }\n",
       "      </script>\n",
       "    </div>\n",
       "  </div>\n",
       "  "
      ],
      "text/plain": [
       "                    count unique                     top  freq          mean  \\\n",
       "S.No.              7253.0    NaN                     NaN   NaN        3626.0   \n",
       "Name                 7253   2041  Mahindra XUV500 W8 2WD    55           NaN   \n",
       "Location             7253     11                  Mumbai   949           NaN   \n",
       "Year               7253.0    NaN                     NaN   NaN   2013.365366   \n",
       "Kilometers_Driven  7253.0    NaN                     NaN   NaN  58699.063146   \n",
       "Fuel_Type            7253      5                  Diesel  3852           NaN   \n",
       "Transmission         7253      2                  Manual  5204           NaN   \n",
       "Owner_Type           7253      4                   First  5952           NaN   \n",
       "Mileage              7251    450               17.0 kmpl   207           NaN   \n",
       "Engine               7207    150                 1197 CC   732           NaN   \n",
       "Power                7078    385                  74 bhp   280           NaN   \n",
       "Seats              7200.0    NaN                     NaN   NaN      5.279722   \n",
       "New_Price          7253.0    NaN                     NaN   NaN     21.307322   \n",
       "Price              6019.0    NaN                     NaN   NaN      9.479468   \n",
       "\n",
       "                            std     min      25%      50%      75%        max  \n",
       "S.No.               2093.905084     0.0   1813.0   3626.0   5439.0     7252.0  \n",
       "Name                        NaN     NaN      NaN      NaN      NaN        NaN  \n",
       "Location                    NaN     NaN      NaN      NaN      NaN        NaN  \n",
       "Year                   3.254421  1996.0   2011.0   2014.0   2016.0     2019.0  \n",
       "Kilometers_Driven  84427.720583   171.0  34000.0  53416.0  73000.0  6500000.0  \n",
       "Fuel_Type                   NaN     NaN      NaN      NaN      NaN        NaN  \n",
       "Transmission                NaN     NaN      NaN      NaN      NaN        NaN  \n",
       "Owner_Type                  NaN     NaN      NaN      NaN      NaN        NaN  \n",
       "Mileage                     NaN     NaN      NaN      NaN      NaN        NaN  \n",
       "Engine                      NaN     NaN      NaN      NaN      NaN        NaN  \n",
       "Power                       NaN     NaN      NaN      NaN      NaN        NaN  \n",
       "Seats                   0.81166     0.0      5.0      5.0      5.0       10.0  \n",
       "New_Price             24.256314    3.91     7.88     11.3    21.69      375.0  \n",
       "Price                 11.187917    0.44      3.5     5.64     9.95      160.0  "
      ]
     },
     "execution_count": 242,
     "metadata": {},
     "output_type": "execute_result"
    },
    {
     "data": {
      "application/javascript": [
       "\n",
       "            setTimeout(function() {\n",
       "                var nbb_cell_id = 242;\n",
       "                var nbb_unformatted_code = \"# Checking statistical summary of data\\ndf.describe(include='all').T\";\n",
       "                var nbb_formatted_code = \"# Checking statistical summary of data\\ndf.describe(include=\\\"all\\\").T\";\n",
       "                var nbb_cells = Jupyter.notebook.get_cells();\n",
       "                for (var i = 0; i < nbb_cells.length; ++i) {\n",
       "                    if (nbb_cells[i].input_prompt_number == nbb_cell_id) {\n",
       "                        if (nbb_cells[i].get_text() == nbb_unformatted_code) {\n",
       "                             nbb_cells[i].set_text(nbb_formatted_code);\n",
       "                        }\n",
       "                        break;\n",
       "                    }\n",
       "                }\n",
       "            }, 500);\n",
       "            "
      ],
      "text/plain": [
       "<IPython.core.display.Javascript object>"
      ]
     },
     "metadata": {},
     "output_type": "display_data"
    }
   ],
   "source": [
    "# Checking statistical summary of data\n",
    "df.describe(include='all').T"
   ]
  },
  {
   "cell_type": "markdown",
   "metadata": {
    "id": "Xf7BHKDJe8oQ"
   },
   "source": [
    "- *Diesel cars with Manual transmissions are top used cars in market.*\n",
    "- *Kilometers_Driven has wide range(171 to 6500000.0). Max value for Kilometers_Driven seems outlier*\n",
    "- *Mileage, Engine, Power and seats datatype needs coversion for better analysis*\n"
   ]
  },
  {
   "cell_type": "markdown",
   "metadata": {
    "id": "WQn0w8gxos7i"
   },
   "source": [
    "#### **Exploratory Data Analysis**\n",
    "* Analysis of spread and distribution of every feature in the dataset."
   ]
  },
  {
   "cell_type": "markdown",
   "metadata": {
    "id": "O3q8_dKx4-yh"
   },
   "source": [
    "##### **Processing Columns**"
   ]
  },
  {
   "cell_type": "markdown",
   "metadata": {
    "id": "CopzKfxj5Jct"
   },
   "source": [
    "- *For Data Analysis modifying sttructure of data for better analysis. E.g. Mileage, Engine and Power units can be dropped to treat them as numeric values and analyze data accordingly*"
   ]
  },
  {
   "cell_type": "code",
   "execution_count": 243,
   "metadata": {
    "colab": {
     "base_uri": "https://localhost:8080/",
     "height": 0
    },
    "executionInfo": {
     "elapsed": 14,
     "status": "ok",
     "timestamp": 1665697275332,
     "user": {
      "displayName": "Sushant Upadhyay",
      "userId": "05018399502161361441"
     },
     "user_tz": 420
    },
    "id": "6Jiak6to4wlb",
    "outputId": "5df26a79-7e93-4185-8e17-564838306e18"
   },
   "outputs": [
    {
     "data": {
      "application/javascript": [
       "\n",
       "            setTimeout(function() {\n",
       "                var nbb_cell_id = 243;\n",
       "                var nbb_unformatted_code = \"# S.No. and Name columns are not required for analysis. These columns doesn't influence target variable -  Price.\\ndf.drop(['S.No.', 'Name'],axis=1,inplace=True) \";\n",
       "                var nbb_formatted_code = \"# S.No. and Name columns are not required for analysis. These columns doesn't influence target variable -  Price.\\ndf.drop([\\\"S.No.\\\", \\\"Name\\\"], axis=1, inplace=True)\";\n",
       "                var nbb_cells = Jupyter.notebook.get_cells();\n",
       "                for (var i = 0; i < nbb_cells.length; ++i) {\n",
       "                    if (nbb_cells[i].input_prompt_number == nbb_cell_id) {\n",
       "                        if (nbb_cells[i].get_text() == nbb_unformatted_code) {\n",
       "                             nbb_cells[i].set_text(nbb_formatted_code);\n",
       "                        }\n",
       "                        break;\n",
       "                    }\n",
       "                }\n",
       "            }, 500);\n",
       "            "
      ],
      "text/plain": [
       "<IPython.core.display.Javascript object>"
      ]
     },
     "metadata": {},
     "output_type": "display_data"
    }
   ],
   "source": [
    "# S.No. and Name columns are not required for analysis. These columns doesn't influence target variable -  Price.\n",
    "df.drop(['S.No.', 'Name'],axis=1,inplace=True) "
   ]
  },
  {
   "cell_type": "code",
   "execution_count": 244,
   "metadata": {
    "colab": {
     "base_uri": "https://localhost:8080/",
     "height": 0
    },
    "executionInfo": {
     "elapsed": 14,
     "status": "ok",
     "timestamp": 1665697275332,
     "user": {
      "displayName": "Sushant Upadhyay",
      "userId": "05018399502161361441"
     },
     "user_tz": 420
    },
    "id": "OsawMMBM4f9D",
    "outputId": "1b8386ce-3b5f-4f4b-9ecb-b94e8d49a706"
   },
   "outputs": [
    {
     "data": {
      "application/javascript": [
       "\n",
       "            setTimeout(function() {\n",
       "                var nbb_cell_id = 244;\n",
       "                var nbb_unformatted_code = \"\\\"\\\"\\\"This funtion will split the input and only return the first index from input\\\"\\\"\\\"\\ndef firstValueAfterSplit(colname):\\n  if isinstance(colname, str):\\n    splt = colname.split(\\\" \\\")\\n    return splt[0] # return only first index from input\\n  else:\\n    return np.nan\";\n",
       "                var nbb_formatted_code = \"\\\"\\\"\\\"This funtion will split the input and only return the first index from input\\\"\\\"\\\"\\n\\n\\ndef firstValueAfterSplit(colname):\\n    if isinstance(colname, str):\\n        splt = colname.split(\\\" \\\")\\n        return splt[0]  # return only first index from input\\n    else:\\n        return np.nan\";\n",
       "                var nbb_cells = Jupyter.notebook.get_cells();\n",
       "                for (var i = 0; i < nbb_cells.length; ++i) {\n",
       "                    if (nbb_cells[i].input_prompt_number == nbb_cell_id) {\n",
       "                        if (nbb_cells[i].get_text() == nbb_unformatted_code) {\n",
       "                             nbb_cells[i].set_text(nbb_formatted_code);\n",
       "                        }\n",
       "                        break;\n",
       "                    }\n",
       "                }\n",
       "            }, 500);\n",
       "            "
      ],
      "text/plain": [
       "<IPython.core.display.Javascript object>"
      ]
     },
     "metadata": {},
     "output_type": "display_data"
    }
   ],
   "source": [
    "\"\"\"This funtion will split the input and only return the first index from input\"\"\"\n",
    "def firstValueAfterSplit(colname):\n",
    "  if isinstance(colname, str):\n",
    "    splt = colname.split(\" \")\n",
    "    return splt[0] # return only first index from input\n",
    "  else:\n",
    "    return np.nan"
   ]
  },
  {
   "cell_type": "code",
   "execution_count": 245,
   "metadata": {
    "colab": {
     "base_uri": "https://localhost:8080/",
     "height": 0
    },
    "executionInfo": {
     "elapsed": 14,
     "status": "ok",
     "timestamp": 1665697275333,
     "user": {
      "displayName": "Sushant Upadhyay",
      "userId": "05018399502161361441"
     },
     "user_tz": 420
    },
    "id": "3AGyr4NZ4luZ",
    "outputId": "51a1a8d8-eeea-4242-b08c-5c9e2963989f"
   },
   "outputs": [
    {
     "data": {
      "application/javascript": [
       "\n",
       "            setTimeout(function() {\n",
       "                var nbb_cell_id = 245;\n",
       "                var nbb_unformatted_code = \"# Mileage, Engine and Power may not require units. Dropping units will help in numeric data analysis. \\ncolsToTransform = ['Mileage', 'Engine', 'Power']\\nfor colName in colsToTransform:\\n  df[colName] = df[colName].apply(firstValueAfterSplit)\";\n",
       "                var nbb_formatted_code = \"# Mileage, Engine and Power may not require units. Dropping units will help in numeric data analysis.\\ncolsToTransform = [\\\"Mileage\\\", \\\"Engine\\\", \\\"Power\\\"]\\nfor colName in colsToTransform:\\n    df[colName] = df[colName].apply(firstValueAfterSplit)\";\n",
       "                var nbb_cells = Jupyter.notebook.get_cells();\n",
       "                for (var i = 0; i < nbb_cells.length; ++i) {\n",
       "                    if (nbb_cells[i].input_prompt_number == nbb_cell_id) {\n",
       "                        if (nbb_cells[i].get_text() == nbb_unformatted_code) {\n",
       "                             nbb_cells[i].set_text(nbb_formatted_code);\n",
       "                        }\n",
       "                        break;\n",
       "                    }\n",
       "                }\n",
       "            }, 500);\n",
       "            "
      ],
      "text/plain": [
       "<IPython.core.display.Javascript object>"
      ]
     },
     "metadata": {},
     "output_type": "display_data"
    }
   ],
   "source": [
    "# Mileage, Engine and Power may not require units. Dropping units will help in numeric data analysis. \n",
    "colsToTransform = ['Mileage', 'Engine', 'Power']\n",
    "for colName in colsToTransform:\n",
    "  df[colName] = df[colName].apply(firstValueAfterSplit)"
   ]
  },
  {
   "cell_type": "markdown",
   "metadata": {
    "id": "HOPA8pw8BCIc"
   },
   "source": [
    "- *Changing data types of 'Mileage','Engine','Power', 'Seats' from string to int/float. This will allow Data analysis easy*"
   ]
  },
  {
   "cell_type": "code",
   "execution_count": 246,
   "metadata": {
    "colab": {
     "base_uri": "https://localhost:8080/",
     "height": 0
    },
    "executionInfo": {
     "elapsed": 15,
     "status": "ok",
     "timestamp": 1665697275857,
     "user": {
      "displayName": "Sushant Upadhyay",
      "userId": "05018399502161361441"
     },
     "user_tz": 420
    },
    "id": "88sh5lvDAuQd",
    "outputId": "a2b3b356-d0bb-4ca5-a6d6-2190cac1a291"
   },
   "outputs": [
    {
     "data": {
      "application/javascript": [
       "\n",
       "            setTimeout(function() {\n",
       "                var nbb_cell_id = 246;\n",
       "                var nbb_unformatted_code = \"df['Mileage'] = df['Mileage'].astype(float, errors='ignore')\";\n",
       "                var nbb_formatted_code = \"df[\\\"Mileage\\\"] = df[\\\"Mileage\\\"].astype(float, errors=\\\"ignore\\\")\";\n",
       "                var nbb_cells = Jupyter.notebook.get_cells();\n",
       "                for (var i = 0; i < nbb_cells.length; ++i) {\n",
       "                    if (nbb_cells[i].input_prompt_number == nbb_cell_id) {\n",
       "                        if (nbb_cells[i].get_text() == nbb_unformatted_code) {\n",
       "                             nbb_cells[i].set_text(nbb_formatted_code);\n",
       "                        }\n",
       "                        break;\n",
       "                    }\n",
       "                }\n",
       "            }, 500);\n",
       "            "
      ],
      "text/plain": [
       "<IPython.core.display.Javascript object>"
      ]
     },
     "metadata": {},
     "output_type": "display_data"
    }
   ],
   "source": [
    "df['Mileage'] = df['Mileage'].astype(float, errors='ignore')"
   ]
  },
  {
   "cell_type": "code",
   "execution_count": 247,
   "metadata": {
    "colab": {
     "base_uri": "https://localhost:8080/",
     "height": 0
    },
    "executionInfo": {
     "elapsed": 14,
     "status": "ok",
     "timestamp": 1665697275858,
     "user": {
      "displayName": "Sushant Upadhyay",
      "userId": "05018399502161361441"
     },
     "user_tz": 420
    },
    "id": "81EDEAo3A1QY",
    "outputId": "e032ec61-fddf-4e90-d983-6e3d27503eb3"
   },
   "outputs": [
    {
     "data": {
      "application/javascript": [
       "\n",
       "            setTimeout(function() {\n",
       "                var nbb_cell_id = 247;\n",
       "                var nbb_unformatted_code = \"df['Engine'] = df['Engine'].astype(float).astype(\\\"int64\\\", errors='ignore')\";\n",
       "                var nbb_formatted_code = \"df[\\\"Engine\\\"] = df[\\\"Engine\\\"].astype(float).astype(\\\"int64\\\", errors=\\\"ignore\\\")\";\n",
       "                var nbb_cells = Jupyter.notebook.get_cells();\n",
       "                for (var i = 0; i < nbb_cells.length; ++i) {\n",
       "                    if (nbb_cells[i].input_prompt_number == nbb_cell_id) {\n",
       "                        if (nbb_cells[i].get_text() == nbb_unformatted_code) {\n",
       "                             nbb_cells[i].set_text(nbb_formatted_code);\n",
       "                        }\n",
       "                        break;\n",
       "                    }\n",
       "                }\n",
       "            }, 500);\n",
       "            "
      ],
      "text/plain": [
       "<IPython.core.display.Javascript object>"
      ]
     },
     "metadata": {},
     "output_type": "display_data"
    }
   ],
   "source": [
    "df['Engine'] = df['Engine'].astype(float).astype(\"int64\", errors='ignore')"
   ]
  },
  {
   "cell_type": "code",
   "execution_count": 248,
   "metadata": {
    "colab": {
     "base_uri": "https://localhost:8080/",
     "height": 0
    },
    "executionInfo": {
     "elapsed": 14,
     "status": "ok",
     "timestamp": 1665697275858,
     "user": {
      "displayName": "Sushant Upadhyay",
      "userId": "05018399502161361441"
     },
     "user_tz": 420
    },
    "id": "8otagvfMA4IG",
    "outputId": "4d1ed393-2b23-4464-cc63-051a81425437"
   },
   "outputs": [
    {
     "data": {
      "application/javascript": [
       "\n",
       "            setTimeout(function() {\n",
       "                var nbb_cell_id = 248;\n",
       "                var nbb_unformatted_code = \"df['Power'] = df['Power'].astype(float, errors='ignore')\";\n",
       "                var nbb_formatted_code = \"df[\\\"Power\\\"] = df[\\\"Power\\\"].astype(float, errors=\\\"ignore\\\")\";\n",
       "                var nbb_cells = Jupyter.notebook.get_cells();\n",
       "                for (var i = 0; i < nbb_cells.length; ++i) {\n",
       "                    if (nbb_cells[i].input_prompt_number == nbb_cell_id) {\n",
       "                        if (nbb_cells[i].get_text() == nbb_unformatted_code) {\n",
       "                             nbb_cells[i].set_text(nbb_formatted_code);\n",
       "                        }\n",
       "                        break;\n",
       "                    }\n",
       "                }\n",
       "            }, 500);\n",
       "            "
      ],
      "text/plain": [
       "<IPython.core.display.Javascript object>"
      ]
     },
     "metadata": {},
     "output_type": "display_data"
    }
   ],
   "source": [
    "df['Power'] = df['Power'].astype(float, errors='ignore')"
   ]
  },
  {
   "cell_type": "code",
   "execution_count": 249,
   "metadata": {
    "colab": {
     "base_uri": "https://localhost:8080/",
     "height": 0
    },
    "executionInfo": {
     "elapsed": 13,
     "status": "ok",
     "timestamp": 1665697275858,
     "user": {
      "displayName": "Sushant Upadhyay",
      "userId": "05018399502161361441"
     },
     "user_tz": 420
    },
    "id": "W3USXA4NA5mS",
    "outputId": "2f540a7d-1d50-4a4e-975f-4c8e8d635045"
   },
   "outputs": [
    {
     "data": {
      "application/javascript": [
       "\n",
       "            setTimeout(function() {\n",
       "                var nbb_cell_id = 249;\n",
       "                var nbb_unformatted_code = \"df['Seats'] = df['Seats'].astype(float).astype(int, errors='ignore')\";\n",
       "                var nbb_formatted_code = \"df[\\\"Seats\\\"] = df[\\\"Seats\\\"].astype(float).astype(int, errors=\\\"ignore\\\")\";\n",
       "                var nbb_cells = Jupyter.notebook.get_cells();\n",
       "                for (var i = 0; i < nbb_cells.length; ++i) {\n",
       "                    if (nbb_cells[i].input_prompt_number == nbb_cell_id) {\n",
       "                        if (nbb_cells[i].get_text() == nbb_unformatted_code) {\n",
       "                             nbb_cells[i].set_text(nbb_formatted_code);\n",
       "                        }\n",
       "                        break;\n",
       "                    }\n",
       "                }\n",
       "            }, 500);\n",
       "            "
      ],
      "text/plain": [
       "<IPython.core.display.Javascript object>"
      ]
     },
     "metadata": {},
     "output_type": "display_data"
    }
   ],
   "source": [
    "df['Seats'] = df['Seats'].astype(float).astype(int, errors='ignore')"
   ]
  },
  {
   "cell_type": "code",
   "execution_count": 250,
   "metadata": {
    "colab": {
     "base_uri": "https://localhost:8080/",
     "height": 0
    },
    "executionInfo": {
     "elapsed": 12,
     "status": "ok",
     "timestamp": 1665697275858,
     "user": {
      "displayName": "Sushant Upadhyay",
      "userId": "05018399502161361441"
     },
     "user_tz": 420
    },
    "id": "G7pFR87g-9Er",
    "outputId": "e37cfd68-b203-4a04-a695-d4179b142f3c"
   },
   "outputs": [
    {
     "name": "stdout",
     "output_type": "stream",
     "text": [
      "<class 'pandas.core.frame.DataFrame'>\n",
      "RangeIndex: 7253 entries, 0 to 7252\n",
      "Data columns (total 12 columns):\n",
      " #   Column             Non-Null Count  Dtype  \n",
      "---  ------             --------------  -----  \n",
      " 0   Location           7253 non-null   object \n",
      " 1   Year               7253 non-null   int64  \n",
      " 2   Kilometers_Driven  7253 non-null   int64  \n",
      " 3   Fuel_Type          7253 non-null   object \n",
      " 4   Transmission       7253 non-null   object \n",
      " 5   Owner_Type         7253 non-null   object \n",
      " 6   Mileage            7251 non-null   float64\n",
      " 7   Engine             7207 non-null   float64\n",
      " 8   Power              7078 non-null   float64\n",
      " 9   Seats              7200 non-null   float64\n",
      " 10  New_Price          7253 non-null   float64\n",
      " 11  Price              6019 non-null   float64\n",
      "dtypes: float64(6), int64(2), object(4)\n",
      "memory usage: 680.1+ KB\n"
     ]
    },
    {
     "data": {
      "application/javascript": [
       "\n",
       "            setTimeout(function() {\n",
       "                var nbb_cell_id = 250;\n",
       "                var nbb_unformatted_code = \"df.info()\";\n",
       "                var nbb_formatted_code = \"df.info()\";\n",
       "                var nbb_cells = Jupyter.notebook.get_cells();\n",
       "                for (var i = 0; i < nbb_cells.length; ++i) {\n",
       "                    if (nbb_cells[i].input_prompt_number == nbb_cell_id) {\n",
       "                        if (nbb_cells[i].get_text() == nbb_unformatted_code) {\n",
       "                             nbb_cells[i].set_text(nbb_formatted_code);\n",
       "                        }\n",
       "                        break;\n",
       "                    }\n",
       "                }\n",
       "            }, 500);\n",
       "            "
      ],
      "text/plain": [
       "<IPython.core.display.Javascript object>"
      ]
     },
     "metadata": {},
     "output_type": "display_data"
    }
   ],
   "source": [
    "df.info()"
   ]
  },
  {
   "cell_type": "code",
   "execution_count": 251,
   "metadata": {
    "colab": {
     "base_uri": "https://localhost:8080/",
     "height": 0
    },
    "executionInfo": {
     "elapsed": 12,
     "status": "ok",
     "timestamp": 1665697275859,
     "user": {
      "displayName": "Sushant Upadhyay",
      "userId": "05018399502161361441"
     },
     "user_tz": 420
    },
    "id": "eViBZ_HiGDEn",
    "outputId": "b020e44d-aa2c-42d4-cbdc-098e349a57a3"
   },
   "outputs": [
    {
     "data": {
      "text/html": [
       "\n",
       "  <div id=\"df-e794ed5e-38a4-4a40-a171-52d710c4dd8f\">\n",
       "    <div class=\"colab-df-container\">\n",
       "      <div>\n",
       "<style scoped>\n",
       "    .dataframe tbody tr th:only-of-type {\n",
       "        vertical-align: middle;\n",
       "    }\n",
       "\n",
       "    .dataframe tbody tr th {\n",
       "        vertical-align: top;\n",
       "    }\n",
       "\n",
       "    .dataframe thead th {\n",
       "        text-align: right;\n",
       "    }\n",
       "</style>\n",
       "<table border=\"1\" class=\"dataframe\">\n",
       "  <thead>\n",
       "    <tr style=\"text-align: right;\">\n",
       "      <th></th>\n",
       "      <th>count</th>\n",
       "      <th>mean</th>\n",
       "      <th>std</th>\n",
       "      <th>min</th>\n",
       "      <th>25%</th>\n",
       "      <th>50%</th>\n",
       "      <th>75%</th>\n",
       "      <th>max</th>\n",
       "    </tr>\n",
       "  </thead>\n",
       "  <tbody>\n",
       "    <tr>\n",
       "      <th>Year</th>\n",
       "      <td>7253.0</td>\n",
       "      <td>2013.365366</td>\n",
       "      <td>3.254421</td>\n",
       "      <td>1996.00</td>\n",
       "      <td>2011.00</td>\n",
       "      <td>2014.00</td>\n",
       "      <td>2016.00</td>\n",
       "      <td>2019.00</td>\n",
       "    </tr>\n",
       "    <tr>\n",
       "      <th>Kilometers_Driven</th>\n",
       "      <td>7253.0</td>\n",
       "      <td>58699.063146</td>\n",
       "      <td>84427.720583</td>\n",
       "      <td>171.00</td>\n",
       "      <td>34000.00</td>\n",
       "      <td>53416.00</td>\n",
       "      <td>73000.00</td>\n",
       "      <td>6500000.00</td>\n",
       "    </tr>\n",
       "    <tr>\n",
       "      <th>Mileage</th>\n",
       "      <td>7251.0</td>\n",
       "      <td>18.141580</td>\n",
       "      <td>4.562197</td>\n",
       "      <td>0.00</td>\n",
       "      <td>15.17</td>\n",
       "      <td>18.16</td>\n",
       "      <td>21.10</td>\n",
       "      <td>33.54</td>\n",
       "    </tr>\n",
       "    <tr>\n",
       "      <th>Engine</th>\n",
       "      <td>7207.0</td>\n",
       "      <td>1616.573470</td>\n",
       "      <td>595.285137</td>\n",
       "      <td>72.00</td>\n",
       "      <td>1198.00</td>\n",
       "      <td>1493.00</td>\n",
       "      <td>1968.00</td>\n",
       "      <td>5998.00</td>\n",
       "    </tr>\n",
       "    <tr>\n",
       "      <th>Power</th>\n",
       "      <td>7078.0</td>\n",
       "      <td>112.765214</td>\n",
       "      <td>53.493553</td>\n",
       "      <td>34.20</td>\n",
       "      <td>75.00</td>\n",
       "      <td>94.00</td>\n",
       "      <td>138.10</td>\n",
       "      <td>616.00</td>\n",
       "    </tr>\n",
       "    <tr>\n",
       "      <th>Seats</th>\n",
       "      <td>7200.0</td>\n",
       "      <td>5.279722</td>\n",
       "      <td>0.811660</td>\n",
       "      <td>0.00</td>\n",
       "      <td>5.00</td>\n",
       "      <td>5.00</td>\n",
       "      <td>5.00</td>\n",
       "      <td>10.00</td>\n",
       "    </tr>\n",
       "    <tr>\n",
       "      <th>New_Price</th>\n",
       "      <td>7253.0</td>\n",
       "      <td>21.307322</td>\n",
       "      <td>24.256314</td>\n",
       "      <td>3.91</td>\n",
       "      <td>7.88</td>\n",
       "      <td>11.30</td>\n",
       "      <td>21.69</td>\n",
       "      <td>375.00</td>\n",
       "    </tr>\n",
       "    <tr>\n",
       "      <th>Price</th>\n",
       "      <td>6019.0</td>\n",
       "      <td>9.479468</td>\n",
       "      <td>11.187917</td>\n",
       "      <td>0.44</td>\n",
       "      <td>3.50</td>\n",
       "      <td>5.64</td>\n",
       "      <td>9.95</td>\n",
       "      <td>160.00</td>\n",
       "    </tr>\n",
       "  </tbody>\n",
       "</table>\n",
       "</div>\n",
       "      <button class=\"colab-df-convert\" onclick=\"convertToInteractive('df-e794ed5e-38a4-4a40-a171-52d710c4dd8f')\"\n",
       "              title=\"Convert this dataframe to an interactive table.\"\n",
       "              style=\"display:none;\">\n",
       "        \n",
       "  <svg xmlns=\"http://www.w3.org/2000/svg\" height=\"24px\"viewBox=\"0 0 24 24\"\n",
       "       width=\"24px\">\n",
       "    <path d=\"M0 0h24v24H0V0z\" fill=\"none\"/>\n",
       "    <path d=\"M18.56 5.44l.94 2.06.94-2.06 2.06-.94-2.06-.94-.94-2.06-.94 2.06-2.06.94zm-11 1L8.5 8.5l.94-2.06 2.06-.94-2.06-.94L8.5 2.5l-.94 2.06-2.06.94zm10 10l.94 2.06.94-2.06 2.06-.94-2.06-.94-.94-2.06-.94 2.06-2.06.94z\"/><path d=\"M17.41 7.96l-1.37-1.37c-.4-.4-.92-.59-1.43-.59-.52 0-1.04.2-1.43.59L10.3 9.45l-7.72 7.72c-.78.78-.78 2.05 0 2.83L4 21.41c.39.39.9.59 1.41.59.51 0 1.02-.2 1.41-.59l7.78-7.78 2.81-2.81c.8-.78.8-2.07 0-2.86zM5.41 20L4 18.59l7.72-7.72 1.47 1.35L5.41 20z\"/>\n",
       "  </svg>\n",
       "      </button>\n",
       "      \n",
       "  <style>\n",
       "    .colab-df-container {\n",
       "      display:flex;\n",
       "      flex-wrap:wrap;\n",
       "      gap: 12px;\n",
       "    }\n",
       "\n",
       "    .colab-df-convert {\n",
       "      background-color: #E8F0FE;\n",
       "      border: none;\n",
       "      border-radius: 50%;\n",
       "      cursor: pointer;\n",
       "      display: none;\n",
       "      fill: #1967D2;\n",
       "      height: 32px;\n",
       "      padding: 0 0 0 0;\n",
       "      width: 32px;\n",
       "    }\n",
       "\n",
       "    .colab-df-convert:hover {\n",
       "      background-color: #E2EBFA;\n",
       "      box-shadow: 0px 1px 2px rgba(60, 64, 67, 0.3), 0px 1px 3px 1px rgba(60, 64, 67, 0.15);\n",
       "      fill: #174EA6;\n",
       "    }\n",
       "\n",
       "    [theme=dark] .colab-df-convert {\n",
       "      background-color: #3B4455;\n",
       "      fill: #D2E3FC;\n",
       "    }\n",
       "\n",
       "    [theme=dark] .colab-df-convert:hover {\n",
       "      background-color: #434B5C;\n",
       "      box-shadow: 0px 1px 3px 1px rgba(0, 0, 0, 0.15);\n",
       "      filter: drop-shadow(0px 1px 2px rgba(0, 0, 0, 0.3));\n",
       "      fill: #FFFFFF;\n",
       "    }\n",
       "  </style>\n",
       "\n",
       "      <script>\n",
       "        const buttonEl =\n",
       "          document.querySelector('#df-e794ed5e-38a4-4a40-a171-52d710c4dd8f button.colab-df-convert');\n",
       "        buttonEl.style.display =\n",
       "          google.colab.kernel.accessAllowed ? 'block' : 'none';\n",
       "\n",
       "        async function convertToInteractive(key) {\n",
       "          const element = document.querySelector('#df-e794ed5e-38a4-4a40-a171-52d710c4dd8f');\n",
       "          const dataTable =\n",
       "            await google.colab.kernel.invokeFunction('convertToInteractive',\n",
       "                                                     [key], {});\n",
       "          if (!dataTable) return;\n",
       "\n",
       "          const docLinkHtml = 'Like what you see? Visit the ' +\n",
       "            '<a target=\"_blank\" href=https://colab.research.google.com/notebooks/data_table.ipynb>data table notebook</a>'\n",
       "            + ' to learn more about interactive tables.';\n",
       "          element.innerHTML = '';\n",
       "          dataTable['output_type'] = 'display_data';\n",
       "          await google.colab.output.renderOutput(dataTable, element);\n",
       "          const docLink = document.createElement('div');\n",
       "          docLink.innerHTML = docLinkHtml;\n",
       "          element.appendChild(docLink);\n",
       "        }\n",
       "      </script>\n",
       "    </div>\n",
       "  </div>\n",
       "  "
      ],
      "text/plain": [
       "                    count          mean           std      min       25%  \\\n",
       "Year               7253.0   2013.365366      3.254421  1996.00   2011.00   \n",
       "Kilometers_Driven  7253.0  58699.063146  84427.720583   171.00  34000.00   \n",
       "Mileage            7251.0     18.141580      4.562197     0.00     15.17   \n",
       "Engine             7207.0   1616.573470    595.285137    72.00   1198.00   \n",
       "Power              7078.0    112.765214     53.493553    34.20     75.00   \n",
       "Seats              7200.0      5.279722      0.811660     0.00      5.00   \n",
       "New_Price          7253.0     21.307322     24.256314     3.91      7.88   \n",
       "Price              6019.0      9.479468     11.187917     0.44      3.50   \n",
       "\n",
       "                        50%       75%         max  \n",
       "Year                2014.00   2016.00     2019.00  \n",
       "Kilometers_Driven  53416.00  73000.00  6500000.00  \n",
       "Mileage               18.16     21.10       33.54  \n",
       "Engine              1493.00   1968.00     5998.00  \n",
       "Power                 94.00    138.10      616.00  \n",
       "Seats                  5.00      5.00       10.00  \n",
       "New_Price             11.30     21.69      375.00  \n",
       "Price                  5.64      9.95      160.00  "
      ]
     },
     "execution_count": 251,
     "metadata": {},
     "output_type": "execute_result"
    },
    {
     "data": {
      "application/javascript": [
       "\n",
       "            setTimeout(function() {\n",
       "                var nbb_cell_id = 251;\n",
       "                var nbb_unformatted_code = \"# Checking statistical data after making changes to cloumn datatypes\\ndf.describe().T\";\n",
       "                var nbb_formatted_code = \"# Checking statistical data after making changes to cloumn datatypes\\ndf.describe().T\";\n",
       "                var nbb_cells = Jupyter.notebook.get_cells();\n",
       "                for (var i = 0; i < nbb_cells.length; ++i) {\n",
       "                    if (nbb_cells[i].input_prompt_number == nbb_cell_id) {\n",
       "                        if (nbb_cells[i].get_text() == nbb_unformatted_code) {\n",
       "                             nbb_cells[i].set_text(nbb_formatted_code);\n",
       "                        }\n",
       "                        break;\n",
       "                    }\n",
       "                }\n",
       "            }, 500);\n",
       "            "
      ],
      "text/plain": [
       "<IPython.core.display.Javascript object>"
      ]
     },
     "metadata": {},
     "output_type": "display_data"
    }
   ],
   "source": [
    "# Checking statistical data after making changes to cloumn datatypes\n",
    "df.describe().T"
   ]
  },
  {
   "cell_type": "markdown",
   "metadata": {
    "id": "xkyYabnxHXKo"
   },
   "source": [
    "* There is huge difference between min and max Price for the car.\n",
    "* New_Price of the car in most cases is more than twice for used car.\n",
    "* Average year of build for most cars is around 2013/2014"
   ]
  },
  {
   "cell_type": "markdown",
   "metadata": {
    "id": "VSjsgZfNo78i"
   },
   "source": [
    "##### **Univariate Data Analysis**\n",
    "* Analysis of spread and distribution of every feature in the dataset."
   ]
  },
  {
   "cell_type": "markdown",
   "metadata": {
    "id": "CkQ8d3c2pPJt"
   },
   "source": [
    "###### **Exploring numerical values**"
   ]
  },
  {
   "cell_type": "code",
   "execution_count": 252,
   "metadata": {
    "colab": {
     "base_uri": "https://localhost:8080/",
     "height": 0
    },
    "executionInfo": {
     "elapsed": 11,
     "status": "ok",
     "timestamp": 1665697275859,
     "user": {
      "displayName": "Sushant Upadhyay",
      "userId": "05018399502161361441"
     },
     "user_tz": 420
    },
    "id": "zxhmoDR3s7UM",
    "outputId": "b2c8b37b-dd3c-49f4-9ca8-65df6bcc411e"
   },
   "outputs": [
    {
     "data": {
      "application/javascript": [
       "\n",
       "            setTimeout(function() {\n",
       "                var nbb_cell_id = 252;\n",
       "                var nbb_unformatted_code = \"# Defining the function for creating boxplot and hisogram \\ndef histogram_boxplot(data, feature, figsize=(12, 7), kde=False, bins=None):\\n    \\\"\\\"\\\"\\n    Boxplot and histogram combined\\n\\n    data: dataframe\\n    feature: dataframe column\\n    figsize: size of figure (default (12,7))\\n    kde: whether to show the density curve (default False)\\n    bins: number of bins for histogram (default None)\\n    \\\"\\\"\\\"\\n   \\n    \\n    f2, (ax_box2, ax_hist2) = plt.subplots(\\n        nrows=2,  # Number of rows of the subplot grid= 2\\n        sharex=True,  # x-axis will be shared among all subplots\\n        gridspec_kw={\\\"height_ratios\\\": (0.25, 0.75)},\\n        figsize=figsize)  # creating the 2 subplots\\n    \\n    sns.boxplot(data=data, x=feature, ax=ax_box2, showmeans=True, color=\\\"pink\\\")  # boxplot will be created and a star will indicate the mean value of the colum\\n   \\n    if bins:\\n      sns.histplot(data=data, x=feature, kde=kde, ax=ax_hist2, bins=bins, color=\\\"lightgreen\\\")\\n    else: \\n      sns.histplot(data=data, x=feature, kde=kde, ax=ax_hist2, color=\\\"lightblue\\\")  # For histogram\\n    \\n    ax_hist2.axvline(data[feature].mean(), color=\\\"red\\\", linestyle=\\\"--\\\")  # Add mean to the histogram\\n    ax_hist2.text(data[feature].mean()+0.15,30,'Mean = '+str(round(data[feature].mean(),1)),rotation=90, fontsize=10)\\n    \\n    ax_hist2.axvline(data[feature].median(), color=\\\"green\\\", linestyle=\\\"-\\\")  # Add median to the histogram\\n    ax_hist2.text(data[feature].median()+0.15,30,'Median = '+str(round(data[feature].median(),1)),rotation=90, fontsize=10)\";\n",
       "                var nbb_formatted_code = \"# Defining the function for creating boxplot and hisogram\\ndef histogram_boxplot(data, feature, figsize=(12, 7), kde=False, bins=None):\\n    \\\"\\\"\\\"\\n    Boxplot and histogram combined\\n\\n    data: dataframe\\n    feature: dataframe column\\n    figsize: size of figure (default (12,7))\\n    kde: whether to show the density curve (default False)\\n    bins: number of bins for histogram (default None)\\n    \\\"\\\"\\\"\\n\\n    f2, (ax_box2, ax_hist2) = plt.subplots(\\n        nrows=2,  # Number of rows of the subplot grid= 2\\n        sharex=True,  # x-axis will be shared among all subplots\\n        gridspec_kw={\\\"height_ratios\\\": (0.25, 0.75)},\\n        figsize=figsize,\\n    )  # creating the 2 subplots\\n\\n    sns.boxplot(\\n        data=data, x=feature, ax=ax_box2, showmeans=True, color=\\\"pink\\\"\\n    )  # boxplot will be created and a star will indicate the mean value of the colum\\n\\n    if bins:\\n        sns.histplot(\\n            data=data, x=feature, kde=kde, ax=ax_hist2, bins=bins, color=\\\"lightgreen\\\"\\n        )\\n    else:\\n        sns.histplot(\\n            data=data, x=feature, kde=kde, ax=ax_hist2, color=\\\"lightblue\\\"\\n        )  # For histogram\\n\\n    ax_hist2.axvline(\\n        data[feature].mean(), color=\\\"red\\\", linestyle=\\\"--\\\"\\n    )  # Add mean to the histogram\\n    ax_hist2.text(\\n        data[feature].mean() + 0.15,\\n        30,\\n        \\\"Mean = \\\" + str(round(data[feature].mean(), 1)),\\n        rotation=90,\\n        fontsize=10,\\n    )\\n\\n    ax_hist2.axvline(\\n        data[feature].median(), color=\\\"green\\\", linestyle=\\\"-\\\"\\n    )  # Add median to the histogram\\n    ax_hist2.text(\\n        data[feature].median() + 0.15,\\n        30,\\n        \\\"Median = \\\" + str(round(data[feature].median(), 1)),\\n        rotation=90,\\n        fontsize=10,\\n    )\";\n",
       "                var nbb_cells = Jupyter.notebook.get_cells();\n",
       "                for (var i = 0; i < nbb_cells.length; ++i) {\n",
       "                    if (nbb_cells[i].input_prompt_number == nbb_cell_id) {\n",
       "                        if (nbb_cells[i].get_text() == nbb_unformatted_code) {\n",
       "                             nbb_cells[i].set_text(nbb_formatted_code);\n",
       "                        }\n",
       "                        break;\n",
       "                    }\n",
       "                }\n",
       "            }, 500);\n",
       "            "
      ],
      "text/plain": [
       "<IPython.core.display.Javascript object>"
      ]
     },
     "metadata": {},
     "output_type": "display_data"
    }
   ],
   "source": [
    "# Defining the function for creating boxplot and hisogram \n",
    "def histogram_boxplot(data, feature, figsize=(12, 7), kde=False, bins=None):\n",
    "    \"\"\"\n",
    "    Boxplot and histogram combined\n",
    "\n",
    "    data: dataframe\n",
    "    feature: dataframe column\n",
    "    figsize: size of figure (default (12,7))\n",
    "    kde: whether to show the density curve (default False)\n",
    "    bins: number of bins for histogram (default None)\n",
    "    \"\"\"\n",
    "   \n",
    "    \n",
    "    f2, (ax_box2, ax_hist2) = plt.subplots(\n",
    "        nrows=2,  # Number of rows of the subplot grid= 2\n",
    "        sharex=True,  # x-axis will be shared among all subplots\n",
    "        gridspec_kw={\"height_ratios\": (0.25, 0.75)},\n",
    "        figsize=figsize)  # creating the 2 subplots\n",
    "    \n",
    "    sns.boxplot(data=data, x=feature, ax=ax_box2, showmeans=True, color=\"pink\")  # boxplot will be created and a star will indicate the mean value of the colum\n",
    "   \n",
    "    if bins:\n",
    "      sns.histplot(data=data, x=feature, kde=kde, ax=ax_hist2, bins=bins, color=\"lightgreen\")\n",
    "    else: \n",
    "      sns.histplot(data=data, x=feature, kde=kde, ax=ax_hist2, color=\"lightblue\")  # For histogram\n",
    "    \n",
    "    ax_hist2.axvline(data[feature].mean(), color=\"red\", linestyle=\"--\")  # Add mean to the histogram\n",
    "    ax_hist2.text(data[feature].mean()+0.15,30,'Mean = '+str(round(data[feature].mean(),1)),rotation=90, fontsize=10)\n",
    "    \n",
    "    ax_hist2.axvline(data[feature].median(), color=\"green\", linestyle=\"-\")  # Add median to the histogram\n",
    "    ax_hist2.text(data[feature].median()+0.15,30,'Median = '+str(round(data[feature].median(),1)),rotation=90, fontsize=10)"
   ]
  },
  {
   "cell_type": "code",
   "execution_count": 253,
   "metadata": {
    "colab": {
     "base_uri": "https://localhost:8080/",
     "height": 0
    },
    "executionInfo": {
     "elapsed": 638,
     "status": "ok",
     "timestamp": 1665697276487,
     "user": {
      "displayName": "Sushant Upadhyay",
      "userId": "05018399502161361441"
     },
     "user_tz": 420
    },
    "id": "GsUigOIntALc",
    "outputId": "87b0218d-b7c2-4464-b682-29c4603b5217"
   },
   "outputs": [
    {
     "data": {
      "image/png": "[encoded data removed]",
      "text/plain": [
       "<Figure size 864x504 with 2 Axes>"
      ]
     },
     "metadata": {},
     "output_type": "display_data"
    },
    {
     "data": {
      "application/javascript": [
       "\n",
       "            setTimeout(function() {\n",
       "                var nbb_cell_id = 253;\n",
       "                var nbb_unformatted_code = \"# Observations on Year for demographic\\nhistogram_boxplot(df,'Year')\";\n",
       "                var nbb_formatted_code = \"# Observations on Year for demographic\\nhistogram_boxplot(df, \\\"Year\\\")\";\n",
       "                var nbb_cells = Jupyter.notebook.get_cells();\n",
       "                for (var i = 0; i < nbb_cells.length; ++i) {\n",
       "                    if (nbb_cells[i].input_prompt_number == nbb_cell_id) {\n",
       "                        if (nbb_cells[i].get_text() == nbb_unformatted_code) {\n",
       "                             nbb_cells[i].set_text(nbb_formatted_code);\n",
       "                        }\n",
       "                        break;\n",
       "                    }\n",
       "                }\n",
       "            }, 500);\n",
       "            "
      ],
      "text/plain": [
       "<IPython.core.display.Javascript object>"
      ]
     },
     "metadata": {},
     "output_type": "display_data"
    }
   ],
   "source": [
    "# Observations on Year for demographic\n",
    "histogram_boxplot(df,'Year')"
   ]
  },
  {
   "cell_type": "markdown",
   "metadata": {
    "id": "SpmXQNuGCYnq"
   },
   "source": [
    "- *Mileage seems to be uniformally distributes. Meddian and mean are pretty close. 2013/2014*"
   ]
  },
  {
   "cell_type": "code",
   "execution_count": 254,
   "metadata": {
    "colab": {
     "base_uri": "https://localhost:8080/",
     "height": 0
    },
    "executionInfo": {
     "elapsed": 1236,
     "status": "ok",
     "timestamp": 1665697277720,
     "user": {
      "displayName": "Sushant Upadhyay",
      "userId": "05018399502161361441"
     },
     "user_tz": 420
    },
    "id": "UN3Xpq7wGJrw",
    "outputId": "c8570d75-cf8b-430b-f7a8-dca9e943f428"
   },
   "outputs": [
    {
     "data": {
      "image/png": "[encoded data removed]",
      "text/plain": [
       "<Figure size 864x504 with 2 Axes>"
      ]
     },
     "metadata": {},
     "output_type": "display_data"
    },
    {
     "data": {
      "application/javascript": [
       "\n",
       "            setTimeout(function() {\n",
       "                var nbb_cell_id = 254;\n",
       "                var nbb_unformatted_code = \"# Observations on Kilometers_Driven for demographic\\nhistogram_boxplot(df,'Kilometers_Driven',bins=20)\";\n",
       "                var nbb_formatted_code = \"# Observations on Kilometers_Driven for demographic\\nhistogram_boxplot(df, \\\"Kilometers_Driven\\\", bins=20)\";\n",
       "                var nbb_cells = Jupyter.notebook.get_cells();\n",
       "                for (var i = 0; i < nbb_cells.length; ++i) {\n",
       "                    if (nbb_cells[i].input_prompt_number == nbb_cell_id) {\n",
       "                        if (nbb_cells[i].get_text() == nbb_unformatted_code) {\n",
       "                             nbb_cells[i].set_text(nbb_formatted_code);\n",
       "                        }\n",
       "                        break;\n",
       "                    }\n",
       "                }\n",
       "            }, 500);\n",
       "            "
      ],
      "text/plain": [
       "<IPython.core.display.Javascript object>"
      ]
     },
     "metadata": {},
     "output_type": "display_data"
    }
   ],
   "source": [
    "# Observations on Kilometers_Driven for demographic\n",
    "histogram_boxplot(df,'Kilometers_Driven',bins=20)"
   ]
  },
  {
   "cell_type": "markdown",
   "metadata": {
    "id": "19azRQREHK30"
   },
   "source": [
    "- *Kilometers_Driven has max value which is much more than 75%.*"
   ]
  },
  {
   "cell_type": "code",
   "execution_count": 255,
   "metadata": {
    "colab": {
     "base_uri": "https://localhost:8080/",
     "height": 0
    },
    "executionInfo": {
     "elapsed": 662,
     "status": "ok",
     "timestamp": 1665697278380,
     "user": {
      "displayName": "Sushant Upadhyay",
      "userId": "05018399502161361441"
     },
     "user_tz": 420
    },
    "id": "pR1M3zU0tLS5",
    "outputId": "e784c008-b762-403d-a1b1-65abd7dd63b1"
   },
   "outputs": [
    {
     "data": {
      "image/png": "[encoded data removed]",
      "text/plain": [
       "<Figure size 864x504 with 2 Axes>"
      ]
     },
     "metadata": {},
     "output_type": "display_data"
    },
    {
     "data": {
      "application/javascript": [
       "\n",
       "            setTimeout(function() {\n",
       "                var nbb_cell_id = 255;\n",
       "                var nbb_unformatted_code = \"# Observations on Price for demographic\\nhistogram_boxplot(df,'Price', bins=10)\";\n",
       "                var nbb_formatted_code = \"# Observations on Price for demographic\\nhistogram_boxplot(df, \\\"Price\\\", bins=10)\";\n",
       "                var nbb_cells = Jupyter.notebook.get_cells();\n",
       "                for (var i = 0; i < nbb_cells.length; ++i) {\n",
       "                    if (nbb_cells[i].input_prompt_number == nbb_cell_id) {\n",
       "                        if (nbb_cells[i].get_text() == nbb_unformatted_code) {\n",
       "                             nbb_cells[i].set_text(nbb_formatted_code);\n",
       "                        }\n",
       "                        break;\n",
       "                    }\n",
       "                }\n",
       "            }, 500);\n",
       "            "
      ],
      "text/plain": [
       "<IPython.core.display.Javascript object>"
      ]
     },
     "metadata": {},
     "output_type": "display_data"
    }
   ],
   "source": [
    "# Observations on Price for demographic\n",
    "histogram_boxplot(df,'Price', bins=10)"
   ]
  },
  {
   "cell_type": "markdown",
   "metadata": {
    "id": "gYgvrbCvCls6"
   },
   "source": [
    "- *Price is right scewed. There are many outliers based on boxplot*"
   ]
  },
  {
   "cell_type": "code",
   "execution_count": 256,
   "metadata": {
    "colab": {
     "base_uri": "https://localhost:8080/",
     "height": 0
    },
    "executionInfo": {
     "elapsed": 464,
     "status": "ok",
     "timestamp": 1665697278841,
     "user": {
      "displayName": "Sushant Upadhyay",
      "userId": "05018399502161361441"
     },
     "user_tz": 420
    },
    "id": "LLD_cVE_B1c1",
    "outputId": "85cdbae6-c2db-45c5-c79e-7c53e4d39c9c"
   },
   "outputs": [
    {
     "data": {
      "image/png": "[encoded data removed]",
      "text/plain": [
       "<Figure size 864x504 with 2 Axes>"
      ]
     },
     "metadata": {},
     "output_type": "display_data"
    },
    {
     "data": {
      "application/javascript": [
       "\n",
       "            setTimeout(function() {\n",
       "                var nbb_cell_id = 256;\n",
       "                var nbb_unformatted_code = \"# Observations on Mileage for demographic\\nhistogram_boxplot(df,'Mileage')\";\n",
       "                var nbb_formatted_code = \"# Observations on Mileage for demographic\\nhistogram_boxplot(df, \\\"Mileage\\\")\";\n",
       "                var nbb_cells = Jupyter.notebook.get_cells();\n",
       "                for (var i = 0; i < nbb_cells.length; ++i) {\n",
       "                    if (nbb_cells[i].input_prompt_number == nbb_cell_id) {\n",
       "                        if (nbb_cells[i].get_text() == nbb_unformatted_code) {\n",
       "                             nbb_cells[i].set_text(nbb_formatted_code);\n",
       "                        }\n",
       "                        break;\n",
       "                    }\n",
       "                }\n",
       "            }, 500);\n",
       "            "
      ],
      "text/plain": [
       "<IPython.core.display.Javascript object>"
      ]
     },
     "metadata": {},
     "output_type": "display_data"
    }
   ],
   "source": [
    "# Observations on Mileage for demographic\n",
    "histogram_boxplot(df,'Mileage')"
   ]
  },
  {
   "cell_type": "markdown",
   "metadata": {
    "id": "XE0kEsjaC4C7"
   },
   "source": [
    "- *Mileage seems to have normal distribution.*"
   ]
  },
  {
   "cell_type": "code",
   "execution_count": 257,
   "metadata": {
    "colab": {
     "base_uri": "https://localhost:8080/",
     "height": 0
    },
    "executionInfo": {
     "elapsed": 1361,
     "status": "ok",
     "timestamp": 1665697280200,
     "user": {
      "displayName": "Sushant Upadhyay",
      "userId": "05018399502161361441"
     },
     "user_tz": 420
    },
    "id": "FmAUDGhpB43m",
    "outputId": "9a32d5fb-d627-4915-f032-47e228ffb9c4"
   },
   "outputs": [
    {
     "data": {
      "image/png": "[encoded data removed]",
      "text/plain": [
       "<Figure size 864x504 with 2 Axes>"
      ]
     },
     "metadata": {},
     "output_type": "display_data"
    },
    {
     "data": {
      "application/javascript": [
       "\n",
       "            setTimeout(function() {\n",
       "                var nbb_cell_id = 257;\n",
       "                var nbb_unformatted_code = \"# Observations on Power for demographic\\nhistogram_boxplot(df,'Power')\";\n",
       "                var nbb_formatted_code = \"# Observations on Power for demographic\\nhistogram_boxplot(df, \\\"Power\\\")\";\n",
       "                var nbb_cells = Jupyter.notebook.get_cells();\n",
       "                for (var i = 0; i < nbb_cells.length; ++i) {\n",
       "                    if (nbb_cells[i].input_prompt_number == nbb_cell_id) {\n",
       "                        if (nbb_cells[i].get_text() == nbb_unformatted_code) {\n",
       "                             nbb_cells[i].set_text(nbb_formatted_code);\n",
       "                        }\n",
       "                        break;\n",
       "                    }\n",
       "                }\n",
       "            }, 500);\n",
       "            "
      ],
      "text/plain": [
       "<IPython.core.display.Javascript object>"
      ]
     },
     "metadata": {},
     "output_type": "display_data"
    }
   ],
   "source": [
    "# Observations on Power for demographic\n",
    "histogram_boxplot(df,'Power')"
   ]
  },
  {
   "cell_type": "markdown",
   "metadata": {
    "id": "ek35zTbYDCtS"
   },
   "source": [
    "- *Power for Engone has many outliers.*"
   ]
  },
  {
   "cell_type": "markdown",
   "metadata": {
    "id": "_z1pANWbpRUg"
   },
   "source": [
    "###### **Exploring Categorical values**"
   ]
  },
  {
   "cell_type": "code",
   "execution_count": 258,
   "metadata": {
    "colab": {
     "base_uri": "https://localhost:8080/",
     "height": 0
    },
    "executionInfo": {
     "elapsed": 7,
     "status": "ok",
     "timestamp": 1665697280201,
     "user": {
      "displayName": "Sushant Upadhyay",
      "userId": "05018399502161361441"
     },
     "user_tz": 420
    },
    "id": "CTNpzapCSU55",
    "outputId": "e4f524c6-2f11-4c5c-dc79-f1276338de73"
   },
   "outputs": [
    {
     "name": "stdout",
     "output_type": "stream",
     "text": [
      "Mumbai        949\n",
      "Hyderabad     876\n",
      "Coimbatore    772\n",
      "Kochi         772\n",
      "Pune          765\n",
      "Delhi         660\n",
      "Kolkata       654\n",
      "Chennai       591\n",
      "Jaipur        499\n",
      "Bangalore     440\n",
      "Ahmedabad     275\n",
      "Name: Location, dtype: int64\n",
      "--------------------------------------------------\n",
      "Diesel      3852\n",
      "Petrol      3325\n",
      "CNG           62\n",
      "LPG           12\n",
      "Electric       2\n",
      "Name: Fuel_Type, dtype: int64\n",
      "--------------------------------------------------\n",
      "Manual       5204\n",
      "Automatic    2049\n",
      "Name: Transmission, dtype: int64\n",
      "--------------------------------------------------\n",
      "First             5952\n",
      "Second            1152\n",
      "Third              137\n",
      "Fourth & Above      12\n",
      "Name: Owner_Type, dtype: int64\n",
      "--------------------------------------------------\n",
      "5.0     6047\n",
      "7.0      796\n",
      "8.0      170\n",
      "4.0      119\n",
      "6.0       38\n",
      "2.0       18\n",
      "10.0       8\n",
      "9.0        3\n",
      "0.0        1\n",
      "Name: Seats, dtype: int64\n",
      "--------------------------------------------------\n"
     ]
    },
    {
     "data": {
      "application/javascript": [
       "\n",
       "            setTimeout(function() {\n",
       "                var nbb_cell_id = 258;\n",
       "                var nbb_unformatted_code = \"# Making a list of all categorical variables\\ncat_cols =  ['Location', 'Fuel_Type', 'Transmission', 'Owner_Type', 'Seats']\\n\\n# Printing the count of unique categorical levels in each column\\nfor column in cat_cols:\\n    print(df[column].value_counts())\\n    print(\\\"-\\\" * 50)\";\n",
       "                var nbb_formatted_code = \"# Making a list of all categorical variables\\ncat_cols = [\\\"Location\\\", \\\"Fuel_Type\\\", \\\"Transmission\\\", \\\"Owner_Type\\\", \\\"Seats\\\"]\\n\\n# Printing the count of unique categorical levels in each column\\nfor column in cat_cols:\\n    print(df[column].value_counts())\\n    print(\\\"-\\\" * 50)\";\n",
       "                var nbb_cells = Jupyter.notebook.get_cells();\n",
       "                for (var i = 0; i < nbb_cells.length; ++i) {\n",
       "                    if (nbb_cells[i].input_prompt_number == nbb_cell_id) {\n",
       "                        if (nbb_cells[i].get_text() == nbb_unformatted_code) {\n",
       "                             nbb_cells[i].set_text(nbb_formatted_code);\n",
       "                        }\n",
       "                        break;\n",
       "                    }\n",
       "                }\n",
       "            }, 500);\n",
       "            "
      ],
      "text/plain": [
       "<IPython.core.display.Javascript object>"
      ]
     },
     "metadata": {},
     "output_type": "display_data"
    }
   ],
   "source": [
    "# Making a list of all categorical variables\n",
    "cat_cols =  ['Location', 'Fuel_Type', 'Transmission', 'Owner_Type', 'Seats']\n",
    "\n",
    "# Printing the count of unique categorical levels in each column\n",
    "for column in cat_cols:\n",
    "    print(df[column].value_counts())\n",
    "    print(\"-\" * 50)"
   ]
  },
  {
   "cell_type": "code",
   "execution_count": 259,
   "metadata": {
    "colab": {
     "base_uri": "https://localhost:8080/",
     "height": 0
    },
    "executionInfo": {
     "elapsed": 505,
     "status": "ok",
     "timestamp": 1665697280702,
     "user": {
      "displayName": "Sushant Upadhyay",
      "userId": "05018399502161361441"
     },
     "user_tz": 420
    },
    "id": "EgvfRgn6tsdK",
    "outputId": "fe4b306d-aebb-4911-b888-543d1e07ef99"
   },
   "outputs": [
    {
     "data": {
      "image/png": "[encoded data removed]",
      "text/plain": [
       "<Figure size 432x288 with 1 Axes>"
      ]
     },
     "metadata": {},
     "output_type": "display_data"
    },
    {
     "data": {
      "application/javascript": [
       "\n",
       "            setTimeout(function() {\n",
       "                var nbb_cell_id = 259;\n",
       "                var nbb_unformatted_code = \"#Observation with Product\\nsns.countplot(data=df,x='Location')\\nplt.xticks(rotation=90)\\nplt.show()\";\n",
       "                var nbb_formatted_code = \"# Observation with Product\\nsns.countplot(data=df, x=\\\"Location\\\")\\nplt.xticks(rotation=90)\\nplt.show()\";\n",
       "                var nbb_cells = Jupyter.notebook.get_cells();\n",
       "                for (var i = 0; i < nbb_cells.length; ++i) {\n",
       "                    if (nbb_cells[i].input_prompt_number == nbb_cell_id) {\n",
       "                        if (nbb_cells[i].get_text() == nbb_unformatted_code) {\n",
       "                             nbb_cells[i].set_text(nbb_formatted_code);\n",
       "                        }\n",
       "                        break;\n",
       "                    }\n",
       "                }\n",
       "            }, 500);\n",
       "            "
      ],
      "text/plain": [
       "<IPython.core.display.Javascript object>"
      ]
     },
     "metadata": {},
     "output_type": "display_data"
    }
   ],
   "source": [
    "#Observation with Product\n",
    "sns.countplot(data=df,x='Location')\n",
    "plt.xticks(rotation=90)\n",
    "plt.show()"
   ]
  },
  {
   "cell_type": "markdown",
   "metadata": {
    "id": "b0LrLXgKDJO9"
   },
   "source": [
    "- *Mumbai has highest numbers of used cars for sell. Other cities are also showing significant number*"
   ]
  },
  {
   "cell_type": "code",
   "execution_count": 260,
   "metadata": {
    "colab": {
     "base_uri": "https://localhost:8080/",
     "height": 0
    },
    "executionInfo": {
     "elapsed": 440,
     "status": "ok",
     "timestamp": 1665697281139,
     "user": {
      "displayName": "Sushant Upadhyay",
      "userId": "05018399502161361441"
     },
     "user_tz": 420
    },
    "id": "f6Hf4BkcvViW",
    "outputId": "864f8987-8901-4f30-dac0-5310084c1148"
   },
   "outputs": [
    {
     "data": {
      "image/png": "[encoded data removed]",
      "text/plain": [
       "<Figure size 432x288 with 1 Axes>"
      ]
     },
     "metadata": {},
     "output_type": "display_data"
    },
    {
     "data": {
      "application/javascript": [
       "\n",
       "            setTimeout(function() {\n",
       "                var nbb_cell_id = 260;\n",
       "                var nbb_unformatted_code = \"#Observation with Fuel_Type\\nsns.countplot(data=df,x='Fuel_Type')\\nplt.xticks(rotation=90)\\nplt.show()\";\n",
       "                var nbb_formatted_code = \"# Observation with Fuel_Type\\nsns.countplot(data=df, x=\\\"Fuel_Type\\\")\\nplt.xticks(rotation=90)\\nplt.show()\";\n",
       "                var nbb_cells = Jupyter.notebook.get_cells();\n",
       "                for (var i = 0; i < nbb_cells.length; ++i) {\n",
       "                    if (nbb_cells[i].input_prompt_number == nbb_cell_id) {\n",
       "                        if (nbb_cells[i].get_text() == nbb_unformatted_code) {\n",
       "                             nbb_cells[i].set_text(nbb_formatted_code);\n",
       "                        }\n",
       "                        break;\n",
       "                    }\n",
       "                }\n",
       "            }, 500);\n",
       "            "
      ],
      "text/plain": [
       "<IPython.core.display.Javascript object>"
      ]
     },
     "metadata": {},
     "output_type": "display_data"
    }
   ],
   "source": [
    "#Observation with Fuel_Type\n",
    "sns.countplot(data=df,x='Fuel_Type')\n",
    "plt.xticks(rotation=90)\n",
    "plt.show()"
   ]
  },
  {
   "cell_type": "markdown",
   "metadata": {
    "id": "z3RZ6tKrwKBP"
   },
   "source": [
    "- *Diesel and Petrol cars have max values in Fuel Type. There are very few cars with CNG and LPG*"
   ]
  },
  {
   "cell_type": "code",
   "execution_count": 261,
   "metadata": {
    "colab": {
     "base_uri": "https://localhost:8080/",
     "height": 0
    },
    "executionInfo": {
     "elapsed": 308,
     "status": "ok",
     "timestamp": 1665697281444,
     "user": {
      "displayName": "Sushant Upadhyay",
      "userId": "05018399502161361441"
     },
     "user_tz": 420
    },
    "id": "wrjTxnJJvjag",
    "outputId": "fd7cdb94-ba8c-455b-eccf-f34a8c18dcd7"
   },
   "outputs": [
    {
     "data": {
      "image/png": "[encoded data removed]",
      "text/plain": [
       "<Figure size 432x288 with 1 Axes>"
      ]
     },
     "metadata": {},
     "output_type": "display_data"
    },
    {
     "data": {
      "application/javascript": [
       "\n",
       "            setTimeout(function() {\n",
       "                var nbb_cell_id = 261;\n",
       "                var nbb_unformatted_code = \"#Observation with Transmission\\nsns.countplot(data=df,x='Transmission')\\nplt.xticks(rotation=90)\\nplt.show()\";\n",
       "                var nbb_formatted_code = \"# Observation with Transmission\\nsns.countplot(data=df, x=\\\"Transmission\\\")\\nplt.xticks(rotation=90)\\nplt.show()\";\n",
       "                var nbb_cells = Jupyter.notebook.get_cells();\n",
       "                for (var i = 0; i < nbb_cells.length; ++i) {\n",
       "                    if (nbb_cells[i].input_prompt_number == nbb_cell_id) {\n",
       "                        if (nbb_cells[i].get_text() == nbb_unformatted_code) {\n",
       "                             nbb_cells[i].set_text(nbb_formatted_code);\n",
       "                        }\n",
       "                        break;\n",
       "                    }\n",
       "                }\n",
       "            }, 500);\n",
       "            "
      ],
      "text/plain": [
       "<IPython.core.display.Javascript object>"
      ]
     },
     "metadata": {},
     "output_type": "display_data"
    }
   ],
   "source": [
    "#Observation with Transmission\n",
    "sns.countplot(data=df,x='Transmission')\n",
    "plt.xticks(rotation=90)\n",
    "plt.show()"
   ]
  },
  {
   "cell_type": "markdown",
   "metadata": {
    "id": "ymQbyEdvwVOb"
   },
   "source": [
    "- *There are more cars with Manual Transmission*"
   ]
  },
  {
   "cell_type": "code",
   "execution_count": 262,
   "metadata": {
    "colab": {
     "base_uri": "https://localhost:8080/",
     "height": 0
    },
    "executionInfo": {
     "elapsed": 421,
     "status": "ok",
     "timestamp": 1665697281861,
     "user": {
      "displayName": "Sushant Upadhyay",
      "userId": "05018399502161361441"
     },
     "user_tz": 420
    },
    "id": "gbft4WzTvlhX",
    "outputId": "cc35037e-c2a3-4dc5-e30e-f58d419f6755"
   },
   "outputs": [
    {
     "data": {
      "image/png": "[encoded data removed]",
      "text/plain": [
       "<Figure size 432x288 with 1 Axes>"
      ]
     },
     "metadata": {},
     "output_type": "display_data"
    },
    {
     "data": {
      "application/javascript": [
       "\n",
       "            setTimeout(function() {\n",
       "                var nbb_cell_id = 262;\n",
       "                var nbb_unformatted_code = \"#Observation with Owner_Type\\nsns.countplot(data=df,x='Owner_Type')\\nplt.xticks(rotation=90)\\nplt.show()\";\n",
       "                var nbb_formatted_code = \"# Observation with Owner_Type\\nsns.countplot(data=df, x=\\\"Owner_Type\\\")\\nplt.xticks(rotation=90)\\nplt.show()\";\n",
       "                var nbb_cells = Jupyter.notebook.get_cells();\n",
       "                for (var i = 0; i < nbb_cells.length; ++i) {\n",
       "                    if (nbb_cells[i].input_prompt_number == nbb_cell_id) {\n",
       "                        if (nbb_cells[i].get_text() == nbb_unformatted_code) {\n",
       "                             nbb_cells[i].set_text(nbb_formatted_code);\n",
       "                        }\n",
       "                        break;\n",
       "                    }\n",
       "                }\n",
       "            }, 500);\n",
       "            "
      ],
      "text/plain": [
       "<IPython.core.display.Javascript object>"
      ]
     },
     "metadata": {},
     "output_type": "display_data"
    }
   ],
   "source": [
    "#Observation with Owner_Type\n",
    "sns.countplot(data=df,x='Owner_Type')\n",
    "plt.xticks(rotation=90)\n",
    "plt.show()"
   ]
  },
  {
   "cell_type": "code",
   "execution_count": 263,
   "metadata": {
    "colab": {
     "base_uri": "https://localhost:8080/",
     "height": 0
    },
    "executionInfo": {
     "elapsed": 565,
     "status": "ok",
     "timestamp": 1665697282424,
     "user": {
      "displayName": "Sushant Upadhyay",
      "userId": "05018399502161361441"
     },
     "user_tz": 420
    },
    "id": "Gke1KVeCSpGL",
    "outputId": "68d66c79-b0bd-4243-a616-564e8a9a8b5d"
   },
   "outputs": [
    {
     "data": {
      "image/png": "[encoded data removed]",
      "text/plain": [
       "<Figure size 432x288 with 1 Axes>"
      ]
     },
     "metadata": {},
     "output_type": "display_data"
    },
    {
     "data": {
      "application/javascript": [
       "\n",
       "            setTimeout(function() {\n",
       "                var nbb_cell_id = 263;\n",
       "                var nbb_unformatted_code = \"#Observation with Seats\\nsns.countplot(data=df,x='Seats')\\nplt.show()\";\n",
       "                var nbb_formatted_code = \"# Observation with Seats\\nsns.countplot(data=df, x=\\\"Seats\\\")\\nplt.show()\";\n",
       "                var nbb_cells = Jupyter.notebook.get_cells();\n",
       "                for (var i = 0; i < nbb_cells.length; ++i) {\n",
       "                    if (nbb_cells[i].input_prompt_number == nbb_cell_id) {\n",
       "                        if (nbb_cells[i].get_text() == nbb_unformatted_code) {\n",
       "                             nbb_cells[i].set_text(nbb_formatted_code);\n",
       "                        }\n",
       "                        break;\n",
       "                    }\n",
       "                }\n",
       "            }, 500);\n",
       "            "
      ],
      "text/plain": [
       "<IPython.core.display.Javascript object>"
      ]
     },
     "metadata": {},
     "output_type": "display_data"
    }
   ],
   "source": [
    "#Observation with Seats\n",
    "sns.countplot(data=df,x='Seats')\n",
    "plt.show()"
   ]
  },
  {
   "cell_type": "markdown",
   "metadata": {
    "id": "qolOxdugwdFJ"
   },
   "source": [
    "- *Most of used cars owners in the market are First time owners.*"
   ]
  },
  {
   "cell_type": "code",
   "execution_count": 264,
   "metadata": {
    "colab": {
     "base_uri": "https://localhost:8080/",
     "height": 0
    },
    "executionInfo": {
     "elapsed": 6,
     "status": "ok",
     "timestamp": 1665697282425,
     "user": {
      "displayName": "Sushant Upadhyay",
      "userId": "05018399502161361441"
     },
     "user_tz": 420
    },
    "id": "OSz0Hc8b94Qr",
    "outputId": "661921d0-2889-49a3-8ecc-2079ef5cd73a"
   },
   "outputs": [
    {
     "name": "stdout",
     "output_type": "stream",
     "text": [
      "<class 'pandas.core.frame.DataFrame'>\n",
      "RangeIndex: 7253 entries, 0 to 7252\n",
      "Data columns (total 12 columns):\n",
      " #   Column             Non-Null Count  Dtype  \n",
      "---  ------             --------------  -----  \n",
      " 0   Location           7253 non-null   object \n",
      " 1   Year               7253 non-null   int64  \n",
      " 2   Kilometers_Driven  7253 non-null   int64  \n",
      " 3   Fuel_Type          7253 non-null   object \n",
      " 4   Transmission       7253 non-null   object \n",
      " 5   Owner_Type         7253 non-null   object \n",
      " 6   Mileage            7251 non-null   float64\n",
      " 7   Engine             7207 non-null   float64\n",
      " 8   Power              7078 non-null   float64\n",
      " 9   Seats              7200 non-null   float64\n",
      " 10  New_Price          7253 non-null   float64\n",
      " 11  Price              6019 non-null   float64\n",
      "dtypes: float64(6), int64(2), object(4)\n",
      "memory usage: 680.1+ KB\n"
     ]
    },
    {
     "data": {
      "application/javascript": [
       "\n",
       "            setTimeout(function() {\n",
       "                var nbb_cell_id = 264;\n",
       "                var nbb_unformatted_code = \"df.info()\";\n",
       "                var nbb_formatted_code = \"df.info()\";\n",
       "                var nbb_cells = Jupyter.notebook.get_cells();\n",
       "                for (var i = 0; i < nbb_cells.length; ++i) {\n",
       "                    if (nbb_cells[i].input_prompt_number == nbb_cell_id) {\n",
       "                        if (nbb_cells[i].get_text() == nbb_unformatted_code) {\n",
       "                             nbb_cells[i].set_text(nbb_formatted_code);\n",
       "                        }\n",
       "                        break;\n",
       "                    }\n",
       "                }\n",
       "            }, 500);\n",
       "            "
      ],
      "text/plain": [
       "<IPython.core.display.Javascript object>"
      ]
     },
     "metadata": {},
     "output_type": "display_data"
    }
   ],
   "source": [
    "df.info()"
   ]
  },
  {
   "cell_type": "markdown",
   "metadata": {
    "id": "vFq8tXhCpAp2"
   },
   "source": [
    "##### **Multivariate Data Analysis**\n",
    "* Analysis of interaction between features, in the dataset."
   ]
  },
  {
   "cell_type": "code",
   "execution_count": 265,
   "metadata": {
    "colab": {
     "base_uri": "https://localhost:8080/",
     "height": 0
    },
    "executionInfo": {
     "elapsed": 1591,
     "status": "ok",
     "timestamp": 1665697284012,
     "user": {
      "displayName": "Sushant Upadhyay",
      "userId": "05018399502161361441"
     },
     "user_tz": 420
    },
    "id": "M5_iZPWE9ycX",
    "outputId": "6e17ff46-1743-4440-ab7e-8e8d6b7cadf2"
   },
   "outputs": [
    {
     "data": {
      "image/png": "[encoded data removed]",
      "text/plain": [
       "<Figure size 1080x504 with 2 Axes>"
      ]
     },
     "metadata": {},
     "output_type": "display_data"
    },
    {
     "data": {
      "application/javascript": [
       "\n",
       "            setTimeout(function() {\n",
       "                var nbb_cell_id = 265;\n",
       "                var nbb_unformatted_code = \"# Check for correlation among numerical variables\\nnum_var = ['Year','Kilometers_Driven','Mileage','Engine','Power', 'Seats','New_Price', 'Price']\\n\\ncorr = df[num_var].corr()\\n\\n# plot the heatmap\\n\\nplt.figure(figsize=(15, 7))\\nsns.heatmap(corr, annot=True, vmin=-1, vmax=1, fmt=\\\".2f\\\", cmap=\\\"Spectral\\\")\\nplt.show()\";\n",
       "                var nbb_formatted_code = \"# Check for correlation among numerical variables\\nnum_var = [\\n    \\\"Year\\\",\\n    \\\"Kilometers_Driven\\\",\\n    \\\"Mileage\\\",\\n    \\\"Engine\\\",\\n    \\\"Power\\\",\\n    \\\"Seats\\\",\\n    \\\"New_Price\\\",\\n    \\\"Price\\\",\\n]\\n\\ncorr = df[num_var].corr()\\n\\n# plot the heatmap\\n\\nplt.figure(figsize=(15, 7))\\nsns.heatmap(corr, annot=True, vmin=-1, vmax=1, fmt=\\\".2f\\\", cmap=\\\"Spectral\\\")\\nplt.show()\";\n",
       "                var nbb_cells = Jupyter.notebook.get_cells();\n",
       "                for (var i = 0; i < nbb_cells.length; ++i) {\n",
       "                    if (nbb_cells[i].input_prompt_number == nbb_cell_id) {\n",
       "                        if (nbb_cells[i].get_text() == nbb_unformatted_code) {\n",
       "                             nbb_cells[i].set_text(nbb_formatted_code);\n",
       "                        }\n",
       "                        break;\n",
       "                    }\n",
       "                }\n",
       "            }, 500);\n",
       "            "
      ],
      "text/plain": [
       "<IPython.core.display.Javascript object>"
      ]
     },
     "metadata": {},
     "output_type": "display_data"
    }
   ],
   "source": [
    "# Check for correlation among numerical variables\n",
    "num_var = ['Year','Kilometers_Driven','Mileage','Engine','Power', 'Seats','New_Price', 'Price']\n",
    "\n",
    "corr = df[num_var].corr()\n",
    "\n",
    "# plot the heatmap\n",
    "\n",
    "plt.figure(figsize=(15, 7))\n",
    "sns.heatmap(corr, annot=True, vmin=-1, vmax=1, fmt=\".2f\", cmap=\"Spectral\")\n",
    "plt.show()"
   ]
  },
  {
   "cell_type": "markdown",
   "metadata": {
    "id": "N0zDsb6lIBWu"
   },
   "source": [
    "* Price has high positive correlation with Power and Engine.\n",
    "* Price has negative correlation with Mileage. If the car is driven more, value of the car is depreciated.\n",
    "* Interesting - Kilometers_Driven is very minor negative correlation with Price. This needs to be evaluated. "
   ]
  },
  {
   "cell_type": "code",
   "execution_count": 266,
   "metadata": {
    "colab": {
     "base_uri": "https://localhost:8080/",
     "height": 0
    },
    "executionInfo": {
     "elapsed": 393,
     "status": "ok",
     "timestamp": 1665697284402,
     "user": {
      "displayName": "Sushant Upadhyay",
      "userId": "05018399502161361441"
     },
     "user_tz": 420
    },
    "id": "xs94qDAeUrwt",
    "outputId": "d9985232-d7a5-4b57-e7f5-35b5fd363a59"
   },
   "outputs": [
    {
     "data": {
      "image/png": "[encoded data removed]",
      "text/plain": [
       "<Figure size 1080x360 with 1 Axes>"
      ]
     },
     "metadata": {},
     "output_type": "display_data"
    },
    {
     "data": {
      "application/javascript": [
       "\n",
       "            setTimeout(function() {\n",
       "                var nbb_cell_id = 266;\n",
       "                var nbb_unformatted_code = \"plt.figure(figsize=(15,5))\\nsns.lineplot(data=df,x='Year',y='Price',ci=None)\\nplt.show()\";\n",
       "                var nbb_formatted_code = \"plt.figure(figsize=(15, 5))\\nsns.lineplot(data=df, x=\\\"Year\\\", y=\\\"Price\\\", ci=None)\\nplt.show()\";\n",
       "                var nbb_cells = Jupyter.notebook.get_cells();\n",
       "                for (var i = 0; i < nbb_cells.length; ++i) {\n",
       "                    if (nbb_cells[i].input_prompt_number == nbb_cell_id) {\n",
       "                        if (nbb_cells[i].get_text() == nbb_unformatted_code) {\n",
       "                             nbb_cells[i].set_text(nbb_formatted_code);\n",
       "                        }\n",
       "                        break;\n",
       "                    }\n",
       "                }\n",
       "            }, 500);\n",
       "            "
      ],
      "text/plain": [
       "<IPython.core.display.Javascript object>"
      ]
     },
     "metadata": {},
     "output_type": "display_data"
    }
   ],
   "source": [
    "plt.figure(figsize=(15,5))\n",
    "sns.lineplot(data=df,x='Year',y='Price',ci=None)\n",
    "plt.show()"
   ]
  },
  {
   "cell_type": "markdown",
   "metadata": {
    "id": "ZTtxRzsdVK8T"
   },
   "source": [
    "* Cars built in recent years are pricier than older cars."
   ]
  },
  {
   "cell_type": "code",
   "execution_count": 267,
   "metadata": {
    "colab": {
     "base_uri": "https://localhost:8080/",
     "height": 0
    },
    "executionInfo": {
     "elapsed": 525,
     "status": "ok",
     "timestamp": 1665697284925,
     "user": {
      "displayName": "Sushant Upadhyay",
      "userId": "05018399502161361441"
     },
     "user_tz": 420
    },
    "id": "PlXouZY6U1k1",
    "outputId": "6ff2a37f-3cc3-4a6e-bdfe-e24d6df34bba"
   },
   "outputs": [
    {
     "data": {
      "image/png": "[encoded data removed]",
      "text/plain": [
       "<Figure size 1080x360 with 1 Axes>"
      ]
     },
     "metadata": {},
     "output_type": "display_data"
    },
    {
     "data": {
      "application/javascript": [
       "\n",
       "            setTimeout(function() {\n",
       "                var nbb_cell_id = 267;\n",
       "                var nbb_unformatted_code = \"plt.figure(figsize=(15,5))\\nsns.lineplot(data=df,x='Fuel_Type',y='Price',ci=None)\\nplt.show()\";\n",
       "                var nbb_formatted_code = \"plt.figure(figsize=(15, 5))\\nsns.lineplot(data=df, x=\\\"Fuel_Type\\\", y=\\\"Price\\\", ci=None)\\nplt.show()\";\n",
       "                var nbb_cells = Jupyter.notebook.get_cells();\n",
       "                for (var i = 0; i < nbb_cells.length; ++i) {\n",
       "                    if (nbb_cells[i].input_prompt_number == nbb_cell_id) {\n",
       "                        if (nbb_cells[i].get_text() == nbb_unformatted_code) {\n",
       "                             nbb_cells[i].set_text(nbb_formatted_code);\n",
       "                        }\n",
       "                        break;\n",
       "                    }\n",
       "                }\n",
       "            }, 500);\n",
       "            "
      ],
      "text/plain": [
       "<IPython.core.display.Javascript object>"
      ]
     },
     "metadata": {},
     "output_type": "display_data"
    }
   ],
   "source": [
    "plt.figure(figsize=(15,5))\n",
    "sns.lineplot(data=df,x='Fuel_Type',y='Price',ci=None)\n",
    "plt.show()"
   ]
  },
  {
   "cell_type": "markdown",
   "metadata": {
    "id": "PW-YCZbTVYTk"
   },
   "source": [
    "* Diesel and electrc cars have higher resell values compared to Petrol, CNG and LPG"
   ]
  },
  {
   "cell_type": "code",
   "execution_count": 268,
   "metadata": {
    "colab": {
     "base_uri": "https://localhost:8080/",
     "height": 0
    },
    "executionInfo": {
     "elapsed": 922,
     "status": "ok",
     "timestamp": 1665697285844,
     "user": {
      "displayName": "Sushant Upadhyay",
      "userId": "05018399502161361441"
     },
     "user_tz": 420
    },
    "id": "uVPKdz_vUB7v",
    "outputId": "05e74f1b-6246-43b9-a4c5-b8376cf063b9"
   },
   "outputs": [
    {
     "data": {
      "image/png": "[encoded data removed]",
      "text/plain": [
       "<Figure size 1080x360 with 1 Axes>"
      ]
     },
     "metadata": {},
     "output_type": "display_data"
    },
    {
     "data": {
      "application/javascript": [
       "\n",
       "            setTimeout(function() {\n",
       "                var nbb_cell_id = 268;\n",
       "                var nbb_unformatted_code = \"plt.figure(figsize=(15,5))\\nsns.lineplot(data=df,x='Mileage',y='Price',ci=None)\\nplt.show()\";\n",
       "                var nbb_formatted_code = \"plt.figure(figsize=(15, 5))\\nsns.lineplot(data=df, x=\\\"Mileage\\\", y=\\\"Price\\\", ci=None)\\nplt.show()\";\n",
       "                var nbb_cells = Jupyter.notebook.get_cells();\n",
       "                for (var i = 0; i < nbb_cells.length; ++i) {\n",
       "                    if (nbb_cells[i].input_prompt_number == nbb_cell_id) {\n",
       "                        if (nbb_cells[i].get_text() == nbb_unformatted_code) {\n",
       "                             nbb_cells[i].set_text(nbb_formatted_code);\n",
       "                        }\n",
       "                        break;\n",
       "                    }\n",
       "                }\n",
       "            }, 500);\n",
       "            "
      ],
      "text/plain": [
       "<IPython.core.display.Javascript object>"
      ]
     },
     "metadata": {},
     "output_type": "display_data"
    }
   ],
   "source": [
    "plt.figure(figsize=(15,5))\n",
    "sns.lineplot(data=df,x='Mileage',y='Price',ci=None)\n",
    "plt.show()"
   ]
  },
  {
   "cell_type": "code",
   "execution_count": 269,
   "metadata": {
    "colab": {
     "base_uri": "https://localhost:8080/",
     "height": 0
    },
    "executionInfo": {
     "elapsed": 533,
     "status": "ok",
     "timestamp": 1665697286374,
     "user": {
      "displayName": "Sushant Upadhyay",
      "userId": "05018399502161361441"
     },
     "user_tz": 420
    },
    "id": "NXwYb_MbUN81",
    "outputId": "b537fdd8-4656-4f0a-ef29-0580844fd5d5"
   },
   "outputs": [
    {
     "data": {
      "image/png": "[encoded data removed]",
      "text/plain": [
       "<Figure size 1080x360 with 1 Axes>"
      ]
     },
     "metadata": {},
     "output_type": "display_data"
    },
    {
     "data": {
      "application/javascript": [
       "\n",
       "            setTimeout(function() {\n",
       "                var nbb_cell_id = 269;\n",
       "                var nbb_unformatted_code = \"plt.figure(figsize=(15,5))\\nsns.lineplot(data=df,x='Kilometers_Driven',y='Price',ci=None)\\nplt.show()\";\n",
       "                var nbb_formatted_code = \"plt.figure(figsize=(15, 5))\\nsns.lineplot(data=df, x=\\\"Kilometers_Driven\\\", y=\\\"Price\\\", ci=None)\\nplt.show()\";\n",
       "                var nbb_cells = Jupyter.notebook.get_cells();\n",
       "                for (var i = 0; i < nbb_cells.length; ++i) {\n",
       "                    if (nbb_cells[i].input_prompt_number == nbb_cell_id) {\n",
       "                        if (nbb_cells[i].get_text() == nbb_unformatted_code) {\n",
       "                             nbb_cells[i].set_text(nbb_formatted_code);\n",
       "                        }\n",
       "                        break;\n",
       "                    }\n",
       "                }\n",
       "            }, 500);\n",
       "            "
      ],
      "text/plain": [
       "<IPython.core.display.Javascript object>"
      ]
     },
     "metadata": {},
     "output_type": "display_data"
    }
   ],
   "source": [
    "plt.figure(figsize=(15,5))\n",
    "sns.lineplot(data=df,x='Kilometers_Driven',y='Price',ci=None)\n",
    "plt.show()"
   ]
  },
  {
   "cell_type": "code",
   "execution_count": 270,
   "metadata": {
    "colab": {
     "base_uri": "https://localhost:8080/",
     "height": 0
    },
    "executionInfo": {
     "elapsed": 945,
     "status": "ok",
     "timestamp": 1665697287316,
     "user": {
      "displayName": "Sushant Upadhyay",
      "userId": "05018399502161361441"
     },
     "user_tz": 420
    },
    "id": "xnSn85Q_Uff_",
    "outputId": "e545a85a-23ef-49ca-b355-58bae9622d92"
   },
   "outputs": [
    {
     "data": {
      "image/png": "[encoded data removed]",
      "text/plain": [
       "<Figure size 1080x360 with 1 Axes>"
      ]
     },
     "metadata": {},
     "output_type": "display_data"
    },
    {
     "data": {
      "application/javascript": [
       "\n",
       "            setTimeout(function() {\n",
       "                var nbb_cell_id = 270;\n",
       "                var nbb_unformatted_code = \"plt.figure(figsize=(15,5))\\nsns.lineplot(data=df,x='Engine',y='Price',ci=None)\\nplt.show()\";\n",
       "                var nbb_formatted_code = \"plt.figure(figsize=(15, 5))\\nsns.lineplot(data=df, x=\\\"Engine\\\", y=\\\"Price\\\", ci=None)\\nplt.show()\";\n",
       "                var nbb_cells = Jupyter.notebook.get_cells();\n",
       "                for (var i = 0; i < nbb_cells.length; ++i) {\n",
       "                    if (nbb_cells[i].input_prompt_number == nbb_cell_id) {\n",
       "                        if (nbb_cells[i].get_text() == nbb_unformatted_code) {\n",
       "                             nbb_cells[i].set_text(nbb_formatted_code);\n",
       "                        }\n",
       "                        break;\n",
       "                    }\n",
       "                }\n",
       "            }, 500);\n",
       "            "
      ],
      "text/plain": [
       "<IPython.core.display.Javascript object>"
      ]
     },
     "metadata": {},
     "output_type": "display_data"
    }
   ],
   "source": [
    "plt.figure(figsize=(15,5))\n",
    "sns.lineplot(data=df,x='Engine',y='Price',ci=None)\n",
    "plt.show()"
   ]
  },
  {
   "cell_type": "code",
   "execution_count": 271,
   "metadata": {
    "colab": {
     "base_uri": "https://localhost:8080/",
     "height": 0
    },
    "executionInfo": {
     "elapsed": 550,
     "status": "ok",
     "timestamp": 1665697287864,
     "user": {
      "displayName": "Sushant Upadhyay",
      "userId": "05018399502161361441"
     },
     "user_tz": 420
    },
    "id": "KmGl_xogUiCS",
    "outputId": "6960ed2e-7407-455b-c75c-d32aefbac337"
   },
   "outputs": [
    {
     "data": {
      "image/png": "[encoded data removed]",
      "text/plain": [
       "<Figure size 1080x360 with 1 Axes>"
      ]
     },
     "metadata": {},
     "output_type": "display_data"
    },
    {
     "data": {
      "application/javascript": [
       "\n",
       "            setTimeout(function() {\n",
       "                var nbb_cell_id = 271;\n",
       "                var nbb_unformatted_code = \"plt.figure(figsize=(15,5))\\nsns.lineplot(data=df,x='Power',y='Price',ci=None)\\nplt.show()\";\n",
       "                var nbb_formatted_code = \"plt.figure(figsize=(15, 5))\\nsns.lineplot(data=df, x=\\\"Power\\\", y=\\\"Price\\\", ci=None)\\nplt.show()\";\n",
       "                var nbb_cells = Jupyter.notebook.get_cells();\n",
       "                for (var i = 0; i < nbb_cells.length; ++i) {\n",
       "                    if (nbb_cells[i].input_prompt_number == nbb_cell_id) {\n",
       "                        if (nbb_cells[i].get_text() == nbb_unformatted_code) {\n",
       "                             nbb_cells[i].set_text(nbb_formatted_code);\n",
       "                        }\n",
       "                        break;\n",
       "                    }\n",
       "                }\n",
       "            }, 500);\n",
       "            "
      ],
      "text/plain": [
       "<IPython.core.display.Javascript object>"
      ]
     },
     "metadata": {},
     "output_type": "display_data"
    }
   ],
   "source": [
    "plt.figure(figsize=(15,5))\n",
    "sns.lineplot(data=df,x='Power',y='Price',ci=None)\n",
    "plt.show()"
   ]
  },
  {
   "cell_type": "code",
   "execution_count": 272,
   "metadata": {
    "colab": {
     "base_uri": "https://localhost:8080/",
     "height": 0
    },
    "executionInfo": {
     "elapsed": 5647,
     "status": "ok",
     "timestamp": 1665697293508,
     "user": {
      "displayName": "Sushant Upadhyay",
      "userId": "05018399502161361441"
     },
     "user_tz": 420
    },
    "id": "sCBDHHfsTWX4",
    "outputId": "5e2ad6a7-f9db-43a0-ef24-5f098465c97f"
   },
   "outputs": [
    {
     "data": {
      "image/png": "[encoded data removed]",
      "text/plain": [
       "<Figure size 1440x720 with 5 Axes>"
      ]
     },
     "metadata": {},
     "output_type": "display_data"
    },
    {
     "data": {
      "application/javascript": [
       "\n",
       "            setTimeout(function() {\n",
       "                var nbb_cell_id = 272;\n",
       "                var nbb_unformatted_code = \"sns.relplot(data=df,x='Mileage',y='Price',col='Fuel_Type',kind='line', ci=None, col_wrap=4)\\nplt.show()\\n# double click on the plot to zoom in\";\n",
       "                var nbb_formatted_code = \"sns.relplot(\\n    data=df, x=\\\"Mileage\\\", y=\\\"Price\\\", col=\\\"Fuel_Type\\\", kind=\\\"line\\\", ci=None, col_wrap=4\\n)\\nplt.show()\\n# double click on the plot to zoom in\";\n",
       "                var nbb_cells = Jupyter.notebook.get_cells();\n",
       "                for (var i = 0; i < nbb_cells.length; ++i) {\n",
       "                    if (nbb_cells[i].input_prompt_number == nbb_cell_id) {\n",
       "                        if (nbb_cells[i].get_text() == nbb_unformatted_code) {\n",
       "                             nbb_cells[i].set_text(nbb_formatted_code);\n",
       "                        }\n",
       "                        break;\n",
       "                    }\n",
       "                }\n",
       "            }, 500);\n",
       "            "
      ],
      "text/plain": [
       "<IPython.core.display.Javascript object>"
      ]
     },
     "metadata": {},
     "output_type": "display_data"
    }
   ],
   "source": [
    "sns.relplot(data=df,x='Mileage',y='Price',col='Fuel_Type',kind='line', ci=None, col_wrap=4)\n",
    "plt.show()\n",
    "# double click on the plot to zoom in"
   ]
  },
  {
   "cell_type": "markdown",
   "metadata": {
    "id": "RkyUC4_LuODM"
   },
   "source": [
    "#### <a id='link1'>Summary of EDA</a>\n",
    "\n",
    "**Data Cleaning:**\n",
    "\n",
    "- The `S.No.` and `Name`  are not required for analysis. These columns doesn't influence target variable -  Price.\n",
    "- `Mileage`, `Engine` and `Power` does not require units. Dropping units will help in numeric data analysis.\n",
    "- Changing data types of `Mileage`, `Engine`, `Power` and `Seats` from string to int/float. This will allow Data analysis easy\n",
    "\n",
    "\n",
    "**Observations from EDA:**\n",
    "\n",
    "- `Price`: Price has high positive correlation with Power and Engine. Price also has missing values. Since this is target variable, all the rows with missing values will be deleted. This may impact correlation metrics.\n",
    "- Diesel and electrc cars have higher resell values compared to Petrol, CNG and LPG\n",
    "- Cars built in recent years are pricier than older cars.\n",
    "* There is huge difference between min and max Price for the car.\n",
    "* New_Price of the car in most cases is more than twice for used car.\n"
   ]
  },
  {
   "cell_type": "markdown",
   "metadata": {
    "id": "WBhOFaeiNg-3"
   },
   "source": [
    "# **Data Preprocessing**"
   ]
  },
  {
   "cell_type": "code",
   "execution_count": 273,
   "metadata": {
    "colab": {
     "base_uri": "https://localhost:8080/",
     "height": 0
    },
    "executionInfo": {
     "elapsed": 274,
     "status": "ok",
     "timestamp": 1665697296210,
     "user": {
      "displayName": "Sushant Upadhyay",
      "userId": "05018399502161361441"
     },
     "user_tz": 420
    },
    "id": "S43zxtQR5fed",
    "outputId": "69f1a227-c5fa-48a1-a0c5-162541860415"
   },
   "outputs": [
    {
     "data": {
      "text/html": [
       "\n",
       "  <div id=\"df-05c1b38f-d98b-44cd-adc7-581289c8b4c5\">\n",
       "    <div class=\"colab-df-container\">\n",
       "      <div>\n",
       "<style scoped>\n",
       "    .dataframe tbody tr th:only-of-type {\n",
       "        vertical-align: middle;\n",
       "    }\n",
       "\n",
       "    .dataframe tbody tr th {\n",
       "        vertical-align: top;\n",
       "    }\n",
       "\n",
       "    .dataframe thead th {\n",
       "        text-align: right;\n",
       "    }\n",
       "</style>\n",
       "<table border=\"1\" class=\"dataframe\">\n",
       "  <thead>\n",
       "    <tr style=\"text-align: right;\">\n",
       "      <th></th>\n",
       "      <th>Location</th>\n",
       "      <th>Year</th>\n",
       "      <th>Kilometers_Driven</th>\n",
       "      <th>Fuel_Type</th>\n",
       "      <th>Transmission</th>\n",
       "      <th>Owner_Type</th>\n",
       "      <th>Mileage</th>\n",
       "      <th>Engine</th>\n",
       "      <th>Power</th>\n",
       "      <th>Seats</th>\n",
       "      <th>New_Price</th>\n",
       "      <th>Price</th>\n",
       "    </tr>\n",
       "  </thead>\n",
       "  <tbody>\n",
       "    <tr>\n",
       "      <th>0</th>\n",
       "      <td>Mumbai</td>\n",
       "      <td>2010</td>\n",
       "      <td>72000</td>\n",
       "      <td>CNG</td>\n",
       "      <td>Manual</td>\n",
       "      <td>First</td>\n",
       "      <td>26.60</td>\n",
       "      <td>998.0</td>\n",
       "      <td>58.16</td>\n",
       "      <td>5.0</td>\n",
       "      <td>5.51</td>\n",
       "      <td>1.75</td>\n",
       "    </tr>\n",
       "    <tr>\n",
       "      <th>1</th>\n",
       "      <td>Pune</td>\n",
       "      <td>2015</td>\n",
       "      <td>41000</td>\n",
       "      <td>Diesel</td>\n",
       "      <td>Manual</td>\n",
       "      <td>First</td>\n",
       "      <td>19.67</td>\n",
       "      <td>1582.0</td>\n",
       "      <td>126.20</td>\n",
       "      <td>5.0</td>\n",
       "      <td>16.06</td>\n",
       "      <td>12.50</td>\n",
       "    </tr>\n",
       "    <tr>\n",
       "      <th>2</th>\n",
       "      <td>Chennai</td>\n",
       "      <td>2011</td>\n",
       "      <td>46000</td>\n",
       "      <td>Petrol</td>\n",
       "      <td>Manual</td>\n",
       "      <td>First</td>\n",
       "      <td>18.20</td>\n",
       "      <td>1199.0</td>\n",
       "      <td>88.70</td>\n",
       "      <td>5.0</td>\n",
       "      <td>8.61</td>\n",
       "      <td>4.50</td>\n",
       "    </tr>\n",
       "    <tr>\n",
       "      <th>3</th>\n",
       "      <td>Chennai</td>\n",
       "      <td>2012</td>\n",
       "      <td>87000</td>\n",
       "      <td>Diesel</td>\n",
       "      <td>Manual</td>\n",
       "      <td>First</td>\n",
       "      <td>20.77</td>\n",
       "      <td>1248.0</td>\n",
       "      <td>88.76</td>\n",
       "      <td>7.0</td>\n",
       "      <td>11.27</td>\n",
       "      <td>6.00</td>\n",
       "    </tr>\n",
       "    <tr>\n",
       "      <th>4</th>\n",
       "      <td>Coimbatore</td>\n",
       "      <td>2013</td>\n",
       "      <td>40670</td>\n",
       "      <td>Diesel</td>\n",
       "      <td>Automatic</td>\n",
       "      <td>Second</td>\n",
       "      <td>15.20</td>\n",
       "      <td>1968.0</td>\n",
       "      <td>140.80</td>\n",
       "      <td>5.0</td>\n",
       "      <td>53.14</td>\n",
       "      <td>17.74</td>\n",
       "    </tr>\n",
       "    <tr>\n",
       "      <th>5</th>\n",
       "      <td>Hyderabad</td>\n",
       "      <td>2012</td>\n",
       "      <td>75000</td>\n",
       "      <td>LPG</td>\n",
       "      <td>Manual</td>\n",
       "      <td>First</td>\n",
       "      <td>21.10</td>\n",
       "      <td>814.0</td>\n",
       "      <td>55.20</td>\n",
       "      <td>5.0</td>\n",
       "      <td>10.25</td>\n",
       "      <td>2.35</td>\n",
       "    </tr>\n",
       "    <tr>\n",
       "      <th>6</th>\n",
       "      <td>Jaipur</td>\n",
       "      <td>2013</td>\n",
       "      <td>86999</td>\n",
       "      <td>Diesel</td>\n",
       "      <td>Manual</td>\n",
       "      <td>First</td>\n",
       "      <td>23.08</td>\n",
       "      <td>1461.0</td>\n",
       "      <td>63.10</td>\n",
       "      <td>5.0</td>\n",
       "      <td>9.47</td>\n",
       "      <td>3.50</td>\n",
       "    </tr>\n",
       "    <tr>\n",
       "      <th>7</th>\n",
       "      <td>Mumbai</td>\n",
       "      <td>2016</td>\n",
       "      <td>36000</td>\n",
       "      <td>Diesel</td>\n",
       "      <td>Automatic</td>\n",
       "      <td>First</td>\n",
       "      <td>11.36</td>\n",
       "      <td>2755.0</td>\n",
       "      <td>171.50</td>\n",
       "      <td>8.0</td>\n",
       "      <td>21.00</td>\n",
       "      <td>17.50</td>\n",
       "    </tr>\n",
       "    <tr>\n",
       "      <th>8</th>\n",
       "      <td>Pune</td>\n",
       "      <td>2013</td>\n",
       "      <td>64430</td>\n",
       "      <td>Diesel</td>\n",
       "      <td>Manual</td>\n",
       "      <td>First</td>\n",
       "      <td>20.54</td>\n",
       "      <td>1598.0</td>\n",
       "      <td>103.60</td>\n",
       "      <td>5.0</td>\n",
       "      <td>13.23</td>\n",
       "      <td>5.20</td>\n",
       "    </tr>\n",
       "    <tr>\n",
       "      <th>9</th>\n",
       "      <td>Chennai</td>\n",
       "      <td>2012</td>\n",
       "      <td>65932</td>\n",
       "      <td>Diesel</td>\n",
       "      <td>Manual</td>\n",
       "      <td>Second</td>\n",
       "      <td>22.30</td>\n",
       "      <td>1248.0</td>\n",
       "      <td>74.00</td>\n",
       "      <td>5.0</td>\n",
       "      <td>7.63</td>\n",
       "      <td>1.95</td>\n",
       "    </tr>\n",
       "  </tbody>\n",
       "</table>\n",
       "</div>\n",
       "      <button class=\"colab-df-convert\" onclick=\"convertToInteractive('df-05c1b38f-d98b-44cd-adc7-581289c8b4c5')\"\n",
       "              title=\"Convert this dataframe to an interactive table.\"\n",
       "              style=\"display:none;\">\n",
       "        \n",
       "  <svg xmlns=\"http://www.w3.org/2000/svg\" height=\"24px\"viewBox=\"0 0 24 24\"\n",
       "       width=\"24px\">\n",
       "    <path d=\"M0 0h24v24H0V0z\" fill=\"none\"/>\n",
       "    <path d=\"M18.56 5.44l.94 2.06.94-2.06 2.06-.94-2.06-.94-.94-2.06-.94 2.06-2.06.94zm-11 1L8.5 8.5l.94-2.06 2.06-.94-2.06-.94L8.5 2.5l-.94 2.06-2.06.94zm10 10l.94 2.06.94-2.06 2.06-.94-2.06-.94-.94-2.06-.94 2.06-2.06.94z\"/><path d=\"M17.41 7.96l-1.37-1.37c-.4-.4-.92-.59-1.43-.59-.52 0-1.04.2-1.43.59L10.3 9.45l-7.72 7.72c-.78.78-.78 2.05 0 2.83L4 21.41c.39.39.9.59 1.41.59.51 0 1.02-.2 1.41-.59l7.78-7.78 2.81-2.81c.8-.78.8-2.07 0-2.86zM5.41 20L4 18.59l7.72-7.72 1.47 1.35L5.41 20z\"/>\n",
       "  </svg>\n",
       "      </button>\n",
       "      \n",
       "  <style>\n",
       "    .colab-df-container {\n",
       "      display:flex;\n",
       "      flex-wrap:wrap;\n",
       "      gap: 12px;\n",
       "    }\n",
       "\n",
       "    .colab-df-convert {\n",
       "      background-color: #E8F0FE;\n",
       "      border: none;\n",
       "      border-radius: 50%;\n",
       "      cursor: pointer;\n",
       "      display: none;\n",
       "      fill: #1967D2;\n",
       "      height: 32px;\n",
       "      padding: 0 0 0 0;\n",
       "      width: 32px;\n",
       "    }\n",
       "\n",
       "    .colab-df-convert:hover {\n",
       "      background-color: #E2EBFA;\n",
       "      box-shadow: 0px 1px 2px rgba(60, 64, 67, 0.3), 0px 1px 3px 1px rgba(60, 64, 67, 0.15);\n",
       "      fill: #174EA6;\n",
       "    }\n",
       "\n",
       "    [theme=dark] .colab-df-convert {\n",
       "      background-color: #3B4455;\n",
       "      fill: #D2E3FC;\n",
       "    }\n",
       "\n",
       "    [theme=dark] .colab-df-convert:hover {\n",
       "      background-color: #434B5C;\n",
       "      box-shadow: 0px 1px 3px 1px rgba(0, 0, 0, 0.15);\n",
       "      filter: drop-shadow(0px 1px 2px rgba(0, 0, 0, 0.3));\n",
       "      fill: #FFFFFF;\n",
       "    }\n",
       "  </style>\n",
       "\n",
       "      <script>\n",
       "        const buttonEl =\n",
       "          document.querySelector('#df-05c1b38f-d98b-44cd-adc7-581289c8b4c5 button.colab-df-convert');\n",
       "        buttonEl.style.display =\n",
       "          google.colab.kernel.accessAllowed ? 'block' : 'none';\n",
       "\n",
       "        async function convertToInteractive(key) {\n",
       "          const element = document.querySelector('#df-05c1b38f-d98b-44cd-adc7-581289c8b4c5');\n",
       "          const dataTable =\n",
       "            await google.colab.kernel.invokeFunction('convertToInteractive',\n",
       "                                                     [key], {});\n",
       "          if (!dataTable) return;\n",
       "\n",
       "          const docLinkHtml = 'Like what you see? Visit the ' +\n",
       "            '<a target=\"_blank\" href=https://colab.research.google.com/notebooks/data_table.ipynb>data table notebook</a>'\n",
       "            + ' to learn more about interactive tables.';\n",
       "          element.innerHTML = '';\n",
       "          dataTable['output_type'] = 'display_data';\n",
       "          await google.colab.output.renderOutput(dataTable, element);\n",
       "          const docLink = document.createElement('div');\n",
       "          docLink.innerHTML = docLinkHtml;\n",
       "          element.appendChild(docLink);\n",
       "        }\n",
       "      </script>\n",
       "    </div>\n",
       "  </div>\n",
       "  "
      ],
      "text/plain": [
       "     Location  Year  Kilometers_Driven Fuel_Type Transmission Owner_Type  \\\n",
       "0      Mumbai  2010              72000       CNG       Manual      First   \n",
       "1        Pune  2015              41000    Diesel       Manual      First   \n",
       "2     Chennai  2011              46000    Petrol       Manual      First   \n",
       "3     Chennai  2012              87000    Diesel       Manual      First   \n",
       "4  Coimbatore  2013              40670    Diesel    Automatic     Second   \n",
       "5   Hyderabad  2012              75000       LPG       Manual      First   \n",
       "6      Jaipur  2013              86999    Diesel       Manual      First   \n",
       "7      Mumbai  2016              36000    Diesel    Automatic      First   \n",
       "8        Pune  2013              64430    Diesel       Manual      First   \n",
       "9     Chennai  2012              65932    Diesel       Manual     Second   \n",
       "\n",
       "   Mileage  Engine   Power  Seats  New_Price  Price  \n",
       "0    26.60   998.0   58.16    5.0       5.51   1.75  \n",
       "1    19.67  1582.0  126.20    5.0      16.06  12.50  \n",
       "2    18.20  1199.0   88.70    5.0       8.61   4.50  \n",
       "3    20.77  1248.0   88.76    7.0      11.27   6.00  \n",
       "4    15.20  1968.0  140.80    5.0      53.14  17.74  \n",
       "5    21.10   814.0   55.20    5.0      10.25   2.35  \n",
       "6    23.08  1461.0   63.10    5.0       9.47   3.50  \n",
       "7    11.36  2755.0  171.50    8.0      21.00  17.50  \n",
       "8    20.54  1598.0  103.60    5.0      13.23   5.20  \n",
       "9    22.30  1248.0   74.00    5.0       7.63   1.95  "
      ]
     },
     "execution_count": 273,
     "metadata": {},
     "output_type": "execute_result"
    },
    {
     "data": {
      "application/javascript": [
       "\n",
       "            setTimeout(function() {\n",
       "                var nbb_cell_id = 273;\n",
       "                var nbb_unformatted_code = \"df.head(10)\";\n",
       "                var nbb_formatted_code = \"df.head(10)\";\n",
       "                var nbb_cells = Jupyter.notebook.get_cells();\n",
       "                for (var i = 0; i < nbb_cells.length; ++i) {\n",
       "                    if (nbb_cells[i].input_prompt_number == nbb_cell_id) {\n",
       "                        if (nbb_cells[i].get_text() == nbb_unformatted_code) {\n",
       "                             nbb_cells[i].set_text(nbb_formatted_code);\n",
       "                        }\n",
       "                        break;\n",
       "                    }\n",
       "                }\n",
       "            }, 500);\n",
       "            "
      ],
      "text/plain": [
       "<IPython.core.display.Javascript object>"
      ]
     },
     "metadata": {},
     "output_type": "display_data"
    }
   ],
   "source": [
    "df.head(10)"
   ]
  },
  {
   "cell_type": "markdown",
   "metadata": {
    "id": "C5hOnxZd4pAq"
   },
   "source": [
    "## **Handling Missing values**"
   ]
  },
  {
   "cell_type": "markdown",
   "metadata": {
    "id": "fxGdO_Bw_CyK"
   },
   "source": [
    "It is generally preferred to impute the missing values in the independent variables using a suitable strategy.\n",
    " - For an unskewed numerical variable, the mean of the variable can be used to impute missing values.\n",
    " - For a skewed numerical variable, the median of the variable can be used to impute missing values.\n",
    " - For a categorical variable, the most frequent value can be used to impute missing values."
   ]
  },
  {
   "cell_type": "code",
   "execution_count": 274,
   "metadata": {
    "colab": {
     "base_uri": "https://localhost:8080/",
     "height": 0
    },
    "executionInfo": {
     "elapsed": 23,
     "status": "ok",
     "timestamp": 1665697296544,
     "user": {
      "displayName": "Sushant Upadhyay",
      "userId": "05018399502161361441"
     },
     "user_tz": 420
    },
    "id": "ApGqlrvX-HAx",
    "outputId": "207bba58-8c06-43d7-d1f8-f2c9bfb506e9"
   },
   "outputs": [
    {
     "data": {
      "text/plain": [
       "Price                1234\n",
       "Power                 175\n",
       "Seats                  53\n",
       "Engine                 46\n",
       "Mileage                 2\n",
       "Location                0\n",
       "Year                    0\n",
       "Kilometers_Driven       0\n",
       "Fuel_Type               0\n",
       "Transmission            0\n",
       "Owner_Type              0\n",
       "New_Price               0\n",
       "dtype: int64"
      ]
     },
     "execution_count": 274,
     "metadata": {},
     "output_type": "execute_result"
    },
    {
     "data": {
      "application/javascript": [
       "\n",
       "            setTimeout(function() {\n",
       "                var nbb_cell_id = 274;\n",
       "                var nbb_unformatted_code = \"# checking for missing values in the data after dropping missing values for target variable.\\ndf.isnull().sum().sort_values(ascending=False)\";\n",
       "                var nbb_formatted_code = \"# checking for missing values in the data after dropping missing values for target variable.\\ndf.isnull().sum().sort_values(ascending=False)\";\n",
       "                var nbb_cells = Jupyter.notebook.get_cells();\n",
       "                for (var i = 0; i < nbb_cells.length; ++i) {\n",
       "                    if (nbb_cells[i].input_prompt_number == nbb_cell_id) {\n",
       "                        if (nbb_cells[i].get_text() == nbb_unformatted_code) {\n",
       "                             nbb_cells[i].set_text(nbb_formatted_code);\n",
       "                        }\n",
       "                        break;\n",
       "                    }\n",
       "                }\n",
       "            }, 500);\n",
       "            "
      ],
      "text/plain": [
       "<IPython.core.display.Javascript object>"
      ]
     },
     "metadata": {},
     "output_type": "display_data"
    }
   ],
   "source": [
    "# checking for missing values in the data after dropping missing values for target variable.\n",
    "df.isnull().sum().sort_values(ascending=False)"
   ]
  },
  {
   "cell_type": "markdown",
   "metadata": {
    "id": "LUNnyUhlFqey"
   },
   "source": [
    "###Handle missing values for Price."
   ]
  },
  {
   "cell_type": "code",
   "execution_count": 275,
   "metadata": {
    "colab": {
     "base_uri": "https://localhost:8080/",
     "height": 0
    },
    "executionInfo": {
     "elapsed": 21,
     "status": "ok",
     "timestamp": 1665697296544,
     "user": {
      "displayName": "Sushant Upadhyay",
      "userId": "05018399502161361441"
     },
     "user_tz": 420
    },
    "id": "cI40R8Dm_ldD",
    "outputId": "c1e776c0-9881-4fae-ac75-e70601d87b65"
   },
   "outputs": [
    {
     "data": {
      "application/javascript": [
       "\n",
       "            setTimeout(function() {\n",
       "                var nbb_cell_id = 275;\n",
       "                var nbb_unformatted_code = \"# Since `Price` is target variable, dropping rows with missing Price from dataset.\\n# Dropping null values from\\ndf.dropna(subset=[\\\"Price\\\"], inplace=True)\\n# let us reset the dataframe index\\ndf.reset_index(inplace=True, drop=True)\";\n",
       "                var nbb_formatted_code = \"# Since `Price` is target variable, dropping rows with missing Price from dataset.\\n# Dropping null values from\\ndf.dropna(subset=[\\\"Price\\\"], inplace=True)\\n# let us reset the dataframe index\\ndf.reset_index(inplace=True, drop=True)\";\n",
       "                var nbb_cells = Jupyter.notebook.get_cells();\n",
       "                for (var i = 0; i < nbb_cells.length; ++i) {\n",
       "                    if (nbb_cells[i].input_prompt_number == nbb_cell_id) {\n",
       "                        if (nbb_cells[i].get_text() == nbb_unformatted_code) {\n",
       "                             nbb_cells[i].set_text(nbb_formatted_code);\n",
       "                        }\n",
       "                        break;\n",
       "                    }\n",
       "                }\n",
       "            }, 500);\n",
       "            "
      ],
      "text/plain": [
       "<IPython.core.display.Javascript object>"
      ]
     },
     "metadata": {},
     "output_type": "display_data"
    }
   ],
   "source": [
    "# Since `Price` is target variable, dropping rows with missing Price from dataset.\n",
    "# Dropping null values from\n",
    "df.dropna(subset=[\"Price\"], inplace=True)\n",
    "# let us reset the dataframe index\n",
    "df.reset_index(inplace=True, drop=True)"
   ]
  },
  {
   "cell_type": "markdown",
   "metadata": {
    "id": "dHebsjyaFy75"
   },
   "source": [
    "###Handle missing values for Mileage."
   ]
  },
  {
   "cell_type": "code",
   "execution_count": 276,
   "metadata": {
    "colab": {
     "base_uri": "https://localhost:8080/",
     "height": 0
    },
    "executionInfo": {
     "elapsed": 21,
     "status": "ok",
     "timestamp": 1665697296545,
     "user": {
      "displayName": "Sushant Upadhyay",
      "userId": "05018399502161361441"
     },
     "user_tz": 420
    },
    "id": "Sp28M4Ng-ZRS",
    "outputId": "8bc2549e-727a-489d-8023-9cf937186015"
   },
   "outputs": [
    {
     "data": {
      "text/html": [
       "\n",
       "  <div id=\"df-c9962e77-4404-4635-8583-02b2f23cfe22\">\n",
       "    <div class=\"colab-df-container\">\n",
       "      <div>\n",
       "<style scoped>\n",
       "    .dataframe tbody tr th:only-of-type {\n",
       "        vertical-align: middle;\n",
       "    }\n",
       "\n",
       "    .dataframe tbody tr th {\n",
       "        vertical-align: top;\n",
       "    }\n",
       "\n",
       "    .dataframe thead th {\n",
       "        text-align: right;\n",
       "    }\n",
       "</style>\n",
       "<table border=\"1\" class=\"dataframe\">\n",
       "  <thead>\n",
       "    <tr style=\"text-align: right;\">\n",
       "      <th></th>\n",
       "      <th>Location</th>\n",
       "      <th>Year</th>\n",
       "      <th>Kilometers_Driven</th>\n",
       "      <th>Fuel_Type</th>\n",
       "      <th>Transmission</th>\n",
       "      <th>Owner_Type</th>\n",
       "      <th>Mileage</th>\n",
       "      <th>Engine</th>\n",
       "      <th>Power</th>\n",
       "      <th>Seats</th>\n",
       "      <th>New_Price</th>\n",
       "      <th>Price</th>\n",
       "    </tr>\n",
       "  </thead>\n",
       "  <tbody>\n",
       "    <tr>\n",
       "      <th>4446</th>\n",
       "      <td>Chennai</td>\n",
       "      <td>2016</td>\n",
       "      <td>50000</td>\n",
       "      <td>Electric</td>\n",
       "      <td>Automatic</td>\n",
       "      <td>First</td>\n",
       "      <td>NaN</td>\n",
       "      <td>72.0</td>\n",
       "      <td>41.0</td>\n",
       "      <td>5.0</td>\n",
       "      <td>13.58</td>\n",
       "      <td>13.00</td>\n",
       "    </tr>\n",
       "    <tr>\n",
       "      <th>4904</th>\n",
       "      <td>Mumbai</td>\n",
       "      <td>2011</td>\n",
       "      <td>44000</td>\n",
       "      <td>Electric</td>\n",
       "      <td>Automatic</td>\n",
       "      <td>First</td>\n",
       "      <td>NaN</td>\n",
       "      <td>1798.0</td>\n",
       "      <td>73.0</td>\n",
       "      <td>5.0</td>\n",
       "      <td>24.01</td>\n",
       "      <td>12.75</td>\n",
       "    </tr>\n",
       "  </tbody>\n",
       "</table>\n",
       "</div>\n",
       "      <button class=\"colab-df-convert\" onclick=\"convertToInteractive('df-c9962e77-4404-4635-8583-02b2f23cfe22')\"\n",
       "              title=\"Convert this dataframe to an interactive table.\"\n",
       "              style=\"display:none;\">\n",
       "        \n",
       "  <svg xmlns=\"http://www.w3.org/2000/svg\" height=\"24px\"viewBox=\"0 0 24 24\"\n",
       "       width=\"24px\">\n",
       "    <path d=\"M0 0h24v24H0V0z\" fill=\"none\"/>\n",
       "    <path d=\"M18.56 5.44l.94 2.06.94-2.06 2.06-.94-2.06-.94-.94-2.06-.94 2.06-2.06.94zm-11 1L8.5 8.5l.94-2.06 2.06-.94-2.06-.94L8.5 2.5l-.94 2.06-2.06.94zm10 10l.94 2.06.94-2.06 2.06-.94-2.06-.94-.94-2.06-.94 2.06-2.06.94z\"/><path d=\"M17.41 7.96l-1.37-1.37c-.4-.4-.92-.59-1.43-.59-.52 0-1.04.2-1.43.59L10.3 9.45l-7.72 7.72c-.78.78-.78 2.05 0 2.83L4 21.41c.39.39.9.59 1.41.59.51 0 1.02-.2 1.41-.59l7.78-7.78 2.81-2.81c.8-.78.8-2.07 0-2.86zM5.41 20L4 18.59l7.72-7.72 1.47 1.35L5.41 20z\"/>\n",
       "  </svg>\n",
       "      </button>\n",
       "      \n",
       "  <style>\n",
       "    .colab-df-container {\n",
       "      display:flex;\n",
       "      flex-wrap:wrap;\n",
       "      gap: 12px;\n",
       "    }\n",
       "\n",
       "    .colab-df-convert {\n",
       "      background-color: #E8F0FE;\n",
       "      border: none;\n",
       "      border-radius: 50%;\n",
       "      cursor: pointer;\n",
       "      display: none;\n",
       "      fill: #1967D2;\n",
       "      height: 32px;\n",
       "      padding: 0 0 0 0;\n",
       "      width: 32px;\n",
       "    }\n",
       "\n",
       "    .colab-df-convert:hover {\n",
       "      background-color: #E2EBFA;\n",
       "      box-shadow: 0px 1px 2px rgba(60, 64, 67, 0.3), 0px 1px 3px 1px rgba(60, 64, 67, 0.15);\n",
       "      fill: #174EA6;\n",
       "    }\n",
       "\n",
       "    [theme=dark] .colab-df-convert {\n",
       "      background-color: #3B4455;\n",
       "      fill: #D2E3FC;\n",
       "    }\n",
       "\n",
       "    [theme=dark] .colab-df-convert:hover {\n",
       "      background-color: #434B5C;\n",
       "      box-shadow: 0px 1px 3px 1px rgba(0, 0, 0, 0.15);\n",
       "      filter: drop-shadow(0px 1px 2px rgba(0, 0, 0, 0.3));\n",
       "      fill: #FFFFFF;\n",
       "    }\n",
       "  </style>\n",
       "\n",
       "      <script>\n",
       "        const buttonEl =\n",
       "          document.querySelector('#df-c9962e77-4404-4635-8583-02b2f23cfe22 button.colab-df-convert');\n",
       "        buttonEl.style.display =\n",
       "          google.colab.kernel.accessAllowed ? 'block' : 'none';\n",
       "\n",
       "        async function convertToInteractive(key) {\n",
       "          const element = document.querySelector('#df-c9962e77-4404-4635-8583-02b2f23cfe22');\n",
       "          const dataTable =\n",
       "            await google.colab.kernel.invokeFunction('convertToInteractive',\n",
       "                                                     [key], {});\n",
       "          if (!dataTable) return;\n",
       "\n",
       "          const docLinkHtml = 'Like what you see? Visit the ' +\n",
       "            '<a target=\"_blank\" href=https://colab.research.google.com/notebooks/data_table.ipynb>data table notebook</a>'\n",
       "            + ' to learn more about interactive tables.';\n",
       "          element.innerHTML = '';\n",
       "          dataTable['output_type'] = 'display_data';\n",
       "          await google.colab.output.renderOutput(dataTable, element);\n",
       "          const docLink = document.createElement('div');\n",
       "          docLink.innerHTML = docLinkHtml;\n",
       "          element.appendChild(docLink);\n",
       "        }\n",
       "      </script>\n",
       "    </div>\n",
       "  </div>\n",
       "  "
      ],
      "text/plain": [
       "     Location  Year  Kilometers_Driven Fuel_Type Transmission Owner_Type  \\\n",
       "4446  Chennai  2016              50000  Electric    Automatic      First   \n",
       "4904   Mumbai  2011              44000  Electric    Automatic      First   \n",
       "\n",
       "      Mileage  Engine  Power  Seats  New_Price  Price  \n",
       "4446      NaN    72.0   41.0    5.0      13.58  13.00  \n",
       "4904      NaN  1798.0   73.0    5.0      24.01  12.75  "
      ]
     },
     "execution_count": 276,
     "metadata": {},
     "output_type": "execute_result"
    },
    {
     "data": {
      "application/javascript": [
       "\n",
       "            setTimeout(function() {\n",
       "                var nbb_cell_id = 276;\n",
       "                var nbb_unformatted_code = \"# Check Mileage empty rows. \\ndf[df['Mileage'].isnull()]\";\n",
       "                var nbb_formatted_code = \"# Check Mileage empty rows.\\ndf[df[\\\"Mileage\\\"].isnull()]\";\n",
       "                var nbb_cells = Jupyter.notebook.get_cells();\n",
       "                for (var i = 0; i < nbb_cells.length; ++i) {\n",
       "                    if (nbb_cells[i].input_prompt_number == nbb_cell_id) {\n",
       "                        if (nbb_cells[i].get_text() == nbb_unformatted_code) {\n",
       "                             nbb_cells[i].set_text(nbb_formatted_code);\n",
       "                        }\n",
       "                        break;\n",
       "                    }\n",
       "                }\n",
       "            }, 500);\n",
       "            "
      ],
      "text/plain": [
       "<IPython.core.display.Javascript object>"
      ]
     },
     "metadata": {},
     "output_type": "display_data"
    }
   ],
   "source": [
    "# Check Mileage empty rows. \n",
    "df[df['Mileage'].isnull()]"
   ]
  },
  {
   "cell_type": "code",
   "execution_count": 277,
   "metadata": {
    "colab": {
     "base_uri": "https://localhost:8080/",
     "height": 0
    },
    "executionInfo": {
     "elapsed": 19,
     "status": "ok",
     "timestamp": 1665697296545,
     "user": {
      "displayName": "Sushant Upadhyay",
      "userId": "05018399502161361441"
     },
     "user_tz": 420
    },
    "id": "VeDI6gmM_Mgd",
    "outputId": "f8ea3ff7-8c3e-469b-ec9b-c13b0f1ea54a"
   },
   "outputs": [
    {
     "data": {
      "application/javascript": [
       "\n",
       "            setTimeout(function() {\n",
       "                var nbb_cell_id = 277;\n",
       "                var nbb_unformatted_code = \"# Since there are only 2 rows with missing Mileage values, dropping these rows. \\n# Dropping null values from\\ndf.dropna(subset=[\\\"Mileage\\\"], inplace=True)\\n# let us reset the dataframe index\\ndf.reset_index(inplace=True, drop=True)\";\n",
       "                var nbb_formatted_code = \"# Since there are only 2 rows with missing Mileage values, dropping these rows.\\n# Dropping null values from\\ndf.dropna(subset=[\\\"Mileage\\\"], inplace=True)\\n# let us reset the dataframe index\\ndf.reset_index(inplace=True, drop=True)\";\n",
       "                var nbb_cells = Jupyter.notebook.get_cells();\n",
       "                for (var i = 0; i < nbb_cells.length; ++i) {\n",
       "                    if (nbb_cells[i].input_prompt_number == nbb_cell_id) {\n",
       "                        if (nbb_cells[i].get_text() == nbb_unformatted_code) {\n",
       "                             nbb_cells[i].set_text(nbb_formatted_code);\n",
       "                        }\n",
       "                        break;\n",
       "                    }\n",
       "                }\n",
       "            }, 500);\n",
       "            "
      ],
      "text/plain": [
       "<IPython.core.display.Javascript object>"
      ]
     },
     "metadata": {},
     "output_type": "display_data"
    }
   ],
   "source": [
    "# Since there are only 2 rows with missing Mileage values, dropping these rows. \n",
    "# Dropping null values from\n",
    "df.dropna(subset=[\"Mileage\"], inplace=True)\n",
    "# let us reset the dataframe index\n",
    "df.reset_index(inplace=True, drop=True)"
   ]
  },
  {
   "cell_type": "code",
   "execution_count": 278,
   "metadata": {
    "colab": {
     "base_uri": "https://localhost:8080/",
     "height": 0
    },
    "executionInfo": {
     "elapsed": 564,
     "status": "ok",
     "timestamp": 1665697297092,
     "user": {
      "displayName": "Sushant Upadhyay",
      "userId": "05018399502161361441"
     },
     "user_tz": 420
    },
    "id": "xvChDElW_hIK",
    "outputId": "027e3258-ebcf-4145-de5b-b7af2d401baa"
   },
   "outputs": [
    {
     "data": {
      "text/plain": [
       "Power                143\n",
       "Seats                 42\n",
       "Engine                36\n",
       "Location               0\n",
       "Year                   0\n",
       "Kilometers_Driven      0\n",
       "Fuel_Type              0\n",
       "Transmission           0\n",
       "Owner_Type             0\n",
       "Mileage                0\n",
       "New_Price              0\n",
       "Price                  0\n",
       "dtype: int64"
      ]
     },
     "execution_count": 278,
     "metadata": {},
     "output_type": "execute_result"
    },
    {
     "data": {
      "application/javascript": [
       "\n",
       "            setTimeout(function() {\n",
       "                var nbb_cell_id = 278;\n",
       "                var nbb_unformatted_code = \"# After removing missing values for Mileage\\ndf.isnull().sum().sort_values(ascending=False)\";\n",
       "                var nbb_formatted_code = \"# After removing missing values for Mileage\\ndf.isnull().sum().sort_values(ascending=False)\";\n",
       "                var nbb_cells = Jupyter.notebook.get_cells();\n",
       "                for (var i = 0; i < nbb_cells.length; ++i) {\n",
       "                    if (nbb_cells[i].input_prompt_number == nbb_cell_id) {\n",
       "                        if (nbb_cells[i].get_text() == nbb_unformatted_code) {\n",
       "                             nbb_cells[i].set_text(nbb_formatted_code);\n",
       "                        }\n",
       "                        break;\n",
       "                    }\n",
       "                }\n",
       "            }, 500);\n",
       "            "
      ],
      "text/plain": [
       "<IPython.core.display.Javascript object>"
      ]
     },
     "metadata": {},
     "output_type": "display_data"
    }
   ],
   "source": [
    "# After removing missing values for Mileage\n",
    "df.isnull().sum().sort_values(ascending=False)"
   ]
  },
  {
   "cell_type": "markdown",
   "metadata": {
    "id": "n2dysZdLFd9-"
   },
   "source": [
    "###Handle missing values for Seats."
   ]
  },
  {
   "cell_type": "code",
   "execution_count": 279,
   "metadata": {
    "colab": {
     "base_uri": "https://localhost:8080/",
     "height": 0
    },
    "executionInfo": {
     "elapsed": 15,
     "status": "ok",
     "timestamp": 1665697297093,
     "user": {
      "displayName": "Sushant Upadhyay",
      "userId": "05018399502161361441"
     },
     "user_tz": 420
    },
    "id": "tOlxbMgYEimK",
    "outputId": "0e7dc377-4597-48af-cfcc-9322d9b41a23"
   },
   "outputs": [
    {
     "data": {
      "text/plain": [
       "5.0     6047\n",
       "7.0      796\n",
       "8.0      170\n",
       "4.0      119\n",
       "NaN       53\n",
       "6.0       38\n",
       "2.0       18\n",
       "10.0       8\n",
       "9.0        3\n",
       "0.0        1\n",
       "Name: Seats, dtype: int64"
      ]
     },
     "execution_count": 279,
     "metadata": {},
     "output_type": "execute_result"
    },
    {
     "data": {
      "application/javascript": [
       "\n",
       "            setTimeout(function() {\n",
       "                var nbb_cell_id = 279;\n",
       "                var nbb_unformatted_code = \"data['Seats'].value_counts(ascending = False, dropna = False)\";\n",
       "                var nbb_formatted_code = \"data[\\\"Seats\\\"].value_counts(ascending=False, dropna=False)\";\n",
       "                var nbb_cells = Jupyter.notebook.get_cells();\n",
       "                for (var i = 0; i < nbb_cells.length; ++i) {\n",
       "                    if (nbb_cells[i].input_prompt_number == nbb_cell_id) {\n",
       "                        if (nbb_cells[i].get_text() == nbb_unformatted_code) {\n",
       "                             nbb_cells[i].set_text(nbb_formatted_code);\n",
       "                        }\n",
       "                        break;\n",
       "                    }\n",
       "                }\n",
       "            }, 500);\n",
       "            "
      ],
      "text/plain": [
       "<IPython.core.display.Javascript object>"
      ]
     },
     "metadata": {},
     "output_type": "display_data"
    }
   ],
   "source": [
    "data['Seats'].value_counts(ascending = False, dropna = False)"
   ]
  },
  {
   "cell_type": "code",
   "execution_count": 280,
   "metadata": {
    "colab": {
     "base_uri": "https://localhost:8080/",
     "height": 0
    },
    "executionInfo": {
     "elapsed": 14,
     "status": "ok",
     "timestamp": 1665697297093,
     "user": {
      "displayName": "Sushant Upadhyay",
      "userId": "05018399502161361441"
     },
     "user_tz": 420
    },
    "id": "yoFS8xRWEUYT",
    "outputId": "827ce2a8-0131-4f57-9f03-061bf80c610c"
   },
   "outputs": [
    {
     "data": {
      "application/javascript": [
       "\n",
       "            setTimeout(function() {\n",
       "                var nbb_cell_id = 280;\n",
       "                var nbb_unformatted_code = \"#Since Seats has finite numbers, treating it as categorical value and using most frequent value to impute missing values.\\ndf[\\\"Seats\\\"].fillna(5.0, inplace=True)\";\n",
       "                var nbb_formatted_code = \"# Since Seats has finite numbers, treating it as categorical value and using most frequent value to impute missing values.\\ndf[\\\"Seats\\\"].fillna(5.0, inplace=True)\";\n",
       "                var nbb_cells = Jupyter.notebook.get_cells();\n",
       "                for (var i = 0; i < nbb_cells.length; ++i) {\n",
       "                    if (nbb_cells[i].input_prompt_number == nbb_cell_id) {\n",
       "                        if (nbb_cells[i].get_text() == nbb_unformatted_code) {\n",
       "                             nbb_cells[i].set_text(nbb_formatted_code);\n",
       "                        }\n",
       "                        break;\n",
       "                    }\n",
       "                }\n",
       "            }, 500);\n",
       "            "
      ],
      "text/plain": [
       "<IPython.core.display.Javascript object>"
      ]
     },
     "metadata": {},
     "output_type": "display_data"
    }
   ],
   "source": [
    "#Since Seats has finite numbers, treating it as categorical value and using most frequent value to impute missing values.\n",
    "df[\"Seats\"].fillna(5.0, inplace=True)"
   ]
  },
  {
   "cell_type": "code",
   "execution_count": 281,
   "metadata": {
    "colab": {
     "base_uri": "https://localhost:8080/",
     "height": 0
    },
    "executionInfo": {
     "elapsed": 13,
     "status": "ok",
     "timestamp": 1665697297093,
     "user": {
      "displayName": "Sushant Upadhyay",
      "userId": "05018399502161361441"
     },
     "user_tz": 420
    },
    "id": "xyzZblp1GOPC",
    "outputId": "65492cb7-7c4d-42de-fcee-aa222305e80e"
   },
   "outputs": [
    {
     "data": {
      "text/plain": [
       "Power                143\n",
       "Engine                36\n",
       "Location               0\n",
       "Year                   0\n",
       "Kilometers_Driven      0\n",
       "Fuel_Type              0\n",
       "Transmission           0\n",
       "Owner_Type             0\n",
       "Mileage                0\n",
       "Seats                  0\n",
       "New_Price              0\n",
       "Price                  0\n",
       "dtype: int64"
      ]
     },
     "execution_count": 281,
     "metadata": {},
     "output_type": "execute_result"
    },
    {
     "data": {
      "application/javascript": [
       "\n",
       "            setTimeout(function() {\n",
       "                var nbb_cell_id = 281;\n",
       "                var nbb_unformatted_code = \"# After removing missing values for Seats\\ndf.isnull().sum().sort_values(ascending=False)\";\n",
       "                var nbb_formatted_code = \"# After removing missing values for Seats\\ndf.isnull().sum().sort_values(ascending=False)\";\n",
       "                var nbb_cells = Jupyter.notebook.get_cells();\n",
       "                for (var i = 0; i < nbb_cells.length; ++i) {\n",
       "                    if (nbb_cells[i].input_prompt_number == nbb_cell_id) {\n",
       "                        if (nbb_cells[i].get_text() == nbb_unformatted_code) {\n",
       "                             nbb_cells[i].set_text(nbb_formatted_code);\n",
       "                        }\n",
       "                        break;\n",
       "                    }\n",
       "                }\n",
       "            }, 500);\n",
       "            "
      ],
      "text/plain": [
       "<IPython.core.display.Javascript object>"
      ]
     },
     "metadata": {},
     "output_type": "display_data"
    }
   ],
   "source": [
    "# After removing missing values for Seats\n",
    "df.isnull().sum().sort_values(ascending=False)"
   ]
  },
  {
   "cell_type": "markdown",
   "metadata": {
    "id": "ItoPRqw6F9Xn"
   },
   "source": [
    "###Handle missing values for Engine and Power."
   ]
  },
  {
   "cell_type": "code",
   "execution_count": 282,
   "metadata": {
    "colab": {
     "base_uri": "https://localhost:8080/",
     "height": 0
    },
    "executionInfo": {
     "elapsed": 12,
     "status": "ok",
     "timestamp": 1665697297093,
     "user": {
      "displayName": "Sushant Upadhyay",
      "userId": "05018399502161361441"
     },
     "user_tz": 420
    },
    "id": "shmRz13lGm3b",
    "outputId": "547491e3-37f6-471b-99a8-46c38a9d7b8c"
   },
   "outputs": [
    {
     "data": {
      "text/html": [
       "\n",
       "  <div id=\"df-d1e42c32-4f89-4f0f-988c-566bfad050c0\">\n",
       "    <div class=\"colab-df-container\">\n",
       "      <div>\n",
       "<style scoped>\n",
       "    .dataframe tbody tr th:only-of-type {\n",
       "        vertical-align: middle;\n",
       "    }\n",
       "\n",
       "    .dataframe tbody tr th {\n",
       "        vertical-align: top;\n",
       "    }\n",
       "\n",
       "    .dataframe thead th {\n",
       "        text-align: right;\n",
       "    }\n",
       "</style>\n",
       "<table border=\"1\" class=\"dataframe\">\n",
       "  <thead>\n",
       "    <tr style=\"text-align: right;\">\n",
       "      <th></th>\n",
       "      <th>Location</th>\n",
       "      <th>Year</th>\n",
       "      <th>Kilometers_Driven</th>\n",
       "      <th>Fuel_Type</th>\n",
       "      <th>Transmission</th>\n",
       "      <th>Owner_Type</th>\n",
       "      <th>Mileage</th>\n",
       "      <th>Engine</th>\n",
       "      <th>Power</th>\n",
       "      <th>Seats</th>\n",
       "      <th>New_Price</th>\n",
       "      <th>Price</th>\n",
       "    </tr>\n",
       "  </thead>\n",
       "  <tbody>\n",
       "    <tr>\n",
       "      <th>0</th>\n",
       "      <td>Mumbai</td>\n",
       "      <td>2010</td>\n",
       "      <td>72000</td>\n",
       "      <td>CNG</td>\n",
       "      <td>Manual</td>\n",
       "      <td>First</td>\n",
       "      <td>26.60</td>\n",
       "      <td>998.0</td>\n",
       "      <td>58.16</td>\n",
       "      <td>5.0</td>\n",
       "      <td>5.51</td>\n",
       "      <td>1.75</td>\n",
       "    </tr>\n",
       "    <tr>\n",
       "      <th>1</th>\n",
       "      <td>Pune</td>\n",
       "      <td>2015</td>\n",
       "      <td>41000</td>\n",
       "      <td>Diesel</td>\n",
       "      <td>Manual</td>\n",
       "      <td>First</td>\n",
       "      <td>19.67</td>\n",
       "      <td>1582.0</td>\n",
       "      <td>126.20</td>\n",
       "      <td>5.0</td>\n",
       "      <td>16.06</td>\n",
       "      <td>12.50</td>\n",
       "    </tr>\n",
       "    <tr>\n",
       "      <th>2</th>\n",
       "      <td>Chennai</td>\n",
       "      <td>2011</td>\n",
       "      <td>46000</td>\n",
       "      <td>Petrol</td>\n",
       "      <td>Manual</td>\n",
       "      <td>First</td>\n",
       "      <td>18.20</td>\n",
       "      <td>1199.0</td>\n",
       "      <td>88.70</td>\n",
       "      <td>5.0</td>\n",
       "      <td>8.61</td>\n",
       "      <td>4.50</td>\n",
       "    </tr>\n",
       "    <tr>\n",
       "      <th>3</th>\n",
       "      <td>Chennai</td>\n",
       "      <td>2012</td>\n",
       "      <td>87000</td>\n",
       "      <td>Diesel</td>\n",
       "      <td>Manual</td>\n",
       "      <td>First</td>\n",
       "      <td>20.77</td>\n",
       "      <td>1248.0</td>\n",
       "      <td>88.76</td>\n",
       "      <td>7.0</td>\n",
       "      <td>11.27</td>\n",
       "      <td>6.00</td>\n",
       "    </tr>\n",
       "    <tr>\n",
       "      <th>4</th>\n",
       "      <td>Coimbatore</td>\n",
       "      <td>2013</td>\n",
       "      <td>40670</td>\n",
       "      <td>Diesel</td>\n",
       "      <td>Automatic</td>\n",
       "      <td>Second</td>\n",
       "      <td>15.20</td>\n",
       "      <td>1968.0</td>\n",
       "      <td>140.80</td>\n",
       "      <td>5.0</td>\n",
       "      <td>53.14</td>\n",
       "      <td>17.74</td>\n",
       "    </tr>\n",
       "  </tbody>\n",
       "</table>\n",
       "</div>\n",
       "      <button class=\"colab-df-convert\" onclick=\"convertToInteractive('df-d1e42c32-4f89-4f0f-988c-566bfad050c0')\"\n",
       "              title=\"Convert this dataframe to an interactive table.\"\n",
       "              style=\"display:none;\">\n",
       "        \n",
       "  <svg xmlns=\"http://www.w3.org/2000/svg\" height=\"24px\"viewBox=\"0 0 24 24\"\n",
       "       width=\"24px\">\n",
       "    <path d=\"M0 0h24v24H0V0z\" fill=\"none\"/>\n",
       "    <path d=\"M18.56 5.44l.94 2.06.94-2.06 2.06-.94-2.06-.94-.94-2.06-.94 2.06-2.06.94zm-11 1L8.5 8.5l.94-2.06 2.06-.94-2.06-.94L8.5 2.5l-.94 2.06-2.06.94zm10 10l.94 2.06.94-2.06 2.06-.94-2.06-.94-.94-2.06-.94 2.06-2.06.94z\"/><path d=\"M17.41 7.96l-1.37-1.37c-.4-.4-.92-.59-1.43-.59-.52 0-1.04.2-1.43.59L10.3 9.45l-7.72 7.72c-.78.78-.78 2.05 0 2.83L4 21.41c.39.39.9.59 1.41.59.51 0 1.02-.2 1.41-.59l7.78-7.78 2.81-2.81c.8-.78.8-2.07 0-2.86zM5.41 20L4 18.59l7.72-7.72 1.47 1.35L5.41 20z\"/>\n",
       "  </svg>\n",
       "      </button>\n",
       "      \n",
       "  <style>\n",
       "    .colab-df-container {\n",
       "      display:flex;\n",
       "      flex-wrap:wrap;\n",
       "      gap: 12px;\n",
       "    }\n",
       "\n",
       "    .colab-df-convert {\n",
       "      background-color: #E8F0FE;\n",
       "      border: none;\n",
       "      border-radius: 50%;\n",
       "      cursor: pointer;\n",
       "      display: none;\n",
       "      fill: #1967D2;\n",
       "      height: 32px;\n",
       "      padding: 0 0 0 0;\n",
       "      width: 32px;\n",
       "    }\n",
       "\n",
       "    .colab-df-convert:hover {\n",
       "      background-color: #E2EBFA;\n",
       "      box-shadow: 0px 1px 2px rgba(60, 64, 67, 0.3), 0px 1px 3px 1px rgba(60, 64, 67, 0.15);\n",
       "      fill: #174EA6;\n",
       "    }\n",
       "\n",
       "    [theme=dark] .colab-df-convert {\n",
       "      background-color: #3B4455;\n",
       "      fill: #D2E3FC;\n",
       "    }\n",
       "\n",
       "    [theme=dark] .colab-df-convert:hover {\n",
       "      background-color: #434B5C;\n",
       "      box-shadow: 0px 1px 3px 1px rgba(0, 0, 0, 0.15);\n",
       "      filter: drop-shadow(0px 1px 2px rgba(0, 0, 0, 0.3));\n",
       "      fill: #FFFFFF;\n",
       "    }\n",
       "  </style>\n",
       "\n",
       "      <script>\n",
       "        const buttonEl =\n",
       "          document.querySelector('#df-d1e42c32-4f89-4f0f-988c-566bfad050c0 button.colab-df-convert');\n",
       "        buttonEl.style.display =\n",
       "          google.colab.kernel.accessAllowed ? 'block' : 'none';\n",
       "\n",
       "        async function convertToInteractive(key) {\n",
       "          const element = document.querySelector('#df-d1e42c32-4f89-4f0f-988c-566bfad050c0');\n",
       "          const dataTable =\n",
       "            await google.colab.kernel.invokeFunction('convertToInteractive',\n",
       "                                                     [key], {});\n",
       "          if (!dataTable) return;\n",
       "\n",
       "          const docLinkHtml = 'Like what you see? Visit the ' +\n",
       "            '<a target=\"_blank\" href=https://colab.research.google.com/notebooks/data_table.ipynb>data table notebook</a>'\n",
       "            + ' to learn more about interactive tables.';\n",
       "          element.innerHTML = '';\n",
       "          dataTable['output_type'] = 'display_data';\n",
       "          await google.colab.output.renderOutput(dataTable, element);\n",
       "          const docLink = document.createElement('div');\n",
       "          docLink.innerHTML = docLinkHtml;\n",
       "          element.appendChild(docLink);\n",
       "        }\n",
       "      </script>\n",
       "    </div>\n",
       "  </div>\n",
       "  "
      ],
      "text/plain": [
       "     Location  Year  Kilometers_Driven Fuel_Type Transmission Owner_Type  \\\n",
       "0      Mumbai  2010              72000       CNG       Manual      First   \n",
       "1        Pune  2015              41000    Diesel       Manual      First   \n",
       "2     Chennai  2011              46000    Petrol       Manual      First   \n",
       "3     Chennai  2012              87000    Diesel       Manual      First   \n",
       "4  Coimbatore  2013              40670    Diesel    Automatic     Second   \n",
       "\n",
       "   Mileage  Engine   Power  Seats  New_Price  Price  \n",
       "0    26.60   998.0   58.16    5.0       5.51   1.75  \n",
       "1    19.67  1582.0  126.20    5.0      16.06  12.50  \n",
       "2    18.20  1199.0   88.70    5.0       8.61   4.50  \n",
       "3    20.77  1248.0   88.76    7.0      11.27   6.00  \n",
       "4    15.20  1968.0  140.80    5.0      53.14  17.74  "
      ]
     },
     "execution_count": 282,
     "metadata": {},
     "output_type": "execute_result"
    },
    {
     "data": {
      "application/javascript": [
       "\n",
       "            setTimeout(function() {\n",
       "                var nbb_cell_id = 282;\n",
       "                var nbb_unformatted_code = \"df.head()\";\n",
       "                var nbb_formatted_code = \"df.head()\";\n",
       "                var nbb_cells = Jupyter.notebook.get_cells();\n",
       "                for (var i = 0; i < nbb_cells.length; ++i) {\n",
       "                    if (nbb_cells[i].input_prompt_number == nbb_cell_id) {\n",
       "                        if (nbb_cells[i].get_text() == nbb_unformatted_code) {\n",
       "                             nbb_cells[i].set_text(nbb_formatted_code);\n",
       "                        }\n",
       "                        break;\n",
       "                    }\n",
       "                }\n",
       "            }, 500);\n",
       "            "
      ],
      "text/plain": [
       "<IPython.core.display.Javascript object>"
      ]
     },
     "metadata": {},
     "output_type": "display_data"
    }
   ],
   "source": [
    "df.head()"
   ]
  },
  {
   "cell_type": "code",
   "execution_count": 283,
   "metadata": {
    "colab": {
     "base_uri": "https://localhost:8080/",
     "height": 0
    },
    "executionInfo": {
     "elapsed": 12,
     "status": "ok",
     "timestamp": 1665697297093,
     "user": {
      "displayName": "Sushant Upadhyay",
      "userId": "05018399502161361441"
     },
     "user_tz": 420
    },
    "id": "S2d_vIGOJIE_",
    "outputId": "b9a3d1f9-8b4b-4ad5-e89f-87f5a5cd970d"
   },
   "outputs": [
    {
     "data": {
      "application/javascript": [
       "\n",
       "            setTimeout(function() {\n",
       "                var nbb_cell_id = 283;\n",
       "                var nbb_unformatted_code = \"# Replacing missing values in both Power and Engine based on Median. Since values for Engine and Power depdends on Price (and vice versa) using Price to decide engine and Power\\n#df[[\\\"Power\\\", \\\"Engine\\\"]] = df.groupby([\\\"Price\\\"])[[\\\"Power\\\", \\\"Engine\\\"]].transform(lambda x: x.fillna(x.median()))\";\n",
       "                var nbb_formatted_code = \"# Replacing missing values in both Power and Engine based on Median. Since values for Engine and Power depdends on Price (and vice versa) using Price to decide engine and Power\\n# df[[\\\"Power\\\", \\\"Engine\\\"]] = df.groupby([\\\"Price\\\"])[[\\\"Power\\\", \\\"Engine\\\"]].transform(lambda x: x.fillna(x.median()))\";\n",
       "                var nbb_cells = Jupyter.notebook.get_cells();\n",
       "                for (var i = 0; i < nbb_cells.length; ++i) {\n",
       "                    if (nbb_cells[i].input_prompt_number == nbb_cell_id) {\n",
       "                        if (nbb_cells[i].get_text() == nbb_unformatted_code) {\n",
       "                             nbb_cells[i].set_text(nbb_formatted_code);\n",
       "                        }\n",
       "                        break;\n",
       "                    }\n",
       "                }\n",
       "            }, 500);\n",
       "            "
      ],
      "text/plain": [
       "<IPython.core.display.Javascript object>"
      ]
     },
     "metadata": {},
     "output_type": "display_data"
    }
   ],
   "source": [
    "# Replacing missing values in both Power and Engine based on Median. Since values for Engine and Power depdends on Price (and vice versa) using Price to decide engine and Power\n",
    "#df[[\"Power\", \"Engine\"]] = df.groupby([\"Price\"])[[\"Power\", \"Engine\"]].transform(lambda x: x.fillna(x.median()))"
   ]
  },
  {
   "cell_type": "code",
   "execution_count": 284,
   "metadata": {
    "colab": {
     "base_uri": "https://localhost:8080/",
     "height": 0
    },
    "executionInfo": {
     "elapsed": 12,
     "status": "ok",
     "timestamp": 1665697297094,
     "user": {
      "displayName": "Sushant Upadhyay",
      "userId": "05018399502161361441"
     },
     "user_tz": 420
    },
    "id": "I29Eq_YuKaaR",
    "outputId": "0cbc33e8-5a1f-4580-d462-8417a3be192c"
   },
   "outputs": [
    {
     "data": {
      "text/plain": [
       "Location             0\n",
       "Year                 0\n",
       "Kilometers_Driven    0\n",
       "Fuel_Type            0\n",
       "Transmission         0\n",
       "Owner_Type           0\n",
       "Mileage              0\n",
       "Engine               0\n",
       "Power                0\n",
       "Seats                0\n",
       "New_Price            0\n",
       "Price                0\n",
       "dtype: int64"
      ]
     },
     "execution_count": 284,
     "metadata": {},
     "output_type": "execute_result"
    },
    {
     "data": {
      "application/javascript": [
       "\n",
       "            setTimeout(function() {\n",
       "                var nbb_cell_id = 284;\n",
       "                var nbb_unformatted_code = \"df[\\\"Power\\\"].fillna(df.Power.median(), inplace=True)\\ndf[\\\"Engine\\\"].fillna(df.Engine.median(), inplace=True)\\n# After removing missing values for Seats\\ndf.isnull().sum().sort_values(ascending=False)\";\n",
       "                var nbb_formatted_code = \"df[\\\"Power\\\"].fillna(df.Power.median(), inplace=True)\\ndf[\\\"Engine\\\"].fillna(df.Engine.median(), inplace=True)\\n# After removing missing values for Seats\\ndf.isnull().sum().sort_values(ascending=False)\";\n",
       "                var nbb_cells = Jupyter.notebook.get_cells();\n",
       "                for (var i = 0; i < nbb_cells.length; ++i) {\n",
       "                    if (nbb_cells[i].input_prompt_number == nbb_cell_id) {\n",
       "                        if (nbb_cells[i].get_text() == nbb_unformatted_code) {\n",
       "                             nbb_cells[i].set_text(nbb_formatted_code);\n",
       "                        }\n",
       "                        break;\n",
       "                    }\n",
       "                }\n",
       "            }, 500);\n",
       "            "
      ],
      "text/plain": [
       "<IPython.core.display.Javascript object>"
      ]
     },
     "metadata": {},
     "output_type": "display_data"
    }
   ],
   "source": [
    "df[\"Power\"].fillna(df.Power.median(), inplace=True)\n",
    "df[\"Engine\"].fillna(df.Engine.median(), inplace=True)\n",
    "# After removing missing values for Seats\n",
    "df.isnull().sum().sort_values(ascending=False)"
   ]
  },
  {
   "cell_type": "code",
   "execution_count": 285,
   "metadata": {
    "colab": {
     "base_uri": "https://localhost:8080/",
     "height": 0
    },
    "executionInfo": {
     "elapsed": 11,
     "status": "ok",
     "timestamp": 1665697297094,
     "user": {
      "displayName": "Sushant Upadhyay",
      "userId": "05018399502161361441"
     },
     "user_tz": 420
    },
    "id": "OolarBKlOqdf",
    "outputId": "9ad94c3a-c822-4e8d-c3bc-26ef6d1fd5f8"
   },
   "outputs": [
    {
     "name": "stdout",
     "output_type": "stream",
     "text": [
      "There are 6017 rows and 12 columns.\n"
     ]
    },
    {
     "data": {
      "application/javascript": [
       "\n",
       "            setTimeout(function() {\n",
       "                var nbb_cell_id = 285;\n",
       "                var nbb_unformatted_code = \"# Checking data size after dropping values\\nprint(f\\\"There are {df.shape[0]} rows and {df.shape[1]} columns.\\\") # from 7253 to 6017\";\n",
       "                var nbb_formatted_code = \"# Checking data size after dropping values\\nprint(f\\\"There are {df.shape[0]} rows and {df.shape[1]} columns.\\\")  # from 7253 to 6017\";\n",
       "                var nbb_cells = Jupyter.notebook.get_cells();\n",
       "                for (var i = 0; i < nbb_cells.length; ++i) {\n",
       "                    if (nbb_cells[i].input_prompt_number == nbb_cell_id) {\n",
       "                        if (nbb_cells[i].get_text() == nbb_unformatted_code) {\n",
       "                             nbb_cells[i].set_text(nbb_formatted_code);\n",
       "                        }\n",
       "                        break;\n",
       "                    }\n",
       "                }\n",
       "            }, 500);\n",
       "            "
      ],
      "text/plain": [
       "<IPython.core.display.Javascript object>"
      ]
     },
     "metadata": {},
     "output_type": "display_data"
    }
   ],
   "source": [
    "# Checking data size after dropping values\n",
    "print(f\"There are {df.shape[0]} rows and {df.shape[1]} columns.\") # from 7253 to 6017"
   ]
  },
  {
   "cell_type": "code",
   "execution_count": 286,
   "metadata": {
    "colab": {
     "base_uri": "https://localhost:8080/",
     "height": 0
    },
    "executionInfo": {
     "elapsed": 589,
     "status": "ok",
     "timestamp": 1665697297673,
     "user": {
      "displayName": "Sushant Upadhyay",
      "userId": "05018399502161361441"
     },
     "user_tz": 420
    },
    "id": "dEDm9zDjqCsT",
    "outputId": "22c32dd5-780a-4e9c-faba-c6da3d5977b4"
   },
   "outputs": [
    {
     "data": {
      "application/javascript": [
       "\n",
       "            setTimeout(function() {\n",
       "                var nbb_cell_id = 286;\n",
       "                var nbb_unformatted_code = \"# saving the dataset with all the missing values treated\\ndf.to_csv('/content/drive/My Drive/Python Learning/Projects/Project2/used_cars_data_NoMissing.csv',index=False)\";\n",
       "                var nbb_formatted_code = \"# saving the dataset with all the missing values treated\\ndf.to_csv(\\n    \\\"/content/drive/My Drive/Python Learning/Projects/Project2/used_cars_data_NoMissing.csv\\\",\\n    index=False,\\n)\";\n",
       "                var nbb_cells = Jupyter.notebook.get_cells();\n",
       "                for (var i = 0; i < nbb_cells.length; ++i) {\n",
       "                    if (nbb_cells[i].input_prompt_number == nbb_cell_id) {\n",
       "                        if (nbb_cells[i].get_text() == nbb_unformatted_code) {\n",
       "                             nbb_cells[i].set_text(nbb_formatted_code);\n",
       "                        }\n",
       "                        break;\n",
       "                    }\n",
       "                }\n",
       "            }, 500);\n",
       "            "
      ],
      "text/plain": [
       "<IPython.core.display.Javascript object>"
      ]
     },
     "metadata": {},
     "output_type": "display_data"
    }
   ],
   "source": [
    "# saving the dataset with all the missing values treated\n",
    "df.to_csv('/content/drive/My Drive/Python Learning/Projects/Project2/used_cars_data_NoMissing.csv',index=False)"
   ]
  },
  {
   "cell_type": "code",
   "execution_count": 287,
   "metadata": {
    "colab": {
     "base_uri": "https://localhost:8080/",
     "height": 0
    },
    "executionInfo": {
     "elapsed": 1539,
     "status": "ok",
     "timestamp": 1665697299209,
     "user": {
      "displayName": "Sushant Upadhyay",
      "userId": "05018399502161361441"
     },
     "user_tz": 420
    },
    "id": "lmjCNpaMXN2D",
    "outputId": "5cc78fb3-4fc6-497e-aadf-79dcf86edb10"
   },
   "outputs": [
    {
     "data": {
      "image/png": "[encoded data removed]",
      "text/plain": [
       "<Figure size 1080x504 with 2 Axes>"
      ]
     },
     "metadata": {},
     "output_type": "display_data"
    },
    {
     "data": {
      "application/javascript": [
       "\n",
       "            setTimeout(function() {\n",
       "                var nbb_cell_id = 287;\n",
       "                var nbb_unformatted_code = \"# Check for correlation among numerical variables after handling all the missing values\\nnum_var = ['Year','Kilometers_Driven','Mileage','Engine','Power', 'Seats','New_Price', 'Price']\\ncorr = df[num_var].corr()\\n# plot the heatmap\\nplt.figure(figsize=(15, 7))\\nsns.heatmap(corr, annot=True, vmin=-1, vmax=1, fmt=\\\".2f\\\", cmap=\\\"Spectral\\\")\\nplt.show()\";\n",
       "                var nbb_formatted_code = \"# Check for correlation among numerical variables after handling all the missing values\\nnum_var = [\\n    \\\"Year\\\",\\n    \\\"Kilometers_Driven\\\",\\n    \\\"Mileage\\\",\\n    \\\"Engine\\\",\\n    \\\"Power\\\",\\n    \\\"Seats\\\",\\n    \\\"New_Price\\\",\\n    \\\"Price\\\",\\n]\\ncorr = df[num_var].corr()\\n# plot the heatmap\\nplt.figure(figsize=(15, 7))\\nsns.heatmap(corr, annot=True, vmin=-1, vmax=1, fmt=\\\".2f\\\", cmap=\\\"Spectral\\\")\\nplt.show()\";\n",
       "                var nbb_cells = Jupyter.notebook.get_cells();\n",
       "                for (var i = 0; i < nbb_cells.length; ++i) {\n",
       "                    if (nbb_cells[i].input_prompt_number == nbb_cell_id) {\n",
       "                        if (nbb_cells[i].get_text() == nbb_unformatted_code) {\n",
       "                             nbb_cells[i].set_text(nbb_formatted_code);\n",
       "                        }\n",
       "                        break;\n",
       "                    }\n",
       "                }\n",
       "            }, 500);\n",
       "            "
      ],
      "text/plain": [
       "<IPython.core.display.Javascript object>"
      ]
     },
     "metadata": {},
     "output_type": "display_data"
    }
   ],
   "source": [
    "# Check for correlation among numerical variables after handling all the missing values\n",
    "num_var = ['Year','Kilometers_Driven','Mileage','Engine','Power', 'Seats','New_Price', 'Price']\n",
    "corr = df[num_var].corr()\n",
    "# plot the heatmap\n",
    "plt.figure(figsize=(15, 7))\n",
    "sns.heatmap(corr, annot=True, vmin=-1, vmax=1, fmt=\".2f\", cmap=\"Spectral\")\n",
    "plt.show()"
   ]
  },
  {
   "cell_type": "markdown",
   "metadata": {
    "id": "tV1GS0b-XnVA"
   },
   "source": [
    " - correlation between Price and other variables discussed earlier remains same even after handling Missing values."
   ]
  },
  {
   "cell_type": "markdown",
   "metadata": {
    "id": "M3gMNKFrZxkQ"
   },
   "source": [
    "##Outlier Detection and Treatment"
   ]
  },
  {
   "cell_type": "code",
   "execution_count": 288,
   "metadata": {
    "colab": {
     "base_uri": "https://localhost:8080/",
     "height": 0
    },
    "executionInfo": {
     "elapsed": 11,
     "status": "ok",
     "timestamp": 1665697299209,
     "user": {
      "displayName": "Sushant Upadhyay",
      "userId": "05018399502161361441"
     },
     "user_tz": 420
    },
    "id": "Yb5XA31JrXF8",
    "outputId": "81d5f1ed-fe45-4e2c-bc19-4cfaf1fc9e73"
   },
   "outputs": [
    {
     "name": "stdout",
     "output_type": "stream",
     "text": [
      "There are 6017 rows and 12 columns.\n"
     ]
    },
    {
     "data": {
      "application/javascript": [
       "\n",
       "            setTimeout(function() {\n",
       "                var nbb_cell_id = 288;\n",
       "                var nbb_unformatted_code = \"# Read new file without missing values.\\ndata_noMissingValue = pd.read_csv('/content/drive/My Drive/Python Learning/Projects/Project2/used_cars_data_NoMissing.csv')\\n# checking the shape of the data\\nprint(f\\\"There are {data_noMissingValue.shape[0]} rows and {data_noMissingValue.shape[1]} columns.\\\")  # f-string\";\n",
       "                var nbb_formatted_code = \"# Read new file without missing values.\\ndata_noMissingValue = pd.read_csv(\\n    \\\"/content/drive/My Drive/Python Learning/Projects/Project2/used_cars_data_NoMissing.csv\\\"\\n)\\n# checking the shape of the data\\nprint(\\n    f\\\"There are {data_noMissingValue.shape[0]} rows and {data_noMissingValue.shape[1]} columns.\\\"\\n)  # f-string\";\n",
       "                var nbb_cells = Jupyter.notebook.get_cells();\n",
       "                for (var i = 0; i < nbb_cells.length; ++i) {\n",
       "                    if (nbb_cells[i].input_prompt_number == nbb_cell_id) {\n",
       "                        if (nbb_cells[i].get_text() == nbb_unformatted_code) {\n",
       "                             nbb_cells[i].set_text(nbb_formatted_code);\n",
       "                        }\n",
       "                        break;\n",
       "                    }\n",
       "                }\n",
       "            }, 500);\n",
       "            "
      ],
      "text/plain": [
       "<IPython.core.display.Javascript object>"
      ]
     },
     "metadata": {},
     "output_type": "display_data"
    }
   ],
   "source": [
    "# Read new file without missing values.\n",
    "data_noMissingValue = pd.read_csv('/content/drive/My Drive/Python Learning/Projects/Project2/used_cars_data_NoMissing.csv')\n",
    "# checking the shape of the data\n",
    "print(f\"There are {data_noMissingValue.shape[0]} rows and {data_noMissingValue.shape[1]} columns.\")  # f-string"
   ]
  },
  {
   "cell_type": "code",
   "execution_count": 289,
   "metadata": {
    "colab": {
     "base_uri": "https://localhost:8080/",
     "height": 0
    },
    "executionInfo": {
     "elapsed": 9,
     "status": "ok",
     "timestamp": 1665697299209,
     "user": {
      "displayName": "Sushant Upadhyay",
      "userId": "05018399502161361441"
     },
     "user_tz": 420
    },
    "id": "m14GD0sxrYJr",
    "outputId": "49ded753-58f2-4c75-9e5a-3f2bceb6df4c"
   },
   "outputs": [
    {
     "data": {
      "application/javascript": [
       "\n",
       "            setTimeout(function() {\n",
       "                var nbb_cell_id = 289;\n",
       "                var nbb_unformatted_code = \"# Create Copy\\ndf_noMissingValue = data_noMissingValue.copy() #6017 rows and 12 columns\";\n",
       "                var nbb_formatted_code = \"# Create Copy\\ndf_noMissingValue = data_noMissingValue.copy()  # 6017 rows and 12 columns\";\n",
       "                var nbb_cells = Jupyter.notebook.get_cells();\n",
       "                for (var i = 0; i < nbb_cells.length; ++i) {\n",
       "                    if (nbb_cells[i].input_prompt_number == nbb_cell_id) {\n",
       "                        if (nbb_cells[i].get_text() == nbb_unformatted_code) {\n",
       "                             nbb_cells[i].set_text(nbb_formatted_code);\n",
       "                        }\n",
       "                        break;\n",
       "                    }\n",
       "                }\n",
       "            }, 500);\n",
       "            "
      ],
      "text/plain": [
       "<IPython.core.display.Javascript object>"
      ]
     },
     "metadata": {},
     "output_type": "display_data"
    }
   ],
   "source": [
    "# Create Copy\n",
    "df_noMissingValue = data_noMissingValue.copy() #6017 rows and 12 columns"
   ]
  },
  {
   "cell_type": "code",
   "execution_count": 290,
   "metadata": {
    "colab": {
     "base_uri": "https://localhost:8080/",
     "height": 0
    },
    "executionInfo": {
     "elapsed": 9,
     "status": "ok",
     "timestamp": 1665697299210,
     "user": {
      "displayName": "Sushant Upadhyay",
      "userId": "05018399502161361441"
     },
     "user_tz": 420
    },
    "id": "cV2LTtpErl1u",
    "outputId": "3dbbf19b-f7d4-4321-b16c-534f0c8e4d6a"
   },
   "outputs": [
    {
     "name": "stdout",
     "output_type": "stream",
     "text": [
      "<class 'pandas.core.frame.DataFrame'>\n",
      "RangeIndex: 6017 entries, 0 to 6016\n",
      "Data columns (total 12 columns):\n",
      " #   Column             Non-Null Count  Dtype  \n",
      "---  ------             --------------  -----  \n",
      " 0   Location           6017 non-null   object \n",
      " 1   Year               6017 non-null   int64  \n",
      " 2   Kilometers_Driven  6017 non-null   int64  \n",
      " 3   Fuel_Type          6017 non-null   object \n",
      " 4   Transmission       6017 non-null   object \n",
      " 5   Owner_Type         6017 non-null   object \n",
      " 6   Mileage            6017 non-null   float64\n",
      " 7   Engine             6017 non-null   float64\n",
      " 8   Power              6017 non-null   float64\n",
      " 9   Seats              6017 non-null   float64\n",
      " 10  New_Price          6017 non-null   float64\n",
      " 11  Price              6017 non-null   float64\n",
      "dtypes: float64(6), int64(2), object(4)\n",
      "memory usage: 564.2+ KB\n"
     ]
    },
    {
     "data": {
      "application/javascript": [
       "\n",
       "            setTimeout(function() {\n",
       "                var nbb_cell_id = 290;\n",
       "                var nbb_unformatted_code = \"df_noMissingValue.info() #6017 entries\";\n",
       "                var nbb_formatted_code = \"df_noMissingValue.info()  # 6017 entries\";\n",
       "                var nbb_cells = Jupyter.notebook.get_cells();\n",
       "                for (var i = 0; i < nbb_cells.length; ++i) {\n",
       "                    if (nbb_cells[i].input_prompt_number == nbb_cell_id) {\n",
       "                        if (nbb_cells[i].get_text() == nbb_unformatted_code) {\n",
       "                             nbb_cells[i].set_text(nbb_formatted_code);\n",
       "                        }\n",
       "                        break;\n",
       "                    }\n",
       "                }\n",
       "            }, 500);\n",
       "            "
      ],
      "text/plain": [
       "<IPython.core.display.Javascript object>"
      ]
     },
     "metadata": {},
     "output_type": "display_data"
    }
   ],
   "source": [
    "df_noMissingValue.info() #6017 entries"
   ]
  },
  {
   "cell_type": "code",
   "execution_count": 291,
   "metadata": {
    "colab": {
     "base_uri": "https://localhost:8080/",
     "height": 0
    },
    "executionInfo": {
     "elapsed": 8,
     "status": "ok",
     "timestamp": 1665697299210,
     "user": {
      "displayName": "Sushant Upadhyay",
      "userId": "05018399502161361441"
     },
     "user_tz": 420
    },
    "id": "stbmR3LEY2W9",
    "outputId": "93a9e678-5a55-4851-8e64-de55e01f227c"
   },
   "outputs": [
    {
     "data": {
      "text/html": [
       "\n",
       "  <div id=\"df-6bc2dbf0-fe88-4abb-95b1-1970c74e0b4e\">\n",
       "    <div class=\"colab-df-container\">\n",
       "      <div>\n",
       "<style scoped>\n",
       "    .dataframe tbody tr th:only-of-type {\n",
       "        vertical-align: middle;\n",
       "    }\n",
       "\n",
       "    .dataframe tbody tr th {\n",
       "        vertical-align: top;\n",
       "    }\n",
       "\n",
       "    .dataframe thead th {\n",
       "        text-align: right;\n",
       "    }\n",
       "</style>\n",
       "<table border=\"1\" class=\"dataframe\">\n",
       "  <thead>\n",
       "    <tr style=\"text-align: right;\">\n",
       "      <th></th>\n",
       "      <th>count</th>\n",
       "      <th>mean</th>\n",
       "      <th>std</th>\n",
       "      <th>min</th>\n",
       "      <th>25%</th>\n",
       "      <th>50%</th>\n",
       "      <th>75%</th>\n",
       "      <th>max</th>\n",
       "    </tr>\n",
       "  </thead>\n",
       "  <tbody>\n",
       "    <tr>\n",
       "      <th>Year</th>\n",
       "      <td>6017.0</td>\n",
       "      <td>2013.358152</td>\n",
       "      <td>3.269967</td>\n",
       "      <td>1998.00</td>\n",
       "      <td>2011.00</td>\n",
       "      <td>2014.00</td>\n",
       "      <td>2016.00</td>\n",
       "      <td>2019.00</td>\n",
       "    </tr>\n",
       "    <tr>\n",
       "      <th>Kilometers_Driven</th>\n",
       "      <td>6017.0</td>\n",
       "      <td>58742.282034</td>\n",
       "      <td>91283.745583</td>\n",
       "      <td>171.00</td>\n",
       "      <td>34000.00</td>\n",
       "      <td>53000.00</td>\n",
       "      <td>73000.00</td>\n",
       "      <td>6500000.00</td>\n",
       "    </tr>\n",
       "    <tr>\n",
       "      <th>Mileage</th>\n",
       "      <td>6017.0</td>\n",
       "      <td>18.134961</td>\n",
       "      <td>4.582289</td>\n",
       "      <td>0.00</td>\n",
       "      <td>15.17</td>\n",
       "      <td>18.15</td>\n",
       "      <td>21.10</td>\n",
       "      <td>33.54</td>\n",
       "    </tr>\n",
       "    <tr>\n",
       "      <th>Engine</th>\n",
       "      <td>6017.0</td>\n",
       "      <td>1620.737078</td>\n",
       "      <td>599.398319</td>\n",
       "      <td>624.00</td>\n",
       "      <td>1198.00</td>\n",
       "      <td>1493.00</td>\n",
       "      <td>1969.00</td>\n",
       "      <td>5998.00</td>\n",
       "    </tr>\n",
       "    <tr>\n",
       "      <th>Power</th>\n",
       "      <td>6017.0</td>\n",
       "      <td>112.902114</td>\n",
       "      <td>53.282014</td>\n",
       "      <td>34.20</td>\n",
       "      <td>78.00</td>\n",
       "      <td>97.70</td>\n",
       "      <td>138.03</td>\n",
       "      <td>560.00</td>\n",
       "    </tr>\n",
       "    <tr>\n",
       "      <th>Seats</th>\n",
       "      <td>6017.0</td>\n",
       "      <td>5.276882</td>\n",
       "      <td>0.806464</td>\n",
       "      <td>0.00</td>\n",
       "      <td>5.00</td>\n",
       "      <td>5.00</td>\n",
       "      <td>5.00</td>\n",
       "      <td>10.00</td>\n",
       "    </tr>\n",
       "    <tr>\n",
       "      <th>New_Price</th>\n",
       "      <td>6017.0</td>\n",
       "      <td>21.500754</td>\n",
       "      <td>24.336731</td>\n",
       "      <td>3.91</td>\n",
       "      <td>7.88</td>\n",
       "      <td>11.30</td>\n",
       "      <td>21.77</td>\n",
       "      <td>375.00</td>\n",
       "    </tr>\n",
       "    <tr>\n",
       "      <th>Price</th>\n",
       "      <td>6017.0</td>\n",
       "      <td>9.478340</td>\n",
       "      <td>11.189605</td>\n",
       "      <td>0.44</td>\n",
       "      <td>3.50</td>\n",
       "      <td>5.64</td>\n",
       "      <td>9.95</td>\n",
       "      <td>160.00</td>\n",
       "    </tr>\n",
       "  </tbody>\n",
       "</table>\n",
       "</div>\n",
       "      <button class=\"colab-df-convert\" onclick=\"convertToInteractive('df-6bc2dbf0-fe88-4abb-95b1-1970c74e0b4e')\"\n",
       "              title=\"Convert this dataframe to an interactive table.\"\n",
       "              style=\"display:none;\">\n",
       "        \n",
       "  <svg xmlns=\"http://www.w3.org/2000/svg\" height=\"24px\"viewBox=\"0 0 24 24\"\n",
       "       width=\"24px\">\n",
       "    <path d=\"M0 0h24v24H0V0z\" fill=\"none\"/>\n",
       "    <path d=\"M18.56 5.44l.94 2.06.94-2.06 2.06-.94-2.06-.94-.94-2.06-.94 2.06-2.06.94zm-11 1L8.5 8.5l.94-2.06 2.06-.94-2.06-.94L8.5 2.5l-.94 2.06-2.06.94zm10 10l.94 2.06.94-2.06 2.06-.94-2.06-.94-.94-2.06-.94 2.06-2.06.94z\"/><path d=\"M17.41 7.96l-1.37-1.37c-.4-.4-.92-.59-1.43-.59-.52 0-1.04.2-1.43.59L10.3 9.45l-7.72 7.72c-.78.78-.78 2.05 0 2.83L4 21.41c.39.39.9.59 1.41.59.51 0 1.02-.2 1.41-.59l7.78-7.78 2.81-2.81c.8-.78.8-2.07 0-2.86zM5.41 20L4 18.59l7.72-7.72 1.47 1.35L5.41 20z\"/>\n",
       "  </svg>\n",
       "      </button>\n",
       "      \n",
       "  <style>\n",
       "    .colab-df-container {\n",
       "      display:flex;\n",
       "      flex-wrap:wrap;\n",
       "      gap: 12px;\n",
       "    }\n",
       "\n",
       "    .colab-df-convert {\n",
       "      background-color: #E8F0FE;\n",
       "      border: none;\n",
       "      border-radius: 50%;\n",
       "      cursor: pointer;\n",
       "      display: none;\n",
       "      fill: #1967D2;\n",
       "      height: 32px;\n",
       "      padding: 0 0 0 0;\n",
       "      width: 32px;\n",
       "    }\n",
       "\n",
       "    .colab-df-convert:hover {\n",
       "      background-color: #E2EBFA;\n",
       "      box-shadow: 0px 1px 2px rgba(60, 64, 67, 0.3), 0px 1px 3px 1px rgba(60, 64, 67, 0.15);\n",
       "      fill: #174EA6;\n",
       "    }\n",
       "\n",
       "    [theme=dark] .colab-df-convert {\n",
       "      background-color: #3B4455;\n",
       "      fill: #D2E3FC;\n",
       "    }\n",
       "\n",
       "    [theme=dark] .colab-df-convert:hover {\n",
       "      background-color: #434B5C;\n",
       "      box-shadow: 0px 1px 3px 1px rgba(0, 0, 0, 0.15);\n",
       "      filter: drop-shadow(0px 1px 2px rgba(0, 0, 0, 0.3));\n",
       "      fill: #FFFFFF;\n",
       "    }\n",
       "  </style>\n",
       "\n",
       "      <script>\n",
       "        const buttonEl =\n",
       "          document.querySelector('#df-6bc2dbf0-fe88-4abb-95b1-1970c74e0b4e button.colab-df-convert');\n",
       "        buttonEl.style.display =\n",
       "          google.colab.kernel.accessAllowed ? 'block' : 'none';\n",
       "\n",
       "        async function convertToInteractive(key) {\n",
       "          const element = document.querySelector('#df-6bc2dbf0-fe88-4abb-95b1-1970c74e0b4e');\n",
       "          const dataTable =\n",
       "            await google.colab.kernel.invokeFunction('convertToInteractive',\n",
       "                                                     [key], {});\n",
       "          if (!dataTable) return;\n",
       "\n",
       "          const docLinkHtml = 'Like what you see? Visit the ' +\n",
       "            '<a target=\"_blank\" href=https://colab.research.google.com/notebooks/data_table.ipynb>data table notebook</a>'\n",
       "            + ' to learn more about interactive tables.';\n",
       "          element.innerHTML = '';\n",
       "          dataTable['output_type'] = 'display_data';\n",
       "          await google.colab.output.renderOutput(dataTable, element);\n",
       "          const docLink = document.createElement('div');\n",
       "          docLink.innerHTML = docLinkHtml;\n",
       "          element.appendChild(docLink);\n",
       "        }\n",
       "      </script>\n",
       "    </div>\n",
       "  </div>\n",
       "  "
      ],
      "text/plain": [
       "                    count          mean           std      min       25%  \\\n",
       "Year               6017.0   2013.358152      3.269967  1998.00   2011.00   \n",
       "Kilometers_Driven  6017.0  58742.282034  91283.745583   171.00  34000.00   \n",
       "Mileage            6017.0     18.134961      4.582289     0.00     15.17   \n",
       "Engine             6017.0   1620.737078    599.398319   624.00   1198.00   \n",
       "Power              6017.0    112.902114     53.282014    34.20     78.00   \n",
       "Seats              6017.0      5.276882      0.806464     0.00      5.00   \n",
       "New_Price          6017.0     21.500754     24.336731     3.91      7.88   \n",
       "Price              6017.0      9.478340     11.189605     0.44      3.50   \n",
       "\n",
       "                        50%       75%         max  \n",
       "Year                2014.00   2016.00     2019.00  \n",
       "Kilometers_Driven  53000.00  73000.00  6500000.00  \n",
       "Mileage               18.15     21.10       33.54  \n",
       "Engine              1493.00   1969.00     5998.00  \n",
       "Power                 97.70    138.03      560.00  \n",
       "Seats                  5.00      5.00       10.00  \n",
       "New_Price             11.30     21.77      375.00  \n",
       "Price                  5.64      9.95      160.00  "
      ]
     },
     "execution_count": 291,
     "metadata": {},
     "output_type": "execute_result"
    },
    {
     "data": {
      "application/javascript": [
       "\n",
       "            setTimeout(function() {\n",
       "                var nbb_cell_id = 291;\n",
       "                var nbb_unformatted_code = \"df_noMissingValue.describe().T\";\n",
       "                var nbb_formatted_code = \"df_noMissingValue.describe().T\";\n",
       "                var nbb_cells = Jupyter.notebook.get_cells();\n",
       "                for (var i = 0; i < nbb_cells.length; ++i) {\n",
       "                    if (nbb_cells[i].input_prompt_number == nbb_cell_id) {\n",
       "                        if (nbb_cells[i].get_text() == nbb_unformatted_code) {\n",
       "                             nbb_cells[i].set_text(nbb_formatted_code);\n",
       "                        }\n",
       "                        break;\n",
       "                    }\n",
       "                }\n",
       "            }, 500);\n",
       "            "
      ],
      "text/plain": [
       "<IPython.core.display.Javascript object>"
      ]
     },
     "metadata": {},
     "output_type": "display_data"
    }
   ],
   "source": [
    "df_noMissingValue.describe().T"
   ]
  },
  {
   "cell_type": "markdown",
   "metadata": {
    "id": "vrSQCXpzZ-aO"
   },
   "source": [
    "### Outlier Detection\n",
    "\n",
    "Some of the commonly methods to deal with the data points that we actually flag as outliers are:\n",
    "\n",
    "* Replacement with null values - We can consider these data points as missing data and replace the abnormal values with NaNs.\n",
    "* IQR method - Replace the data points with the lower whisker (Q1 - 1.5 * IQR) or upper whisker (Q3 + 1.5 * IQR) value.\n",
    "* We can also drop these observations, but we might end up with losing other relevant observations as well."
   ]
  },
  {
   "cell_type": "code",
   "execution_count": 292,
   "metadata": {
    "colab": {
     "base_uri": "https://localhost:8080/",
     "height": 0
    },
    "executionInfo": {
     "elapsed": 3581,
     "status": "ok",
     "timestamp": 1665697302784,
     "user": {
      "displayName": "Sushant Upadhyay",
      "userId": "05018399502161361441"
     },
     "user_tz": 420
    },
    "id": "UgmFdmnMaTyO",
    "outputId": "f6f70f81-6e03-4f48-dad0-145365e4121c"
   },
   "outputs": [
    {
     "data": {
      "image/png": "[encoded data removed]",
      "text/plain": [
       "<Figure size 1080x864 with 7 Axes>"
      ]
     },
     "metadata": {},
     "output_type": "display_data"
    },
    {
     "data": {
      "application/javascript": [
       "\n",
       "            setTimeout(function() {\n",
       "                var nbb_cell_id = 292;\n",
       "                var nbb_unformatted_code = \"# outlier detection using boxplot\\n# selecting the numerical columns of data and adding their names in a list \\nnumeric_columns = ['Year', 'Kilometers_Driven','Mileage','Engine', 'Power' , 'New_Price','Price']\\nplt.figure(figsize=(15, 12))\\n\\nfor i, variable in enumerate(numeric_columns):\\n    plt.subplot(4, 4, i + 1)\\n    plt.boxplot(df_noMissingValue[variable], whis=1.5)\\n    plt.tight_layout()\\n    plt.title(variable)\\n\\nplt.show()\";\n",
       "                var nbb_formatted_code = \"# outlier detection using boxplot\\n# selecting the numerical columns of data and adding their names in a list\\nnumeric_columns = [\\n    \\\"Year\\\",\\n    \\\"Kilometers_Driven\\\",\\n    \\\"Mileage\\\",\\n    \\\"Engine\\\",\\n    \\\"Power\\\",\\n    \\\"New_Price\\\",\\n    \\\"Price\\\",\\n]\\nplt.figure(figsize=(15, 12))\\n\\nfor i, variable in enumerate(numeric_columns):\\n    plt.subplot(4, 4, i + 1)\\n    plt.boxplot(df_noMissingValue[variable], whis=1.5)\\n    plt.tight_layout()\\n    plt.title(variable)\\n\\nplt.show()\";\n",
       "                var nbb_cells = Jupyter.notebook.get_cells();\n",
       "                for (var i = 0; i < nbb_cells.length; ++i) {\n",
       "                    if (nbb_cells[i].input_prompt_number == nbb_cell_id) {\n",
       "                        if (nbb_cells[i].get_text() == nbb_unformatted_code) {\n",
       "                             nbb_cells[i].set_text(nbb_formatted_code);\n",
       "                        }\n",
       "                        break;\n",
       "                    }\n",
       "                }\n",
       "            }, 500);\n",
       "            "
      ],
      "text/plain": [
       "<IPython.core.display.Javascript object>"
      ]
     },
     "metadata": {},
     "output_type": "display_data"
    }
   ],
   "source": [
    "# outlier detection using boxplot\n",
    "# selecting the numerical columns of data and adding their names in a list \n",
    "numeric_columns = ['Year', 'Kilometers_Driven','Mileage','Engine', 'Power' , 'New_Price','Price']\n",
    "plt.figure(figsize=(15, 12))\n",
    "\n",
    "for i, variable in enumerate(numeric_columns):\n",
    "    plt.subplot(4, 4, i + 1)\n",
    "    plt.boxplot(df_noMissingValue[variable], whis=1.5)\n",
    "    plt.tight_layout()\n",
    "    plt.title(variable)\n",
    "\n",
    "plt.show()"
   ]
  },
  {
   "cell_type": "code",
   "execution_count": 293,
   "metadata": {
    "colab": {
     "base_uri": "https://localhost:8080/",
     "height": 0
    },
    "executionInfo": {
     "elapsed": 8,
     "status": "ok",
     "timestamp": 1665697302784,
     "user": {
      "displayName": "Sushant Upadhyay",
      "userId": "05018399502161361441"
     },
     "user_tz": 420
    },
    "id": "k-TIsKD5a8cG",
    "outputId": "49e33330-9518-4846-f092-465b08ca59b7"
   },
   "outputs": [
    {
     "data": {
      "application/javascript": [
       "\n",
       "            setTimeout(function() {\n",
       "                var nbb_cell_id = 293;\n",
       "                var nbb_unformatted_code = \"# to find the 25th percentile and 75th percentile for the numerical columns.\\nQ1 = df_noMissingValue[numeric_columns].quantile(0.25)\\nQ3 = df_noMissingValue[numeric_columns].quantile(0.75)\\n\\nIQR = Q3 - Q1                   #Inter Quantile Range (75th percentile - 25th percentile)\\n\\nlower_whisker = Q1 - 1.5*IQR    #Finding lower and upper bounds for all values. All values outside these bounds are outliers\\nupper_whisker = Q3 + 1.5*IQR\";\n",
       "                var nbb_formatted_code = \"# to find the 25th percentile and 75th percentile for the numerical columns.\\nQ1 = df_noMissingValue[numeric_columns].quantile(0.25)\\nQ3 = df_noMissingValue[numeric_columns].quantile(0.75)\\n\\nIQR = Q3 - Q1  # Inter Quantile Range (75th percentile - 25th percentile)\\n\\nlower_whisker = (\\n    Q1 - 1.5 * IQR\\n)  # Finding lower and upper bounds for all values. All values outside these bounds are outliers\\nupper_whisker = Q3 + 1.5 * IQR\";\n",
       "                var nbb_cells = Jupyter.notebook.get_cells();\n",
       "                for (var i = 0; i < nbb_cells.length; ++i) {\n",
       "                    if (nbb_cells[i].input_prompt_number == nbb_cell_id) {\n",
       "                        if (nbb_cells[i].get_text() == nbb_unformatted_code) {\n",
       "                             nbb_cells[i].set_text(nbb_formatted_code);\n",
       "                        }\n",
       "                        break;\n",
       "                    }\n",
       "                }\n",
       "            }, 500);\n",
       "            "
      ],
      "text/plain": [
       "<IPython.core.display.Javascript object>"
      ]
     },
     "metadata": {},
     "output_type": "display_data"
    }
   ],
   "source": [
    "# to find the 25th percentile and 75th percentile for the numerical columns.\n",
    "Q1 = df_noMissingValue[numeric_columns].quantile(0.25)\n",
    "Q3 = df_noMissingValue[numeric_columns].quantile(0.75)\n",
    "\n",
    "IQR = Q3 - Q1                   #Inter Quantile Range (75th percentile - 25th percentile)\n",
    "\n",
    "lower_whisker = Q1 - 1.5*IQR    #Finding lower and upper bounds for all values. All values outside these bounds are outliers\n",
    "upper_whisker = Q3 + 1.5*IQR"
   ]
  },
  {
   "cell_type": "code",
   "execution_count": 294,
   "metadata": {
    "colab": {
     "base_uri": "https://localhost:8080/",
     "height": 0
    },
    "executionInfo": {
     "elapsed": 6,
     "status": "ok",
     "timestamp": 1665697302784,
     "user": {
      "displayName": "Sushant Upadhyay",
      "userId": "05018399502161361441"
     },
     "user_tz": 420
    },
    "id": "qgg_PWcPbAfx",
    "outputId": "26c7081b-c2b1-4e1e-c2bb-00d6d6e01183"
   },
   "outputs": [
    {
     "data": {
      "text/plain": [
       "Year                  0.830979\n",
       "Kilometers_Driven     3.357155\n",
       "Mileage               1.362805\n",
       "Engine                1.013794\n",
       "Power                 3.972079\n",
       "New_Price            15.356490\n",
       "Price                11.932857\n",
       "dtype: float64"
      ]
     },
     "execution_count": 294,
     "metadata": {},
     "output_type": "execute_result"
    },
    {
     "data": {
      "application/javascript": [
       "\n",
       "            setTimeout(function() {\n",
       "                var nbb_cell_id = 294;\n",
       "                var nbb_unformatted_code = \"# Percentage of outliers in each column\\n((df_noMissingValue[numeric_columns] < lower_whisker) | (df_noMissingValue[numeric_columns] > upper_whisker)).sum()/df_noMissingValue.shape[0]*100\";\n",
       "                var nbb_formatted_code = \"# Percentage of outliers in each column\\n(\\n    (df_noMissingValue[numeric_columns] < lower_whisker)\\n    | (df_noMissingValue[numeric_columns] > upper_whisker)\\n).sum() / df_noMissingValue.shape[0] * 100\";\n",
       "                var nbb_cells = Jupyter.notebook.get_cells();\n",
       "                for (var i = 0; i < nbb_cells.length; ++i) {\n",
       "                    if (nbb_cells[i].input_prompt_number == nbb_cell_id) {\n",
       "                        if (nbb_cells[i].get_text() == nbb_unformatted_code) {\n",
       "                             nbb_cells[i].set_text(nbb_formatted_code);\n",
       "                        }\n",
       "                        break;\n",
       "                    }\n",
       "                }\n",
       "            }, 500);\n",
       "            "
      ],
      "text/plain": [
       "<IPython.core.display.Javascript object>"
      ]
     },
     "metadata": {},
     "output_type": "display_data"
    }
   ],
   "source": [
    "# Percentage of outliers in each column\n",
    "((df_noMissingValue[numeric_columns] < lower_whisker) | (df_noMissingValue[numeric_columns] > upper_whisker)).sum()/df_noMissingValue.shape[0]*100"
   ]
  },
  {
   "cell_type": "code",
   "execution_count": 295,
   "metadata": {
    "colab": {
     "base_uri": "https://localhost:8080/",
     "height": 0
    },
    "executionInfo": {
     "elapsed": 922,
     "status": "ok",
     "timestamp": 1665697303701,
     "user": {
      "displayName": "Sushant Upadhyay",
      "userId": "05018399502161361441"
     },
     "user_tz": 420
    },
    "id": "h3DFzR_jntbp",
    "outputId": "5c2a5bb7-4125-42c1-cbec-942b5d2d72c3"
   },
   "outputs": [
    {
     "data": {
      "image/png": "[encoded data removed]",
      "text/plain": [
       "<Figure size 432x288 with 1 Axes>"
      ]
     },
     "metadata": {},
     "output_type": "display_data"
    },
    {
     "data": {
      "application/javascript": [
       "\n",
       "            setTimeout(function() {\n",
       "                var nbb_cell_id = 295;\n",
       "                var nbb_unformatted_code = \"# Checking log transformation for Price. \\nplt.hist(np.log(df_noMissingValue['Price'] ), 50)\\nplt.title('log(Price)')\\nplt.show()\";\n",
       "                var nbb_formatted_code = \"# Checking log transformation for Price.\\nplt.hist(np.log(df_noMissingValue[\\\"Price\\\"]), 50)\\nplt.title(\\\"log(Price)\\\")\\nplt.show()\";\n",
       "                var nbb_cells = Jupyter.notebook.get_cells();\n",
       "                for (var i = 0; i < nbb_cells.length; ++i) {\n",
       "                    if (nbb_cells[i].input_prompt_number == nbb_cell_id) {\n",
       "                        if (nbb_cells[i].get_text() == nbb_unformatted_code) {\n",
       "                             nbb_cells[i].set_text(nbb_formatted_code);\n",
       "                        }\n",
       "                        break;\n",
       "                    }\n",
       "                }\n",
       "            }, 500);\n",
       "            "
      ],
      "text/plain": [
       "<IPython.core.display.Javascript object>"
      ]
     },
     "metadata": {},
     "output_type": "display_data"
    }
   ],
   "source": [
    "# Checking log transformation for Price. \n",
    "plt.hist(np.log(df_noMissingValue['Price'] ), 50)\n",
    "plt.title('log(Price)')\n",
    "plt.show()"
   ]
  },
  {
   "cell_type": "markdown",
   "metadata": {
    "id": "njgJEs_nbe2B"
   },
   "source": [
    "* Price and New_Price- The selling price of car depends upon various factors (for example mileage,Year, power of a car) and the prices can change from time to time. Hence, the selling price of car can be considered as genuine values and not outliers.\n",
    "* Kilometers_Driven max value seems to be vary high. We can consider doing outlier treatment. \n",
    "* For all other values, the % is less and they may not need outlier treatment."
   ]
  },
  {
   "cell_type": "markdown",
   "metadata": {
    "id": "_Cm3Hq78dgNK"
   },
   "source": [
    "###**Treating outliers**\n",
    "\n",
    "We will cap/clip the minimum and maximum value of these columns to the lower and upper whisker value of the boxplot found using  **Q1 - 1.5*IQR** and **Q3 + 1.5*IQR**, respectively."
   ]
  },
  {
   "cell_type": "markdown",
   "metadata": {
    "id": "uDv4wTW5d4lq"
   },
   "source": [
    "**Creating a function to floor and cap/clip outliers in a column**"
   ]
  },
  {
   "cell_type": "code",
   "execution_count": 296,
   "metadata": {
    "colab": {
     "base_uri": "https://localhost:8080/",
     "height": 0
    },
    "executionInfo": {
     "elapsed": 5,
     "status": "ok",
     "timestamp": 1665697303702,
     "user": {
      "displayName": "Sushant Upadhyay",
      "userId": "05018399502161361441"
     },
     "user_tz": 420
    },
    "id": "S37z6YJ4d4_e",
    "outputId": "c9ad85a8-78b4-4e15-88b7-ce0a968d4278"
   },
   "outputs": [
    {
     "data": {
      "application/javascript": [
       "\n",
       "            setTimeout(function() {\n",
       "                var nbb_cell_id = 296;\n",
       "                var nbb_unformatted_code = \"def treat_outliers(df_noMissingValue, col):\\n    \\\"\\\"\\\"\\n    treats outliers in a variable\\n    col: str, name of the numerical variable\\n    df: dataframe\\n    col: name of the column\\n    \\\"\\\"\\\"\\n    Q1 = df_noMissingValue[col].quantile(0.25)  # 25th quantile\\n    Q3 = df_noMissingValue[col].quantile(0.75)  # 75th quantile\\n    IQR = Q3 - Q1                # Inter Quantile Range (75th perentile - 25th percentile)\\n    lower_whisker = Q1 - 1.5 * IQR\\n    upper_whisker = Q3 + 1.5 * IQR\\n\\n    # all the values smaller than lower_whisker will be assigned the value of lower_whisker\\n    # all the values greater than upper_whisker will be assigned the value of upper_whisker\\n    # the assignment will be done by using the clip function of NumPy\\n    df_noMissingValue[col] = np.clip(df_noMissingValue[col], lower_whisker, upper_whisker)\\n\\n    return df_noMissingValue\";\n",
       "                var nbb_formatted_code = \"def treat_outliers(df_noMissingValue, col):\\n    \\\"\\\"\\\"\\n    treats outliers in a variable\\n    col: str, name of the numerical variable\\n    df: dataframe\\n    col: name of the column\\n    \\\"\\\"\\\"\\n    Q1 = df_noMissingValue[col].quantile(0.25)  # 25th quantile\\n    Q3 = df_noMissingValue[col].quantile(0.75)  # 75th quantile\\n    IQR = Q3 - Q1  # Inter Quantile Range (75th perentile - 25th percentile)\\n    lower_whisker = Q1 - 1.5 * IQR\\n    upper_whisker = Q3 + 1.5 * IQR\\n\\n    # all the values smaller than lower_whisker will be assigned the value of lower_whisker\\n    # all the values greater than upper_whisker will be assigned the value of upper_whisker\\n    # the assignment will be done by using the clip function of NumPy\\n    df_noMissingValue[col] = np.clip(\\n        df_noMissingValue[col], lower_whisker, upper_whisker\\n    )\\n\\n    return df_noMissingValue\";\n",
       "                var nbb_cells = Jupyter.notebook.get_cells();\n",
       "                for (var i = 0; i < nbb_cells.length; ++i) {\n",
       "                    if (nbb_cells[i].input_prompt_number == nbb_cell_id) {\n",
       "                        if (nbb_cells[i].get_text() == nbb_unformatted_code) {\n",
       "                             nbb_cells[i].set_text(nbb_formatted_code);\n",
       "                        }\n",
       "                        break;\n",
       "                    }\n",
       "                }\n",
       "            }, 500);\n",
       "            "
      ],
      "text/plain": [
       "<IPython.core.display.Javascript object>"
      ]
     },
     "metadata": {},
     "output_type": "display_data"
    }
   ],
   "source": [
    "def treat_outliers(df_noMissingValue, col):\n",
    "    \"\"\"\n",
    "    treats outliers in a variable\n",
    "    col: str, name of the numerical variable\n",
    "    df: dataframe\n",
    "    col: name of the column\n",
    "    \"\"\"\n",
    "    Q1 = df_noMissingValue[col].quantile(0.25)  # 25th quantile\n",
    "    Q3 = df_noMissingValue[col].quantile(0.75)  # 75th quantile\n",
    "    IQR = Q3 - Q1                # Inter Quantile Range (75th perentile - 25th percentile)\n",
    "    lower_whisker = Q1 - 1.5 * IQR\n",
    "    upper_whisker = Q3 + 1.5 * IQR\n",
    "\n",
    "    # all the values smaller than lower_whisker will be assigned the value of lower_whisker\n",
    "    # all the values greater than upper_whisker will be assigned the value of upper_whisker\n",
    "    # the assignment will be done by using the clip function of NumPy\n",
    "    df_noMissingValue[col] = np.clip(df_noMissingValue[col], lower_whisker, upper_whisker)\n",
    "\n",
    "    return df_noMissingValue"
   ]
  },
  {
   "cell_type": "code",
   "execution_count": 297,
   "metadata": {
    "colab": {
     "base_uri": "https://localhost:8080/",
     "height": 0
    },
    "executionInfo": {
     "elapsed": 516,
     "status": "ok",
     "timestamp": 1665697304214,
     "user": {
      "displayName": "Sushant Upadhyay",
      "userId": "05018399502161361441"
     },
     "user_tz": 420
    },
    "id": "6Cy7srTTehdp",
    "outputId": "b517cd3d-aa20-4316-953f-34db733b47b7"
   },
   "outputs": [
    {
     "data": {
      "image/png": "[encoded data removed]",
      "text/plain": [
       "<Figure size 432x288 with 1 Axes>"
      ]
     },
     "metadata": {},
     "output_type": "display_data"
    },
    {
     "data": {
      "application/javascript": [
       "\n",
       "            setTimeout(function() {\n",
       "                var nbb_cell_id = 297;\n",
       "                var nbb_unformatted_code = \"df_noMissingValue = treat_outliers(df_noMissingValue,'Kilometers_Driven')\\n\\n# visualizing the column after outlier treatment\\nsns.boxplot(data=df_noMissingValue,x='Kilometers_Driven')\\nplt.show()\";\n",
       "                var nbb_formatted_code = \"df_noMissingValue = treat_outliers(df_noMissingValue, \\\"Kilometers_Driven\\\")\\n\\n# visualizing the column after outlier treatment\\nsns.boxplot(data=df_noMissingValue, x=\\\"Kilometers_Driven\\\")\\nplt.show()\";\n",
       "                var nbb_cells = Jupyter.notebook.get_cells();\n",
       "                for (var i = 0; i < nbb_cells.length; ++i) {\n",
       "                    if (nbb_cells[i].input_prompt_number == nbb_cell_id) {\n",
       "                        if (nbb_cells[i].get_text() == nbb_unformatted_code) {\n",
       "                             nbb_cells[i].set_text(nbb_formatted_code);\n",
       "                        }\n",
       "                        break;\n",
       "                    }\n",
       "                }\n",
       "            }, 500);\n",
       "            "
      ],
      "text/plain": [
       "<IPython.core.display.Javascript object>"
      ]
     },
     "metadata": {},
     "output_type": "display_data"
    }
   ],
   "source": [
    "df_noMissingValue = treat_outliers(df_noMissingValue,'Kilometers_Driven')\n",
    "\n",
    "# visualizing the column after outlier treatment\n",
    "sns.boxplot(data=df_noMissingValue,x='Kilometers_Driven')\n",
    "plt.show()"
   ]
  },
  {
   "cell_type": "code",
   "execution_count": 298,
   "metadata": {
    "colab": {
     "base_uri": "https://localhost:8080/",
     "height": 0
    },
    "executionInfo": {
     "elapsed": 5,
     "status": "ok",
     "timestamp": 1665697304214,
     "user": {
      "displayName": "Sushant Upadhyay",
      "userId": "05018399502161361441"
     },
     "user_tz": 420
    },
    "id": "4qJrzqGsfFHP",
    "outputId": "8c492b98-9858-4ca5-edfb-b237594b8934"
   },
   "outputs": [
    {
     "data": {
      "application/javascript": [
       "\n",
       "            setTimeout(function() {\n",
       "                var nbb_cell_id = 298;\n",
       "                var nbb_unformatted_code = \"# saving the dataset with all the missing values treated\\ndf_noMissingValue.to_csv('/content/drive/My Drive/Python Learning/Projects/Project2/used_cars_data_NoOutliers.csv',index=False)\";\n",
       "                var nbb_formatted_code = \"# saving the dataset with all the missing values treated\\ndf_noMissingValue.to_csv(\\n    \\\"/content/drive/My Drive/Python Learning/Projects/Project2/used_cars_data_NoOutliers.csv\\\",\\n    index=False,\\n)\";\n",
       "                var nbb_cells = Jupyter.notebook.get_cells();\n",
       "                for (var i = 0; i < nbb_cells.length; ++i) {\n",
       "                    if (nbb_cells[i].input_prompt_number == nbb_cell_id) {\n",
       "                        if (nbb_cells[i].get_text() == nbb_unformatted_code) {\n",
       "                             nbb_cells[i].set_text(nbb_formatted_code);\n",
       "                        }\n",
       "                        break;\n",
       "                    }\n",
       "                }\n",
       "            }, 500);\n",
       "            "
      ],
      "text/plain": [
       "<IPython.core.display.Javascript object>"
      ]
     },
     "metadata": {},
     "output_type": "display_data"
    }
   ],
   "source": [
    "# saving the dataset with all the missing values treated\n",
    "df_noMissingValue.to_csv('/content/drive/My Drive/Python Learning/Projects/Project2/used_cars_data_NoOutliers.csv',index=False)"
   ]
  },
  {
   "cell_type": "markdown",
   "metadata": {
    "id": "fOXVrXaHdJAI"
   },
   "source": [
    "##Feature Engineering"
   ]
  },
  {
   "cell_type": "markdown",
   "metadata": {
    "id": "mIFoTQ0tfZql"
   },
   "source": [
    "- Don't see need to reduce any column. All the column data can be handled. Skipping Feature Engineering"
   ]
  },
  {
   "cell_type": "markdown",
   "metadata": {
    "id": "VzHNIqFJn0Ov"
   },
   "source": [
    "# **Model building - Linear Regression**"
   ]
  },
  {
   "cell_type": "code",
   "execution_count": 299,
   "metadata": {
    "colab": {
     "base_uri": "https://localhost:8080/",
     "height": 0
    },
    "executionInfo": {
     "elapsed": 3,
     "status": "ok",
     "timestamp": 1665697305307,
     "user": {
      "displayName": "Sushant Upadhyay",
      "userId": "05018399502161361441"
     },
     "user_tz": 420
    },
    "id": "ttp7wp7sfnTF",
    "outputId": "fca74304-7196-4fe9-ab4a-1821a9778029"
   },
   "outputs": [
    {
     "name": "stdout",
     "output_type": "stream",
     "text": [
      "There are 6017 rows and 12 columns.\n"
     ]
    },
    {
     "data": {
      "application/javascript": [
       "\n",
       "            setTimeout(function() {\n",
       "                var nbb_cell_id = 299;\n",
       "                var nbb_unformatted_code = \"# Read new file without missing values.\\ndata_noOutliers = pd.read_csv('/content/drive/My Drive/Python Learning/Projects/Project2/used_cars_data_NoOutliers.csv')\\n# checking the shape of the data\\nprint(f\\\"There are {data_noOutliers.shape[0]} rows and {data_noOutliers.shape[1]} columns.\\\")  # f-string\";\n",
       "                var nbb_formatted_code = \"# Read new file without missing values.\\ndata_noOutliers = pd.read_csv(\\n    \\\"/content/drive/My Drive/Python Learning/Projects/Project2/used_cars_data_NoOutliers.csv\\\"\\n)\\n# checking the shape of the data\\nprint(\\n    f\\\"There are {data_noOutliers.shape[0]} rows and {data_noOutliers.shape[1]} columns.\\\"\\n)  # f-string\";\n",
       "                var nbb_cells = Jupyter.notebook.get_cells();\n",
       "                for (var i = 0; i < nbb_cells.length; ++i) {\n",
       "                    if (nbb_cells[i].input_prompt_number == nbb_cell_id) {\n",
       "                        if (nbb_cells[i].get_text() == nbb_unformatted_code) {\n",
       "                             nbb_cells[i].set_text(nbb_formatted_code);\n",
       "                        }\n",
       "                        break;\n",
       "                    }\n",
       "                }\n",
       "            }, 500);\n",
       "            "
      ],
      "text/plain": [
       "<IPython.core.display.Javascript object>"
      ]
     },
     "metadata": {},
     "output_type": "display_data"
    }
   ],
   "source": [
    "# Read new file without missing values.\n",
    "data_noOutliers = pd.read_csv('/content/drive/My Drive/Python Learning/Projects/Project2/used_cars_data_NoOutliers.csv')\n",
    "# checking the shape of the data\n",
    "print(f\"There are {data_noOutliers.shape[0]} rows and {data_noOutliers.shape[1]} columns.\")  # f-string"
   ]
  },
  {
   "cell_type": "code",
   "execution_count": 300,
   "metadata": {
    "colab": {
     "base_uri": "https://localhost:8080/",
     "height": 0
    },
    "executionInfo": {
     "elapsed": 11,
     "status": "ok",
     "timestamp": 1665697305793,
     "user": {
      "displayName": "Sushant Upadhyay",
      "userId": "05018399502161361441"
     },
     "user_tz": 420
    },
    "id": "7EwsxaQ4fzje",
    "outputId": "d905a9c7-5ad9-4869-aa01-8a9e10eef19c"
   },
   "outputs": [
    {
     "data": {
      "application/javascript": [
       "\n",
       "            setTimeout(function() {\n",
       "                var nbb_cell_id = 300;\n",
       "                var nbb_unformatted_code = \"# Create Copy\\ndf_noOutliers = data_noOutliers.copy() #6017 rows and 12 columns\";\n",
       "                var nbb_formatted_code = \"# Create Copy\\ndf_noOutliers = data_noOutliers.copy()  # 6017 rows and 12 columns\";\n",
       "                var nbb_cells = Jupyter.notebook.get_cells();\n",
       "                for (var i = 0; i < nbb_cells.length; ++i) {\n",
       "                    if (nbb_cells[i].input_prompt_number == nbb_cell_id) {\n",
       "                        if (nbb_cells[i].get_text() == nbb_unformatted_code) {\n",
       "                             nbb_cells[i].set_text(nbb_formatted_code);\n",
       "                        }\n",
       "                        break;\n",
       "                    }\n",
       "                }\n",
       "            }, 500);\n",
       "            "
      ],
      "text/plain": [
       "<IPython.core.display.Javascript object>"
      ]
     },
     "metadata": {},
     "output_type": "display_data"
    }
   ],
   "source": [
    "# Create Copy\n",
    "df_noOutliers = data_noOutliers.copy() #6017 rows and 12 columns"
   ]
  },
  {
   "cell_type": "code",
   "execution_count": 301,
   "metadata": {
    "colab": {
     "base_uri": "https://localhost:8080/",
     "height": 0
    },
    "executionInfo": {
     "elapsed": 11,
     "status": "ok",
     "timestamp": 1665697305794,
     "user": {
      "displayName": "Sushant Upadhyay",
      "userId": "05018399502161361441"
     },
     "user_tz": 420
    },
    "id": "uvu2CJoGf5Di",
    "outputId": "8cdc4d5e-830f-4712-8fb0-2347ad53ef5c"
   },
   "outputs": [
    {
     "name": "stdout",
     "output_type": "stream",
     "text": [
      "<class 'pandas.core.frame.DataFrame'>\n",
      "RangeIndex: 6017 entries, 0 to 6016\n",
      "Data columns (total 12 columns):\n",
      " #   Column             Non-Null Count  Dtype  \n",
      "---  ------             --------------  -----  \n",
      " 0   Location           6017 non-null   object \n",
      " 1   Year               6017 non-null   int64  \n",
      " 2   Kilometers_Driven  6017 non-null   float64\n",
      " 3   Fuel_Type          6017 non-null   object \n",
      " 4   Transmission       6017 non-null   object \n",
      " 5   Owner_Type         6017 non-null   object \n",
      " 6   Mileage            6017 non-null   float64\n",
      " 7   Engine             6017 non-null   float64\n",
      " 8   Power              6017 non-null   float64\n",
      " 9   Seats              6017 non-null   float64\n",
      " 10  New_Price          6017 non-null   float64\n",
      " 11  Price              6017 non-null   float64\n",
      "dtypes: float64(7), int64(1), object(4)\n",
      "memory usage: 564.2+ KB\n"
     ]
    },
    {
     "data": {
      "application/javascript": [
       "\n",
       "            setTimeout(function() {\n",
       "                var nbb_cell_id = 301;\n",
       "                var nbb_unformatted_code = \"df_noOutliers.info()\";\n",
       "                var nbb_formatted_code = \"df_noOutliers.info()\";\n",
       "                var nbb_cells = Jupyter.notebook.get_cells();\n",
       "                for (var i = 0; i < nbb_cells.length; ++i) {\n",
       "                    if (nbb_cells[i].input_prompt_number == nbb_cell_id) {\n",
       "                        if (nbb_cells[i].get_text() == nbb_unformatted_code) {\n",
       "                             nbb_cells[i].set_text(nbb_formatted_code);\n",
       "                        }\n",
       "                        break;\n",
       "                    }\n",
       "                }\n",
       "            }, 500);\n",
       "            "
      ],
      "text/plain": [
       "<IPython.core.display.Javascript object>"
      ]
     },
     "metadata": {},
     "output_type": "display_data"
    }
   ],
   "source": [
    "df_noOutliers.info()"
   ]
  },
  {
   "cell_type": "code",
   "execution_count": 302,
   "metadata": {
    "colab": {
     "base_uri": "https://localhost:8080/",
     "height": 0
    },
    "executionInfo": {
     "elapsed": 10,
     "status": "ok",
     "timestamp": 1665697305794,
     "user": {
      "displayName": "Sushant Upadhyay",
      "userId": "05018399502161361441"
     },
     "user_tz": 420
    },
    "id": "eRLn2zJFf74j",
    "outputId": "bc08ad45-e9aa-409f-d041-73a4774a9b41"
   },
   "outputs": [
    {
     "data": {
      "text/html": [
       "\n",
       "  <div id=\"df-119842eb-e8e5-4fe7-9f30-3729722237b8\">\n",
       "    <div class=\"colab-df-container\">\n",
       "      <div>\n",
       "<style scoped>\n",
       "    .dataframe tbody tr th:only-of-type {\n",
       "        vertical-align: middle;\n",
       "    }\n",
       "\n",
       "    .dataframe tbody tr th {\n",
       "        vertical-align: top;\n",
       "    }\n",
       "\n",
       "    .dataframe thead th {\n",
       "        text-align: right;\n",
       "    }\n",
       "</style>\n",
       "<table border=\"1\" class=\"dataframe\">\n",
       "  <thead>\n",
       "    <tr style=\"text-align: right;\">\n",
       "      <th></th>\n",
       "      <th>count</th>\n",
       "      <th>mean</th>\n",
       "      <th>std</th>\n",
       "      <th>min</th>\n",
       "      <th>25%</th>\n",
       "      <th>50%</th>\n",
       "      <th>75%</th>\n",
       "      <th>max</th>\n",
       "    </tr>\n",
       "  </thead>\n",
       "  <tbody>\n",
       "    <tr>\n",
       "      <th>Year</th>\n",
       "      <td>6017.0</td>\n",
       "      <td>2013.358152</td>\n",
       "      <td>3.269967</td>\n",
       "      <td>1998.00</td>\n",
       "      <td>2011.00</td>\n",
       "      <td>2014.00</td>\n",
       "      <td>2016.00</td>\n",
       "      <td>2019.00</td>\n",
       "    </tr>\n",
       "    <tr>\n",
       "      <th>Kilometers_Driven</th>\n",
       "      <td>6017.0</td>\n",
       "      <td>56109.923716</td>\n",
       "      <td>30045.110970</td>\n",
       "      <td>171.00</td>\n",
       "      <td>34000.00</td>\n",
       "      <td>53000.00</td>\n",
       "      <td>73000.00</td>\n",
       "      <td>131500.00</td>\n",
       "    </tr>\n",
       "    <tr>\n",
       "      <th>Mileage</th>\n",
       "      <td>6017.0</td>\n",
       "      <td>18.134961</td>\n",
       "      <td>4.582289</td>\n",
       "      <td>0.00</td>\n",
       "      <td>15.17</td>\n",
       "      <td>18.15</td>\n",
       "      <td>21.10</td>\n",
       "      <td>33.54</td>\n",
       "    </tr>\n",
       "    <tr>\n",
       "      <th>Engine</th>\n",
       "      <td>6017.0</td>\n",
       "      <td>1620.737078</td>\n",
       "      <td>599.398319</td>\n",
       "      <td>624.00</td>\n",
       "      <td>1198.00</td>\n",
       "      <td>1493.00</td>\n",
       "      <td>1969.00</td>\n",
       "      <td>5998.00</td>\n",
       "    </tr>\n",
       "    <tr>\n",
       "      <th>Power</th>\n",
       "      <td>6017.0</td>\n",
       "      <td>112.902114</td>\n",
       "      <td>53.282014</td>\n",
       "      <td>34.20</td>\n",
       "      <td>78.00</td>\n",
       "      <td>97.70</td>\n",
       "      <td>138.03</td>\n",
       "      <td>560.00</td>\n",
       "    </tr>\n",
       "    <tr>\n",
       "      <th>Seats</th>\n",
       "      <td>6017.0</td>\n",
       "      <td>5.276882</td>\n",
       "      <td>0.806464</td>\n",
       "      <td>0.00</td>\n",
       "      <td>5.00</td>\n",
       "      <td>5.00</td>\n",
       "      <td>5.00</td>\n",
       "      <td>10.00</td>\n",
       "    </tr>\n",
       "    <tr>\n",
       "      <th>New_Price</th>\n",
       "      <td>6017.0</td>\n",
       "      <td>21.500754</td>\n",
       "      <td>24.336731</td>\n",
       "      <td>3.91</td>\n",
       "      <td>7.88</td>\n",
       "      <td>11.30</td>\n",
       "      <td>21.77</td>\n",
       "      <td>375.00</td>\n",
       "    </tr>\n",
       "    <tr>\n",
       "      <th>Price</th>\n",
       "      <td>6017.0</td>\n",
       "      <td>9.478340</td>\n",
       "      <td>11.189605</td>\n",
       "      <td>0.44</td>\n",
       "      <td>3.50</td>\n",
       "      <td>5.64</td>\n",
       "      <td>9.95</td>\n",
       "      <td>160.00</td>\n",
       "    </tr>\n",
       "  </tbody>\n",
       "</table>\n",
       "</div>\n",
       "      <button class=\"colab-df-convert\" onclick=\"convertToInteractive('df-119842eb-e8e5-4fe7-9f30-3729722237b8')\"\n",
       "              title=\"Convert this dataframe to an interactive table.\"\n",
       "              style=\"display:none;\">\n",
       "        \n",
       "  <svg xmlns=\"http://www.w3.org/2000/svg\" height=\"24px\"viewBox=\"0 0 24 24\"\n",
       "       width=\"24px\">\n",
       "    <path d=\"M0 0h24v24H0V0z\" fill=\"none\"/>\n",
       "    <path d=\"M18.56 5.44l.94 2.06.94-2.06 2.06-.94-2.06-.94-.94-2.06-.94 2.06-2.06.94zm-11 1L8.5 8.5l.94-2.06 2.06-.94-2.06-.94L8.5 2.5l-.94 2.06-2.06.94zm10 10l.94 2.06.94-2.06 2.06-.94-2.06-.94-.94-2.06-.94 2.06-2.06.94z\"/><path d=\"M17.41 7.96l-1.37-1.37c-.4-.4-.92-.59-1.43-.59-.52 0-1.04.2-1.43.59L10.3 9.45l-7.72 7.72c-.78.78-.78 2.05 0 2.83L4 21.41c.39.39.9.59 1.41.59.51 0 1.02-.2 1.41-.59l7.78-7.78 2.81-2.81c.8-.78.8-2.07 0-2.86zM5.41 20L4 18.59l7.72-7.72 1.47 1.35L5.41 20z\"/>\n",
       "  </svg>\n",
       "      </button>\n",
       "      \n",
       "  <style>\n",
       "    .colab-df-container {\n",
       "      display:flex;\n",
       "      flex-wrap:wrap;\n",
       "      gap: 12px;\n",
       "    }\n",
       "\n",
       "    .colab-df-convert {\n",
       "      background-color: #E8F0FE;\n",
       "      border: none;\n",
       "      border-radius: 50%;\n",
       "      cursor: pointer;\n",
       "      display: none;\n",
       "      fill: #1967D2;\n",
       "      height: 32px;\n",
       "      padding: 0 0 0 0;\n",
       "      width: 32px;\n",
       "    }\n",
       "\n",
       "    .colab-df-convert:hover {\n",
       "      background-color: #E2EBFA;\n",
       "      box-shadow: 0px 1px 2px rgba(60, 64, 67, 0.3), 0px 1px 3px 1px rgba(60, 64, 67, 0.15);\n",
       "      fill: #174EA6;\n",
       "    }\n",
       "\n",
       "    [theme=dark] .colab-df-convert {\n",
       "      background-color: #3B4455;\n",
       "      fill: #D2E3FC;\n",
       "    }\n",
       "\n",
       "    [theme=dark] .colab-df-convert:hover {\n",
       "      background-color: #434B5C;\n",
       "      box-shadow: 0px 1px 3px 1px rgba(0, 0, 0, 0.15);\n",
       "      filter: drop-shadow(0px 1px 2px rgba(0, 0, 0, 0.3));\n",
       "      fill: #FFFFFF;\n",
       "    }\n",
       "  </style>\n",
       "\n",
       "      <script>\n",
       "        const buttonEl =\n",
       "          document.querySelector('#df-119842eb-e8e5-4fe7-9f30-3729722237b8 button.colab-df-convert');\n",
       "        buttonEl.style.display =\n",
       "          google.colab.kernel.accessAllowed ? 'block' : 'none';\n",
       "\n",
       "        async function convertToInteractive(key) {\n",
       "          const element = document.querySelector('#df-119842eb-e8e5-4fe7-9f30-3729722237b8');\n",
       "          const dataTable =\n",
       "            await google.colab.kernel.invokeFunction('convertToInteractive',\n",
       "                                                     [key], {});\n",
       "          if (!dataTable) return;\n",
       "\n",
       "          const docLinkHtml = 'Like what you see? Visit the ' +\n",
       "            '<a target=\"_blank\" href=https://colab.research.google.com/notebooks/data_table.ipynb>data table notebook</a>'\n",
       "            + ' to learn more about interactive tables.';\n",
       "          element.innerHTML = '';\n",
       "          dataTable['output_type'] = 'display_data';\n",
       "          await google.colab.output.renderOutput(dataTable, element);\n",
       "          const docLink = document.createElement('div');\n",
       "          docLink.innerHTML = docLinkHtml;\n",
       "          element.appendChild(docLink);\n",
       "        }\n",
       "      </script>\n",
       "    </div>\n",
       "  </div>\n",
       "  "
      ],
      "text/plain": [
       "                    count          mean           std      min       25%  \\\n",
       "Year               6017.0   2013.358152      3.269967  1998.00   2011.00   \n",
       "Kilometers_Driven  6017.0  56109.923716  30045.110970   171.00  34000.00   \n",
       "Mileage            6017.0     18.134961      4.582289     0.00     15.17   \n",
       "Engine             6017.0   1620.737078    599.398319   624.00   1198.00   \n",
       "Power              6017.0    112.902114     53.282014    34.20     78.00   \n",
       "Seats              6017.0      5.276882      0.806464     0.00      5.00   \n",
       "New_Price          6017.0     21.500754     24.336731     3.91      7.88   \n",
       "Price              6017.0      9.478340     11.189605     0.44      3.50   \n",
       "\n",
       "                        50%       75%        max  \n",
       "Year                2014.00   2016.00    2019.00  \n",
       "Kilometers_Driven  53000.00  73000.00  131500.00  \n",
       "Mileage               18.15     21.10      33.54  \n",
       "Engine              1493.00   1969.00    5998.00  \n",
       "Power                 97.70    138.03     560.00  \n",
       "Seats                  5.00      5.00      10.00  \n",
       "New_Price             11.30     21.77     375.00  \n",
       "Price                  5.64      9.95     160.00  "
      ]
     },
     "execution_count": 302,
     "metadata": {},
     "output_type": "execute_result"
    },
    {
     "data": {
      "application/javascript": [
       "\n",
       "            setTimeout(function() {\n",
       "                var nbb_cell_id = 302;\n",
       "                var nbb_unformatted_code = \"df_noOutliers.describe().T\";\n",
       "                var nbb_formatted_code = \"df_noOutliers.describe().T\";\n",
       "                var nbb_cells = Jupyter.notebook.get_cells();\n",
       "                for (var i = 0; i < nbb_cells.length; ++i) {\n",
       "                    if (nbb_cells[i].input_prompt_number == nbb_cell_id) {\n",
       "                        if (nbb_cells[i].get_text() == nbb_unformatted_code) {\n",
       "                             nbb_cells[i].set_text(nbb_formatted_code);\n",
       "                        }\n",
       "                        break;\n",
       "                    }\n",
       "                }\n",
       "            }, 500);\n",
       "            "
      ],
      "text/plain": [
       "<IPython.core.display.Javascript object>"
      ]
     },
     "metadata": {},
     "output_type": "display_data"
    }
   ],
   "source": [
    "df_noOutliers.describe().T"
   ]
  },
  {
   "cell_type": "code",
   "execution_count": 303,
   "metadata": {
    "colab": {
     "base_uri": "https://localhost:8080/",
     "height": 0
    },
    "executionInfo": {
     "elapsed": 9,
     "status": "ok",
     "timestamp": 1665697305794,
     "user": {
      "displayName": "Sushant Upadhyay",
      "userId": "05018399502161361441"
     },
     "user_tz": 420
    },
    "id": "rGVQDhpOgbHF",
    "outputId": "9a67aa7d-e192-4d27-893a-9055a78d64de"
   },
   "outputs": [
    {
     "data": {
      "application/javascript": [
       "\n",
       "            setTimeout(function() {\n",
       "                var nbb_cell_id = 303;\n",
       "                var nbb_unformatted_code = \"# Since this is Linear regression using Supervised learning - find depdendent variable (in this case we want to find Price for used car) and indepdent variable.\\nX = df_noOutliers.drop(['Price'],  axis=1)\\ny = df_noOutliers[\\\"Price\\\"]\\n\\n# Using Log Version of Price for checking model performance. Please check observations for performance in https://colab.research.google.com/drive/1Tp3-QNJ074kigeUZMsAzFtKEbsrAHpGe#scrollTo=B3BdmAAFCROy&line=1&uniqifier=1\\n#X = df_noOutliers.drop(['Price_logVersion', 'Price'],  axis=1)\\n#y = df_noOutliers[\\\"Price_logVersion\\\"]\";\n",
       "                var nbb_formatted_code = \"# Since this is Linear regression using Supervised learning - find depdendent variable (in this case we want to find Price for used car) and indepdent variable.\\nX = df_noOutliers.drop([\\\"Price\\\"], axis=1)\\ny = df_noOutliers[\\\"Price\\\"]\\n\\n# Using Log Version of Price for checking model performance. Please check observations for performance in https://colab.research.google.com/drive/1Tp3-QNJ074kigeUZMsAzFtKEbsrAHpGe#scrollTo=B3BdmAAFCROy&line=1&uniqifier=1\\n# X = df_noOutliers.drop(['Price_logVersion', 'Price'],  axis=1)\\n# y = df_noOutliers[\\\"Price_logVersion\\\"]\";\n",
       "                var nbb_cells = Jupyter.notebook.get_cells();\n",
       "                for (var i = 0; i < nbb_cells.length; ++i) {\n",
       "                    if (nbb_cells[i].input_prompt_number == nbb_cell_id) {\n",
       "                        if (nbb_cells[i].get_text() == nbb_unformatted_code) {\n",
       "                             nbb_cells[i].set_text(nbb_formatted_code);\n",
       "                        }\n",
       "                        break;\n",
       "                    }\n",
       "                }\n",
       "            }, 500);\n",
       "            "
      ],
      "text/plain": [
       "<IPython.core.display.Javascript object>"
      ]
     },
     "metadata": {},
     "output_type": "display_data"
    }
   ],
   "source": [
    "# Since this is Linear regression using Supervised learning - find depdendent variable (in this case we want to find Price for used car) and indepdent variable.\n",
    "X = df_noOutliers.drop(['Price'],  axis=1)\n",
    "y = df_noOutliers[\"Price\"]\n",
    "\n",
    "# Using Log Version of Price for checking model performance. Please check observations for performance in https://colab.research.google.com/drive/1Tp3-QNJ074kigeUZMsAzFtKEbsrAHpGe#scrollTo=B3BdmAAFCROy&line=1&uniqifier=1\n",
    "#X = df_noOutliers.drop(['Price_logVersion', 'Price'],  axis=1)\n",
    "#y = df_noOutliers[\"Price_logVersion\"]"
   ]
  },
  {
   "cell_type": "code",
   "execution_count": 304,
   "metadata": {
    "colab": {
     "base_uri": "https://localhost:8080/",
     "height": 0
    },
    "executionInfo": {
     "elapsed": 8,
     "status": "ok",
     "timestamp": 1665697305794,
     "user": {
      "displayName": "Sushant Upadhyay",
      "userId": "05018399502161361441"
     },
     "user_tz": 420
    },
    "id": "PXNBnZ6sj5uu",
    "outputId": "ab289015-197a-4cce-957e-29119bba89a1"
   },
   "outputs": [
    {
     "data": {
      "text/html": [
       "\n",
       "  <div id=\"df-177a7fe4-b021-4686-bc6a-8578bb930e78\">\n",
       "    <div class=\"colab-df-container\">\n",
       "      <div>\n",
       "<style scoped>\n",
       "    .dataframe tbody tr th:only-of-type {\n",
       "        vertical-align: middle;\n",
       "    }\n",
       "\n",
       "    .dataframe tbody tr th {\n",
       "        vertical-align: top;\n",
       "    }\n",
       "\n",
       "    .dataframe thead th {\n",
       "        text-align: right;\n",
       "    }\n",
       "</style>\n",
       "<table border=\"1\" class=\"dataframe\">\n",
       "  <thead>\n",
       "    <tr style=\"text-align: right;\">\n",
       "      <th></th>\n",
       "      <th>Year</th>\n",
       "      <th>Kilometers_Driven</th>\n",
       "      <th>Mileage</th>\n",
       "      <th>Engine</th>\n",
       "      <th>Power</th>\n",
       "      <th>Seats</th>\n",
       "      <th>New_Price</th>\n",
       "      <th>Location_Bangalore</th>\n",
       "      <th>Location_Chennai</th>\n",
       "      <th>Location_Coimbatore</th>\n",
       "      <th>Location_Delhi</th>\n",
       "      <th>Location_Hyderabad</th>\n",
       "      <th>Location_Jaipur</th>\n",
       "      <th>Location_Kochi</th>\n",
       "      <th>Location_Kolkata</th>\n",
       "      <th>Location_Mumbai</th>\n",
       "      <th>Location_Pune</th>\n",
       "      <th>Fuel_Type_Diesel</th>\n",
       "      <th>Fuel_Type_LPG</th>\n",
       "      <th>Fuel_Type_Petrol</th>\n",
       "      <th>Transmission_Manual</th>\n",
       "      <th>Owner_Type_Fourth &amp; Above</th>\n",
       "      <th>Owner_Type_Second</th>\n",
       "      <th>Owner_Type_Third</th>\n",
       "    </tr>\n",
       "  </thead>\n",
       "  <tbody>\n",
       "    <tr>\n",
       "      <th>0</th>\n",
       "      <td>2010</td>\n",
       "      <td>72000.0</td>\n",
       "      <td>26.60</td>\n",
       "      <td>998.0</td>\n",
       "      <td>58.16</td>\n",
       "      <td>5.0</td>\n",
       "      <td>5.51</td>\n",
       "      <td>0</td>\n",
       "      <td>0</td>\n",
       "      <td>0</td>\n",
       "      <td>0</td>\n",
       "      <td>0</td>\n",
       "      <td>0</td>\n",
       "      <td>0</td>\n",
       "      <td>0</td>\n",
       "      <td>1</td>\n",
       "      <td>0</td>\n",
       "      <td>0</td>\n",
       "      <td>0</td>\n",
       "      <td>0</td>\n",
       "      <td>1</td>\n",
       "      <td>0</td>\n",
       "      <td>0</td>\n",
       "      <td>0</td>\n",
       "    </tr>\n",
       "    <tr>\n",
       "      <th>1</th>\n",
       "      <td>2015</td>\n",
       "      <td>41000.0</td>\n",
       "      <td>19.67</td>\n",
       "      <td>1582.0</td>\n",
       "      <td>126.20</td>\n",
       "      <td>5.0</td>\n",
       "      <td>16.06</td>\n",
       "      <td>0</td>\n",
       "      <td>0</td>\n",
       "      <td>0</td>\n",
       "      <td>0</td>\n",
       "      <td>0</td>\n",
       "      <td>0</td>\n",
       "      <td>0</td>\n",
       "      <td>0</td>\n",
       "      <td>0</td>\n",
       "      <td>1</td>\n",
       "      <td>1</td>\n",
       "      <td>0</td>\n",
       "      <td>0</td>\n",
       "      <td>1</td>\n",
       "      <td>0</td>\n",
       "      <td>0</td>\n",
       "      <td>0</td>\n",
       "    </tr>\n",
       "    <tr>\n",
       "      <th>2</th>\n",
       "      <td>2011</td>\n",
       "      <td>46000.0</td>\n",
       "      <td>18.20</td>\n",
       "      <td>1199.0</td>\n",
       "      <td>88.70</td>\n",
       "      <td>5.0</td>\n",
       "      <td>8.61</td>\n",
       "      <td>0</td>\n",
       "      <td>1</td>\n",
       "      <td>0</td>\n",
       "      <td>0</td>\n",
       "      <td>0</td>\n",
       "      <td>0</td>\n",
       "      <td>0</td>\n",
       "      <td>0</td>\n",
       "      <td>0</td>\n",
       "      <td>0</td>\n",
       "      <td>0</td>\n",
       "      <td>0</td>\n",
       "      <td>1</td>\n",
       "      <td>1</td>\n",
       "      <td>0</td>\n",
       "      <td>0</td>\n",
       "      <td>0</td>\n",
       "    </tr>\n",
       "    <tr>\n",
       "      <th>3</th>\n",
       "      <td>2012</td>\n",
       "      <td>87000.0</td>\n",
       "      <td>20.77</td>\n",
       "      <td>1248.0</td>\n",
       "      <td>88.76</td>\n",
       "      <td>7.0</td>\n",
       "      <td>11.27</td>\n",
       "      <td>0</td>\n",
       "      <td>1</td>\n",
       "      <td>0</td>\n",
       "      <td>0</td>\n",
       "      <td>0</td>\n",
       "      <td>0</td>\n",
       "      <td>0</td>\n",
       "      <td>0</td>\n",
       "      <td>0</td>\n",
       "      <td>0</td>\n",
       "      <td>1</td>\n",
       "      <td>0</td>\n",
       "      <td>0</td>\n",
       "      <td>1</td>\n",
       "      <td>0</td>\n",
       "      <td>0</td>\n",
       "      <td>0</td>\n",
       "    </tr>\n",
       "    <tr>\n",
       "      <th>4</th>\n",
       "      <td>2013</td>\n",
       "      <td>40670.0</td>\n",
       "      <td>15.20</td>\n",
       "      <td>1968.0</td>\n",
       "      <td>140.80</td>\n",
       "      <td>5.0</td>\n",
       "      <td>53.14</td>\n",
       "      <td>0</td>\n",
       "      <td>0</td>\n",
       "      <td>1</td>\n",
       "      <td>0</td>\n",
       "      <td>0</td>\n",
       "      <td>0</td>\n",
       "      <td>0</td>\n",
       "      <td>0</td>\n",
       "      <td>0</td>\n",
       "      <td>0</td>\n",
       "      <td>1</td>\n",
       "      <td>0</td>\n",
       "      <td>0</td>\n",
       "      <td>0</td>\n",
       "      <td>0</td>\n",
       "      <td>1</td>\n",
       "      <td>0</td>\n",
       "    </tr>\n",
       "  </tbody>\n",
       "</table>\n",
       "</div>\n",
       "      <button class=\"colab-df-convert\" onclick=\"convertToInteractive('df-177a7fe4-b021-4686-bc6a-8578bb930e78')\"\n",
       "              title=\"Convert this dataframe to an interactive table.\"\n",
       "              style=\"display:none;\">\n",
       "        \n",
       "  <svg xmlns=\"http://www.w3.org/2000/svg\" height=\"24px\"viewBox=\"0 0 24 24\"\n",
       "       width=\"24px\">\n",
       "    <path d=\"M0 0h24v24H0V0z\" fill=\"none\"/>\n",
       "    <path d=\"M18.56 5.44l.94 2.06.94-2.06 2.06-.94-2.06-.94-.94-2.06-.94 2.06-2.06.94zm-11 1L8.5 8.5l.94-2.06 2.06-.94-2.06-.94L8.5 2.5l-.94 2.06-2.06.94zm10 10l.94 2.06.94-2.06 2.06-.94-2.06-.94-.94-2.06-.94 2.06-2.06.94z\"/><path d=\"M17.41 7.96l-1.37-1.37c-.4-.4-.92-.59-1.43-.59-.52 0-1.04.2-1.43.59L10.3 9.45l-7.72 7.72c-.78.78-.78 2.05 0 2.83L4 21.41c.39.39.9.59 1.41.59.51 0 1.02-.2 1.41-.59l7.78-7.78 2.81-2.81c.8-.78.8-2.07 0-2.86zM5.41 20L4 18.59l7.72-7.72 1.47 1.35L5.41 20z\"/>\n",
       "  </svg>\n",
       "      </button>\n",
       "      \n",
       "  <style>\n",
       "    .colab-df-container {\n",
       "      display:flex;\n",
       "      flex-wrap:wrap;\n",
       "      gap: 12px;\n",
       "    }\n",
       "\n",
       "    .colab-df-convert {\n",
       "      background-color: #E8F0FE;\n",
       "      border: none;\n",
       "      border-radius: 50%;\n",
       "      cursor: pointer;\n",
       "      display: none;\n",
       "      fill: #1967D2;\n",
       "      height: 32px;\n",
       "      padding: 0 0 0 0;\n",
       "      width: 32px;\n",
       "    }\n",
       "\n",
       "    .colab-df-convert:hover {\n",
       "      background-color: #E2EBFA;\n",
       "      box-shadow: 0px 1px 2px rgba(60, 64, 67, 0.3), 0px 1px 3px 1px rgba(60, 64, 67, 0.15);\n",
       "      fill: #174EA6;\n",
       "    }\n",
       "\n",
       "    [theme=dark] .colab-df-convert {\n",
       "      background-color: #3B4455;\n",
       "      fill: #D2E3FC;\n",
       "    }\n",
       "\n",
       "    [theme=dark] .colab-df-convert:hover {\n",
       "      background-color: #434B5C;\n",
       "      box-shadow: 0px 1px 3px 1px rgba(0, 0, 0, 0.15);\n",
       "      filter: drop-shadow(0px 1px 2px rgba(0, 0, 0, 0.3));\n",
       "      fill: #FFFFFF;\n",
       "    }\n",
       "  </style>\n",
       "\n",
       "      <script>\n",
       "        const buttonEl =\n",
       "          document.querySelector('#df-177a7fe4-b021-4686-bc6a-8578bb930e78 button.colab-df-convert');\n",
       "        buttonEl.style.display =\n",
       "          google.colab.kernel.accessAllowed ? 'block' : 'none';\n",
       "\n",
       "        async function convertToInteractive(key) {\n",
       "          const element = document.querySelector('#df-177a7fe4-b021-4686-bc6a-8578bb930e78');\n",
       "          const dataTable =\n",
       "            await google.colab.kernel.invokeFunction('convertToInteractive',\n",
       "                                                     [key], {});\n",
       "          if (!dataTable) return;\n",
       "\n",
       "          const docLinkHtml = 'Like what you see? Visit the ' +\n",
       "            '<a target=\"_blank\" href=https://colab.research.google.com/notebooks/data_table.ipynb>data table notebook</a>'\n",
       "            + ' to learn more about interactive tables.';\n",
       "          element.innerHTML = '';\n",
       "          dataTable['output_type'] = 'display_data';\n",
       "          await google.colab.output.renderOutput(dataTable, element);\n",
       "          const docLink = document.createElement('div');\n",
       "          docLink.innerHTML = docLinkHtml;\n",
       "          element.appendChild(docLink);\n",
       "        }\n",
       "      </script>\n",
       "    </div>\n",
       "  </div>\n",
       "  "
      ],
      "text/plain": [
       "   Year  Kilometers_Driven  Mileage  Engine   Power  Seats  New_Price  \\\n",
       "0  2010            72000.0    26.60   998.0   58.16    5.0       5.51   \n",
       "1  2015            41000.0    19.67  1582.0  126.20    5.0      16.06   \n",
       "2  2011            46000.0    18.20  1199.0   88.70    5.0       8.61   \n",
       "3  2012            87000.0    20.77  1248.0   88.76    7.0      11.27   \n",
       "4  2013            40670.0    15.20  1968.0  140.80    5.0      53.14   \n",
       "\n",
       "   Location_Bangalore  Location_Chennai  Location_Coimbatore  Location_Delhi  \\\n",
       "0                   0                 0                    0               0   \n",
       "1                   0                 0                    0               0   \n",
       "2                   0                 1                    0               0   \n",
       "3                   0                 1                    0               0   \n",
       "4                   0                 0                    1               0   \n",
       "\n",
       "   Location_Hyderabad  Location_Jaipur  Location_Kochi  Location_Kolkata  \\\n",
       "0                   0                0               0                 0   \n",
       "1                   0                0               0                 0   \n",
       "2                   0                0               0                 0   \n",
       "3                   0                0               0                 0   \n",
       "4                   0                0               0                 0   \n",
       "\n",
       "   Location_Mumbai  Location_Pune  Fuel_Type_Diesel  Fuel_Type_LPG  \\\n",
       "0                1              0                 0              0   \n",
       "1                0              1                 1              0   \n",
       "2                0              0                 0              0   \n",
       "3                0              0                 1              0   \n",
       "4                0              0                 1              0   \n",
       "\n",
       "   Fuel_Type_Petrol  Transmission_Manual  Owner_Type_Fourth & Above  \\\n",
       "0                 0                    1                          0   \n",
       "1                 0                    1                          0   \n",
       "2                 1                    1                          0   \n",
       "3                 0                    1                          0   \n",
       "4                 0                    0                          0   \n",
       "\n",
       "   Owner_Type_Second  Owner_Type_Third  \n",
       "0                  0                 0  \n",
       "1                  0                 0  \n",
       "2                  0                 0  \n",
       "3                  0                 0  \n",
       "4                  1                 0  "
      ]
     },
     "execution_count": 304,
     "metadata": {},
     "output_type": "execute_result"
    },
    {
     "data": {
      "application/javascript": [
       "\n",
       "            setTimeout(function() {\n",
       "                var nbb_cell_id = 304;\n",
       "                var nbb_unformatted_code = \"#Performing one hot encoding for string variables\\nX = pd.get_dummies(\\n    X,\\n    columns=X.select_dtypes(include=[\\\"object\\\"]).columns.tolist(),\\n    drop_first=True,\\n)\\n\\nX.head()\";\n",
       "                var nbb_formatted_code = \"# Performing one hot encoding for string variables\\nX = pd.get_dummies(\\n    X,\\n    columns=X.select_dtypes(include=[\\\"object\\\"]).columns.tolist(),\\n    drop_first=True,\\n)\\n\\nX.head()\";\n",
       "                var nbb_cells = Jupyter.notebook.get_cells();\n",
       "                for (var i = 0; i < nbb_cells.length; ++i) {\n",
       "                    if (nbb_cells[i].input_prompt_number == nbb_cell_id) {\n",
       "                        if (nbb_cells[i].get_text() == nbb_unformatted_code) {\n",
       "                             nbb_cells[i].set_text(nbb_formatted_code);\n",
       "                        }\n",
       "                        break;\n",
       "                    }\n",
       "                }\n",
       "            }, 500);\n",
       "            "
      ],
      "text/plain": [
       "<IPython.core.display.Javascript object>"
      ]
     },
     "metadata": {},
     "output_type": "display_data"
    }
   ],
   "source": [
    "#Performing one hot encoding for string variables\n",
    "X = pd.get_dummies(\n",
    "    X,\n",
    "    columns=X.select_dtypes(include=[\"object\"]).columns.tolist(),\n",
    "    drop_first=True,\n",
    ")\n",
    "\n",
    "X.head()"
   ]
  },
  {
   "cell_type": "code",
   "execution_count": 305,
   "metadata": {
    "colab": {
     "base_uri": "https://localhost:8080/",
     "height": 0
    },
    "executionInfo": {
     "elapsed": 9,
     "status": "ok",
     "timestamp": 1665697305795,
     "user": {
      "displayName": "Sushant Upadhyay",
      "userId": "05018399502161361441"
     },
     "user_tz": 420
    },
    "id": "KYhXKQRTgysf",
    "outputId": "9e2bc2f9-a0c5-43a4-8511-8eb4c0344261"
   },
   "outputs": [
    {
     "data": {
      "application/javascript": [
       "\n",
       "            setTimeout(function() {\n",
       "                var nbb_cell_id = 305;\n",
       "                var nbb_unformatted_code = \"# splitting the data in 70:30 ratio for train to test data\\n\\nX_train, X_test, y_train, y_test = train_test_split(X, y, test_size=0.30, random_state=1)\";\n",
       "                var nbb_formatted_code = \"# splitting the data in 70:30 ratio for train to test data\\n\\nX_train, X_test, y_train, y_test = train_test_split(\\n    X, y, test_size=0.30, random_state=1\\n)\";\n",
       "                var nbb_cells = Jupyter.notebook.get_cells();\n",
       "                for (var i = 0; i < nbb_cells.length; ++i) {\n",
       "                    if (nbb_cells[i].input_prompt_number == nbb_cell_id) {\n",
       "                        if (nbb_cells[i].get_text() == nbb_unformatted_code) {\n",
       "                             nbb_cells[i].set_text(nbb_formatted_code);\n",
       "                        }\n",
       "                        break;\n",
       "                    }\n",
       "                }\n",
       "            }, 500);\n",
       "            "
      ],
      "text/plain": [
       "<IPython.core.display.Javascript object>"
      ]
     },
     "metadata": {},
     "output_type": "display_data"
    }
   ],
   "source": [
    "# splitting the data in 70:30 ratio for train to test data\n",
    "\n",
    "X_train, X_test, y_train, y_test = train_test_split(X, y, test_size=0.30, random_state=1)"
   ]
  },
  {
   "cell_type": "code",
   "execution_count": 306,
   "metadata": {
    "colab": {
     "base_uri": "https://localhost:8080/",
     "height": 0
    },
    "executionInfo": {
     "elapsed": 418,
     "status": "ok",
     "timestamp": 1665697306205,
     "user": {
      "displayName": "Sushant Upadhyay",
      "userId": "05018399502161361441"
     },
     "user_tz": 420
    },
    "id": "q3YAzvDQkLes",
    "outputId": "ce45d5e9-7453-4a12-a9c2-2c44d47a4bd7"
   },
   "outputs": [
    {
     "name": "stdout",
     "output_type": "stream",
     "text": [
      "Number of rows in train data = 4211\n",
      "Number of rows in test data = 1806\n"
     ]
    },
    {
     "data": {
      "application/javascript": [
       "\n",
       "            setTimeout(function() {\n",
       "                var nbb_cell_id = 306;\n",
       "                var nbb_unformatted_code = \"print(\\\"Number of rows in train data =\\\", X_train.shape[0])\\nprint(\\\"Number of rows in test data =\\\", X_test.shape[0])\";\n",
       "                var nbb_formatted_code = \"print(\\\"Number of rows in train data =\\\", X_train.shape[0])\\nprint(\\\"Number of rows in test data =\\\", X_test.shape[0])\";\n",
       "                var nbb_cells = Jupyter.notebook.get_cells();\n",
       "                for (var i = 0; i < nbb_cells.length; ++i) {\n",
       "                    if (nbb_cells[i].input_prompt_number == nbb_cell_id) {\n",
       "                        if (nbb_cells[i].get_text() == nbb_unformatted_code) {\n",
       "                             nbb_cells[i].set_text(nbb_formatted_code);\n",
       "                        }\n",
       "                        break;\n",
       "                    }\n",
       "                }\n",
       "            }, 500);\n",
       "            "
      ],
      "text/plain": [
       "<IPython.core.display.Javascript object>"
      ]
     },
     "metadata": {},
     "output_type": "display_data"
    }
   ],
   "source": [
    "print(\"Number of rows in train data =\", X_train.shape[0])\n",
    "print(\"Number of rows in test data =\", X_test.shape[0])"
   ]
  },
  {
   "cell_type": "markdown",
   "metadata": {
    "id": "iTzdo_jOg4Us"
   },
   "source": [
    "#### Fit Linear Model"
   ]
  },
  {
   "cell_type": "code",
   "execution_count": 307,
   "metadata": {
    "colab": {
     "base_uri": "https://localhost:8080/",
     "height": 0
    },
    "executionInfo": {
     "elapsed": 5,
     "status": "ok",
     "timestamp": 1665697306206,
     "user": {
      "displayName": "Sushant Upadhyay",
      "userId": "05018399502161361441"
     },
     "user_tz": 420
    },
    "id": "Q_v659KUg9SK",
    "outputId": "62edf1e3-a408-43cc-98af-f1fd618758d9"
   },
   "outputs": [
    {
     "data": {
      "text/plain": [
       "LinearRegression()"
      ]
     },
     "execution_count": 307,
     "metadata": {},
     "output_type": "execute_result"
    },
    {
     "data": {
      "application/javascript": [
       "\n",
       "            setTimeout(function() {\n",
       "                var nbb_cell_id = 307;\n",
       "                var nbb_unformatted_code = \"# intialize the model to be fit and fit the model on the train data\\n\\nl_regression_model = LinearRegression()\\nl_regression_model.fit(X_train, y_train)\";\n",
       "                var nbb_formatted_code = \"# intialize the model to be fit and fit the model on the train data\\n\\nl_regression_model = LinearRegression()\\nl_regression_model.fit(X_train, y_train)\";\n",
       "                var nbb_cells = Jupyter.notebook.get_cells();\n",
       "                for (var i = 0; i < nbb_cells.length; ++i) {\n",
       "                    if (nbb_cells[i].input_prompt_number == nbb_cell_id) {\n",
       "                        if (nbb_cells[i].get_text() == nbb_unformatted_code) {\n",
       "                             nbb_cells[i].set_text(nbb_formatted_code);\n",
       "                        }\n",
       "                        break;\n",
       "                    }\n",
       "                }\n",
       "            }, 500);\n",
       "            "
      ],
      "text/plain": [
       "<IPython.core.display.Javascript object>"
      ]
     },
     "metadata": {},
     "output_type": "display_data"
    }
   ],
   "source": [
    "# intialize the model to be fit and fit the model on the train data\n",
    "\n",
    "l_regression_model = LinearRegression()\n",
    "l_regression_model.fit(X_train, y_train)"
   ]
  },
  {
   "cell_type": "markdown",
   "metadata": {
    "id": "jJdMCw2DoDE2"
   },
   "source": [
    "# **Model performance evaluation**"
   ]
  },
  {
   "cell_type": "code",
   "execution_count": 308,
   "metadata": {
    "colab": {
     "base_uri": "https://localhost:8080/",
     "height": 17
    },
    "executionInfo": {
     "elapsed": 278,
     "status": "ok",
     "timestamp": 1665697307744,
     "user": {
      "displayName": "Sushant Upadhyay",
      "userId": "05018399502161361441"
     },
     "user_tz": 420
    },
    "id": "3ISQmyGIlTmp",
    "outputId": "89c47080-ee7c-4663-9596-a2e8d1c46a27"
   },
   "outputs": [
    {
     "data": {
      "application/javascript": [
       "\n",
       "            setTimeout(function() {\n",
       "                var nbb_cell_id = 308;\n",
       "                var nbb_unformatted_code = \"# function to compute adjusted R-squared\\ndef adj_r2_score(predictors, targets, predictions):\\n    r2 = r2_score(targets, predictions)\\n    n = predictors.shape[0]\\n    k = predictors.shape[1]\\n    return 1 - ((1 - r2) * (n - 1) / (n - k - 1))\\n\\n\\n# function to compute MAPE\\ndef mape_score(targets, predictions):\\n    return np.mean(np.abs(targets - predictions) / targets) * 100\\n\\n\\n# function to compute different metrics to check performance of a regression model\\ndef model_performance_regression(model, predictors, target):\\n    \\\"\\\"\\\"\\n    Function to compute different metrics to check regression model performance\\n\\n    model: regressor\\n    predictors: independent variables\\n    target: dependent variable\\n    \\\"\\\"\\\"\\n\\n    # predicting using the independent variables\\n    pred = model.predict(predictors)\\n\\n    r2 = r2_score(target, pred)  # to compute R-squared\\n    adjr2 = adj_r2_score(predictors, target, pred)  # to compute adjusted R-squared\\n    rmse = np.sqrt(mean_squared_error(target, pred))  # to compute RMSE\\n    mae = mean_absolute_error(target, pred)  # to compute MAE\\n    mape = mape_score(target, pred)  # to compute MAPE\\n\\n    # creating a dataframe of metrics\\n    df_perf = pd.DataFrame(\\n        {\\n            \\\"RMSE\\\": rmse,\\n            \\\"MAE\\\": mae,\\n            \\\"R-squared\\\": r2,\\n            \\\"Adj. R-squared\\\": adjr2,\\n            \\\"MAPE\\\": mape,\\n        },\\n        index=[0],\\n    )\\n\\n    return df_perf\";\n",
       "                var nbb_formatted_code = \"# function to compute adjusted R-squared\\ndef adj_r2_score(predictors, targets, predictions):\\n    r2 = r2_score(targets, predictions)\\n    n = predictors.shape[0]\\n    k = predictors.shape[1]\\n    return 1 - ((1 - r2) * (n - 1) / (n - k - 1))\\n\\n\\n# function to compute MAPE\\ndef mape_score(targets, predictions):\\n    return np.mean(np.abs(targets - predictions) / targets) * 100\\n\\n\\n# function to compute different metrics to check performance of a regression model\\ndef model_performance_regression(model, predictors, target):\\n    \\\"\\\"\\\"\\n    Function to compute different metrics to check regression model performance\\n\\n    model: regressor\\n    predictors: independent variables\\n    target: dependent variable\\n    \\\"\\\"\\\"\\n\\n    # predicting using the independent variables\\n    pred = model.predict(predictors)\\n\\n    r2 = r2_score(target, pred)  # to compute R-squared\\n    adjr2 = adj_r2_score(predictors, target, pred)  # to compute adjusted R-squared\\n    rmse = np.sqrt(mean_squared_error(target, pred))  # to compute RMSE\\n    mae = mean_absolute_error(target, pred)  # to compute MAE\\n    mape = mape_score(target, pred)  # to compute MAPE\\n\\n    # creating a dataframe of metrics\\n    df_perf = pd.DataFrame(\\n        {\\n            \\\"RMSE\\\": rmse,\\n            \\\"MAE\\\": mae,\\n            \\\"R-squared\\\": r2,\\n            \\\"Adj. R-squared\\\": adjr2,\\n            \\\"MAPE\\\": mape,\\n        },\\n        index=[0],\\n    )\\n\\n    return df_perf\";\n",
       "                var nbb_cells = Jupyter.notebook.get_cells();\n",
       "                for (var i = 0; i < nbb_cells.length; ++i) {\n",
       "                    if (nbb_cells[i].input_prompt_number == nbb_cell_id) {\n",
       "                        if (nbb_cells[i].get_text() == nbb_unformatted_code) {\n",
       "                             nbb_cells[i].set_text(nbb_formatted_code);\n",
       "                        }\n",
       "                        break;\n",
       "                    }\n",
       "                }\n",
       "            }, 500);\n",
       "            "
      ],
      "text/plain": [
       "<IPython.core.display.Javascript object>"
      ]
     },
     "metadata": {},
     "output_type": "display_data"
    }
   ],
   "source": [
    "# function to compute adjusted R-squared\n",
    "def adj_r2_score(predictors, targets, predictions):\n",
    "    r2 = r2_score(targets, predictions)\n",
    "    n = predictors.shape[0]\n",
    "    k = predictors.shape[1]\n",
    "    return 1 - ((1 - r2) * (n - 1) / (n - k - 1))\n",
    "\n",
    "\n",
    "# function to compute MAPE\n",
    "def mape_score(targets, predictions):\n",
    "    return np.mean(np.abs(targets - predictions) / targets) * 100\n",
    "\n",
    "\n",
    "# function to compute different metrics to check performance of a regression model\n",
    "def model_performance_regression(model, predictors, target):\n",
    "    \"\"\"\n",
    "    Function to compute different metrics to check regression model performance\n",
    "\n",
    "    model: regressor\n",
    "    predictors: independent variables\n",
    "    target: dependent variable\n",
    "    \"\"\"\n",
    "\n",
    "    # predicting using the independent variables\n",
    "    pred = model.predict(predictors)\n",
    "\n",
    "    r2 = r2_score(target, pred)  # to compute R-squared\n",
    "    adjr2 = adj_r2_score(predictors, target, pred)  # to compute adjusted R-squared\n",
    "    rmse = np.sqrt(mean_squared_error(target, pred))  # to compute RMSE\n",
    "    mae = mean_absolute_error(target, pred)  # to compute MAE\n",
    "    mape = mape_score(target, pred)  # to compute MAPE\n",
    "\n",
    "    # creating a dataframe of metrics\n",
    "    df_perf = pd.DataFrame(\n",
    "        {\n",
    "            \"RMSE\": rmse,\n",
    "            \"MAE\": mae,\n",
    "            \"R-squared\": r2,\n",
    "            \"Adj. R-squared\": adjr2,\n",
    "            \"MAPE\": mape,\n",
    "        },\n",
    "        index=[0],\n",
    "    )\n",
    "\n",
    "    return df_perf"
   ]
  },
  {
   "cell_type": "markdown",
   "metadata": {
    "id": "B3BdmAAFCROy"
   },
   "source": [
    "#### **Calculations here are based on Log version of Price. This is just to check what happens when log is used for Price**"
   ]
  },
  {
   "cell_type": "code",
   "execution_count": 309,
   "metadata": {
    "colab": {
     "base_uri": "https://localhost:8080/",
     "height": 0
    },
    "executionInfo": {
     "elapsed": 10,
     "status": "ok",
     "timestamp": 1665697308165,
     "user": {
      "displayName": "Sushant Upadhyay",
      "userId": "05018399502161361441"
     },
     "user_tz": 420
    },
    "id": "5FmYZtX8lXB9",
    "outputId": "f63e7efd-2280-414d-f41e-e0bbde16ea51"
   },
   "outputs": [
    {
     "name": "stdout",
     "output_type": "stream",
     "text": [
      "Training Performance with Log Value of Price\n",
      "\n"
     ]
    },
    {
     "data": {
      "text/html": [
       "\n",
       "  <div id=\"df-b74e4d74-4d27-4a20-85da-26e02625fdf7\">\n",
       "    <div class=\"colab-df-container\">\n",
       "      <div>\n",
       "<style scoped>\n",
       "    .dataframe tbody tr th:only-of-type {\n",
       "        vertical-align: middle;\n",
       "    }\n",
       "\n",
       "    .dataframe tbody tr th {\n",
       "        vertical-align: top;\n",
       "    }\n",
       "\n",
       "    .dataframe thead th {\n",
       "        text-align: right;\n",
       "    }\n",
       "</style>\n",
       "<table border=\"1\" class=\"dataframe\">\n",
       "  <thead>\n",
       "    <tr style=\"text-align: right;\">\n",
       "      <th></th>\n",
       "      <th>RMSE</th>\n",
       "      <th>MAE</th>\n",
       "      <th>R-squared</th>\n",
       "      <th>Adj. R-squared</th>\n",
       "      <th>MAPE</th>\n",
       "    </tr>\n",
       "  </thead>\n",
       "  <tbody>\n",
       "    <tr>\n",
       "      <th>0</th>\n",
       "      <td>5.447001</td>\n",
       "      <td>3.186901</td>\n",
       "      <td>0.766537</td>\n",
       "      <td>0.765199</td>\n",
       "      <td>64.752309</td>\n",
       "    </tr>\n",
       "  </tbody>\n",
       "</table>\n",
       "</div>\n",
       "      <button class=\"colab-df-convert\" onclick=\"convertToInteractive('df-b74e4d74-4d27-4a20-85da-26e02625fdf7')\"\n",
       "              title=\"Convert this dataframe to an interactive table.\"\n",
       "              style=\"display:none;\">\n",
       "        \n",
       "  <svg xmlns=\"http://www.w3.org/2000/svg\" height=\"24px\"viewBox=\"0 0 24 24\"\n",
       "       width=\"24px\">\n",
       "    <path d=\"M0 0h24v24H0V0z\" fill=\"none\"/>\n",
       "    <path d=\"M18.56 5.44l.94 2.06.94-2.06 2.06-.94-2.06-.94-.94-2.06-.94 2.06-2.06.94zm-11 1L8.5 8.5l.94-2.06 2.06-.94-2.06-.94L8.5 2.5l-.94 2.06-2.06.94zm10 10l.94 2.06.94-2.06 2.06-.94-2.06-.94-.94-2.06-.94 2.06-2.06.94z\"/><path d=\"M17.41 7.96l-1.37-1.37c-.4-.4-.92-.59-1.43-.59-.52 0-1.04.2-1.43.59L10.3 9.45l-7.72 7.72c-.78.78-.78 2.05 0 2.83L4 21.41c.39.39.9.59 1.41.59.51 0 1.02-.2 1.41-.59l7.78-7.78 2.81-2.81c.8-.78.8-2.07 0-2.86zM5.41 20L4 18.59l7.72-7.72 1.47 1.35L5.41 20z\"/>\n",
       "  </svg>\n",
       "      </button>\n",
       "      \n",
       "  <style>\n",
       "    .colab-df-container {\n",
       "      display:flex;\n",
       "      flex-wrap:wrap;\n",
       "      gap: 12px;\n",
       "    }\n",
       "\n",
       "    .colab-df-convert {\n",
       "      background-color: #E8F0FE;\n",
       "      border: none;\n",
       "      border-radius: 50%;\n",
       "      cursor: pointer;\n",
       "      display: none;\n",
       "      fill: #1967D2;\n",
       "      height: 32px;\n",
       "      padding: 0 0 0 0;\n",
       "      width: 32px;\n",
       "    }\n",
       "\n",
       "    .colab-df-convert:hover {\n",
       "      background-color: #E2EBFA;\n",
       "      box-shadow: 0px 1px 2px rgba(60, 64, 67, 0.3), 0px 1px 3px 1px rgba(60, 64, 67, 0.15);\n",
       "      fill: #174EA6;\n",
       "    }\n",
       "\n",
       "    [theme=dark] .colab-df-convert {\n",
       "      background-color: #3B4455;\n",
       "      fill: #D2E3FC;\n",
       "    }\n",
       "\n",
       "    [theme=dark] .colab-df-convert:hover {\n",
       "      background-color: #434B5C;\n",
       "      box-shadow: 0px 1px 3px 1px rgba(0, 0, 0, 0.15);\n",
       "      filter: drop-shadow(0px 1px 2px rgba(0, 0, 0, 0.3));\n",
       "      fill: #FFFFFF;\n",
       "    }\n",
       "  </style>\n",
       "\n",
       "      <script>\n",
       "        const buttonEl =\n",
       "          document.querySelector('#df-b74e4d74-4d27-4a20-85da-26e02625fdf7 button.colab-df-convert');\n",
       "        buttonEl.style.display =\n",
       "          google.colab.kernel.accessAllowed ? 'block' : 'none';\n",
       "\n",
       "        async function convertToInteractive(key) {\n",
       "          const element = document.querySelector('#df-b74e4d74-4d27-4a20-85da-26e02625fdf7');\n",
       "          const dataTable =\n",
       "            await google.colab.kernel.invokeFunction('convertToInteractive',\n",
       "                                                     [key], {});\n",
       "          if (!dataTable) return;\n",
       "\n",
       "          const docLinkHtml = 'Like what you see? Visit the ' +\n",
       "            '<a target=\"_blank\" href=https://colab.research.google.com/notebooks/data_table.ipynb>data table notebook</a>'\n",
       "            + ' to learn more about interactive tables.';\n",
       "          element.innerHTML = '';\n",
       "          dataTable['output_type'] = 'display_data';\n",
       "          await google.colab.output.renderOutput(dataTable, element);\n",
       "          const docLink = document.createElement('div');\n",
       "          docLink.innerHTML = docLinkHtml;\n",
       "          element.appendChild(docLink);\n",
       "        }\n",
       "      </script>\n",
       "    </div>\n",
       "  </div>\n",
       "  "
      ],
      "text/plain": [
       "       RMSE       MAE  R-squared  Adj. R-squared       MAPE\n",
       "0  5.447001  3.186901   0.766537        0.765199  64.752309"
      ]
     },
     "execution_count": 309,
     "metadata": {},
     "output_type": "execute_result"
    },
    {
     "data": {
      "application/javascript": [
       "\n",
       "            setTimeout(function() {\n",
       "                var nbb_cell_id = 309;\n",
       "                var nbb_unformatted_code = \"# Checking model performance on train set with Log Value of Price\\nprint(\\\"Training Performance with Log Value of Price\\\\n\\\")\\nlin_reg_model_train_perf = model_performance_regression(l_regression_model, X_train, y_train)\\nlin_reg_model_train_perf\";\n",
       "                var nbb_formatted_code = \"# Checking model performance on train set with Log Value of Price\\nprint(\\\"Training Performance with Log Value of Price\\\\n\\\")\\nlin_reg_model_train_perf = model_performance_regression(\\n    l_regression_model, X_train, y_train\\n)\\nlin_reg_model_train_perf\";\n",
       "                var nbb_cells = Jupyter.notebook.get_cells();\n",
       "                for (var i = 0; i < nbb_cells.length; ++i) {\n",
       "                    if (nbb_cells[i].input_prompt_number == nbb_cell_id) {\n",
       "                        if (nbb_cells[i].get_text() == nbb_unformatted_code) {\n",
       "                             nbb_cells[i].set_text(nbb_formatted_code);\n",
       "                        }\n",
       "                        break;\n",
       "                    }\n",
       "                }\n",
       "            }, 500);\n",
       "            "
      ],
      "text/plain": [
       "<IPython.core.display.Javascript object>"
      ]
     },
     "metadata": {},
     "output_type": "display_data"
    }
   ],
   "source": [
    "# Checking model performance on train set with Log Value of Price\n",
    "print(\"Training Performance with Log Value of Price\\n\")\n",
    "lin_reg_model_train_perf = model_performance_regression(l_regression_model, X_train, y_train)\n",
    "lin_reg_model_train_perf"
   ]
  },
  {
   "cell_type": "code",
   "execution_count": 310,
   "metadata": {
    "colab": {
     "base_uri": "https://localhost:8080/",
     "height": 0
    },
    "executionInfo": {
     "elapsed": 8,
     "status": "ok",
     "timestamp": 1665697308165,
     "user": {
      "displayName": "Sushant Upadhyay",
      "userId": "05018399502161361441"
     },
     "user_tz": 420
    },
    "id": "-qH3LAWLlZdp",
    "outputId": "d11374b2-c12a-46e4-8cf2-fecdc4845505"
   },
   "outputs": [
    {
     "name": "stdout",
     "output_type": "stream",
     "text": [
      "Test Performance with Log Value of Price\n",
      "\n"
     ]
    },
    {
     "data": {
      "text/html": [
       "\n",
       "  <div id=\"df-12532b65-679d-4949-bc26-c2379a7d7d3f\">\n",
       "    <div class=\"colab-df-container\">\n",
       "      <div>\n",
       "<style scoped>\n",
       "    .dataframe tbody tr th:only-of-type {\n",
       "        vertical-align: middle;\n",
       "    }\n",
       "\n",
       "    .dataframe tbody tr th {\n",
       "        vertical-align: top;\n",
       "    }\n",
       "\n",
       "    .dataframe thead th {\n",
       "        text-align: right;\n",
       "    }\n",
       "</style>\n",
       "<table border=\"1\" class=\"dataframe\">\n",
       "  <thead>\n",
       "    <tr style=\"text-align: right;\">\n",
       "      <th></th>\n",
       "      <th>RMSE</th>\n",
       "      <th>MAE</th>\n",
       "      <th>R-squared</th>\n",
       "      <th>Adj. R-squared</th>\n",
       "      <th>MAPE</th>\n",
       "    </tr>\n",
       "  </thead>\n",
       "  <tbody>\n",
       "    <tr>\n",
       "      <th>0</th>\n",
       "      <td>5.391342</td>\n",
       "      <td>3.012906</td>\n",
       "      <td>0.759295</td>\n",
       "      <td>0.756052</td>\n",
       "      <td>60.631715</td>\n",
       "    </tr>\n",
       "  </tbody>\n",
       "</table>\n",
       "</div>\n",
       "      <button class=\"colab-df-convert\" onclick=\"convertToInteractive('df-12532b65-679d-4949-bc26-c2379a7d7d3f')\"\n",
       "              title=\"Convert this dataframe to an interactive table.\"\n",
       "              style=\"display:none;\">\n",
       "        \n",
       "  <svg xmlns=\"http://www.w3.org/2000/svg\" height=\"24px\"viewBox=\"0 0 24 24\"\n",
       "       width=\"24px\">\n",
       "    <path d=\"M0 0h24v24H0V0z\" fill=\"none\"/>\n",
       "    <path d=\"M18.56 5.44l.94 2.06.94-2.06 2.06-.94-2.06-.94-.94-2.06-.94 2.06-2.06.94zm-11 1L8.5 8.5l.94-2.06 2.06-.94-2.06-.94L8.5 2.5l-.94 2.06-2.06.94zm10 10l.94 2.06.94-2.06 2.06-.94-2.06-.94-.94-2.06-.94 2.06-2.06.94z\"/><path d=\"M17.41 7.96l-1.37-1.37c-.4-.4-.92-.59-1.43-.59-.52 0-1.04.2-1.43.59L10.3 9.45l-7.72 7.72c-.78.78-.78 2.05 0 2.83L4 21.41c.39.39.9.59 1.41.59.51 0 1.02-.2 1.41-.59l7.78-7.78 2.81-2.81c.8-.78.8-2.07 0-2.86zM5.41 20L4 18.59l7.72-7.72 1.47 1.35L5.41 20z\"/>\n",
       "  </svg>\n",
       "      </button>\n",
       "      \n",
       "  <style>\n",
       "    .colab-df-container {\n",
       "      display:flex;\n",
       "      flex-wrap:wrap;\n",
       "      gap: 12px;\n",
       "    }\n",
       "\n",
       "    .colab-df-convert {\n",
       "      background-color: #E8F0FE;\n",
       "      border: none;\n",
       "      border-radius: 50%;\n",
       "      cursor: pointer;\n",
       "      display: none;\n",
       "      fill: #1967D2;\n",
       "      height: 32px;\n",
       "      padding: 0 0 0 0;\n",
       "      width: 32px;\n",
       "    }\n",
       "\n",
       "    .colab-df-convert:hover {\n",
       "      background-color: #E2EBFA;\n",
       "      box-shadow: 0px 1px 2px rgba(60, 64, 67, 0.3), 0px 1px 3px 1px rgba(60, 64, 67, 0.15);\n",
       "      fill: #174EA6;\n",
       "    }\n",
       "\n",
       "    [theme=dark] .colab-df-convert {\n",
       "      background-color: #3B4455;\n",
       "      fill: #D2E3FC;\n",
       "    }\n",
       "\n",
       "    [theme=dark] .colab-df-convert:hover {\n",
       "      background-color: #434B5C;\n",
       "      box-shadow: 0px 1px 3px 1px rgba(0, 0, 0, 0.15);\n",
       "      filter: drop-shadow(0px 1px 2px rgba(0, 0, 0, 0.3));\n",
       "      fill: #FFFFFF;\n",
       "    }\n",
       "  </style>\n",
       "\n",
       "      <script>\n",
       "        const buttonEl =\n",
       "          document.querySelector('#df-12532b65-679d-4949-bc26-c2379a7d7d3f button.colab-df-convert');\n",
       "        buttonEl.style.display =\n",
       "          google.colab.kernel.accessAllowed ? 'block' : 'none';\n",
       "\n",
       "        async function convertToInteractive(key) {\n",
       "          const element = document.querySelector('#df-12532b65-679d-4949-bc26-c2379a7d7d3f');\n",
       "          const dataTable =\n",
       "            await google.colab.kernel.invokeFunction('convertToInteractive',\n",
       "                                                     [key], {});\n",
       "          if (!dataTable) return;\n",
       "\n",
       "          const docLinkHtml = 'Like what you see? Visit the ' +\n",
       "            '<a target=\"_blank\" href=https://colab.research.google.com/notebooks/data_table.ipynb>data table notebook</a>'\n",
       "            + ' to learn more about interactive tables.';\n",
       "          element.innerHTML = '';\n",
       "          dataTable['output_type'] = 'display_data';\n",
       "          await google.colab.output.renderOutput(dataTable, element);\n",
       "          const docLink = document.createElement('div');\n",
       "          docLink.innerHTML = docLinkHtml;\n",
       "          element.appendChild(docLink);\n",
       "        }\n",
       "      </script>\n",
       "    </div>\n",
       "  </div>\n",
       "  "
      ],
      "text/plain": [
       "       RMSE       MAE  R-squared  Adj. R-squared       MAPE\n",
       "0  5.391342  3.012906   0.759295        0.756052  60.631715"
      ]
     },
     "execution_count": 310,
     "metadata": {},
     "output_type": "execute_result"
    },
    {
     "data": {
      "application/javascript": [
       "\n",
       "            setTimeout(function() {\n",
       "                var nbb_cell_id = 310;\n",
       "                var nbb_unformatted_code = \"# Checking model performance on test set with Log Value of Price\\nprint(\\\"Test Performance with Log Value of Price\\\\n\\\")\\nlin_reg_model_test_perf = model_performance_regression(l_regression_model, X_test, y_test)\\nlin_reg_model_test_perf\";\n",
       "                var nbb_formatted_code = \"# Checking model performance on test set with Log Value of Price\\nprint(\\\"Test Performance with Log Value of Price\\\\n\\\")\\nlin_reg_model_test_perf = model_performance_regression(\\n    l_regression_model, X_test, y_test\\n)\\nlin_reg_model_test_perf\";\n",
       "                var nbb_cells = Jupyter.notebook.get_cells();\n",
       "                for (var i = 0; i < nbb_cells.length; ++i) {\n",
       "                    if (nbb_cells[i].input_prompt_number == nbb_cell_id) {\n",
       "                        if (nbb_cells[i].get_text() == nbb_unformatted_code) {\n",
       "                             nbb_cells[i].set_text(nbb_formatted_code);\n",
       "                        }\n",
       "                        break;\n",
       "                    }\n",
       "                }\n",
       "            }, 500);\n",
       "            "
      ],
      "text/plain": [
       "<IPython.core.display.Javascript object>"
      ]
     },
     "metadata": {},
     "output_type": "display_data"
    }
   ],
   "source": [
    "# Checking model performance on test set with Log Value of Price\n",
    "print(\"Test Performance with Log Value of Price\\n\")\n",
    "lin_reg_model_test_perf = model_performance_regression(l_regression_model, X_test, y_test)\n",
    "lin_reg_model_test_perf"
   ]
  },
  {
   "cell_type": "markdown",
   "metadata": {
    "id": "BYSTidZxC98i"
   },
   "source": [
    "- When log version of Proce is considered for Model, $R^2$ has good value. But MAPE is infinite."
   ]
  },
  {
   "cell_type": "markdown",
   "metadata": {
    "id": "6uQTUF5BCnRw"
   },
   "source": [
    "#### **Calculations here are based on actual Price. Observations and Conclusions are based on this**"
   ]
  },
  {
   "cell_type": "code",
   "execution_count": 311,
   "metadata": {
    "colab": {
     "base_uri": "https://localhost:8080/",
     "height": 115
    },
    "executionInfo": {
     "elapsed": 8,
     "status": "ok",
     "timestamp": 1665697308166,
     "user": {
      "displayName": "Sushant Upadhyay",
      "userId": "05018399502161361441"
     },
     "user_tz": 420
    },
    "id": "x6Bzif0pCwaa",
    "outputId": "cae5c469-27f7-4f06-ad37-6eb6e9f82930"
   },
   "outputs": [
    {
     "name": "stdout",
     "output_type": "stream",
     "text": [
      "Training Performance\n",
      "\n"
     ]
    },
    {
     "data": {
      "text/html": [
       "\n",
       "  <div id=\"df-ce513463-f542-4161-9f3b-1c90cd2abba3\">\n",
       "    <div class=\"colab-df-container\">\n",
       "      <div>\n",
       "<style scoped>\n",
       "    .dataframe tbody tr th:only-of-type {\n",
       "        vertical-align: middle;\n",
       "    }\n",
       "\n",
       "    .dataframe tbody tr th {\n",
       "        vertical-align: top;\n",
       "    }\n",
       "\n",
       "    .dataframe thead th {\n",
       "        text-align: right;\n",
       "    }\n",
       "</style>\n",
       "<table border=\"1\" class=\"dataframe\">\n",
       "  <thead>\n",
       "    <tr style=\"text-align: right;\">\n",
       "      <th></th>\n",
       "      <th>RMSE</th>\n",
       "      <th>MAE</th>\n",
       "      <th>R-squared</th>\n",
       "      <th>Adj. R-squared</th>\n",
       "      <th>MAPE</th>\n",
       "    </tr>\n",
       "  </thead>\n",
       "  <tbody>\n",
       "    <tr>\n",
       "      <th>0</th>\n",
       "      <td>5.447001</td>\n",
       "      <td>3.186901</td>\n",
       "      <td>0.766537</td>\n",
       "      <td>0.765199</td>\n",
       "      <td>64.752309</td>\n",
       "    </tr>\n",
       "  </tbody>\n",
       "</table>\n",
       "</div>\n",
       "      <button class=\"colab-df-convert\" onclick=\"convertToInteractive('df-ce513463-f542-4161-9f3b-1c90cd2abba3')\"\n",
       "              title=\"Convert this dataframe to an interactive table.\"\n",
       "              style=\"display:none;\">\n",
       "        \n",
       "  <svg xmlns=\"http://www.w3.org/2000/svg\" height=\"24px\"viewBox=\"0 0 24 24\"\n",
       "       width=\"24px\">\n",
       "    <path d=\"M0 0h24v24H0V0z\" fill=\"none\"/>\n",
       "    <path d=\"M18.56 5.44l.94 2.06.94-2.06 2.06-.94-2.06-.94-.94-2.06-.94 2.06-2.06.94zm-11 1L8.5 8.5l.94-2.06 2.06-.94-2.06-.94L8.5 2.5l-.94 2.06-2.06.94zm10 10l.94 2.06.94-2.06 2.06-.94-2.06-.94-.94-2.06-.94 2.06-2.06.94z\"/><path d=\"M17.41 7.96l-1.37-1.37c-.4-.4-.92-.59-1.43-.59-.52 0-1.04.2-1.43.59L10.3 9.45l-7.72 7.72c-.78.78-.78 2.05 0 2.83L4 21.41c.39.39.9.59 1.41.59.51 0 1.02-.2 1.41-.59l7.78-7.78 2.81-2.81c.8-.78.8-2.07 0-2.86zM5.41 20L4 18.59l7.72-7.72 1.47 1.35L5.41 20z\"/>\n",
       "  </svg>\n",
       "      </button>\n",
       "      \n",
       "  <style>\n",
       "    .colab-df-container {\n",
       "      display:flex;\n",
       "      flex-wrap:wrap;\n",
       "      gap: 12px;\n",
       "    }\n",
       "\n",
       "    .colab-df-convert {\n",
       "      background-color: #E8F0FE;\n",
       "      border: none;\n",
       "      border-radius: 50%;\n",
       "      cursor: pointer;\n",
       "      display: none;\n",
       "      fill: #1967D2;\n",
       "      height: 32px;\n",
       "      padding: 0 0 0 0;\n",
       "      width: 32px;\n",
       "    }\n",
       "\n",
       "    .colab-df-convert:hover {\n",
       "      background-color: #E2EBFA;\n",
       "      box-shadow: 0px 1px 2px rgba(60, 64, 67, 0.3), 0px 1px 3px 1px rgba(60, 64, 67, 0.15);\n",
       "      fill: #174EA6;\n",
       "    }\n",
       "\n",
       "    [theme=dark] .colab-df-convert {\n",
       "      background-color: #3B4455;\n",
       "      fill: #D2E3FC;\n",
       "    }\n",
       "\n",
       "    [theme=dark] .colab-df-convert:hover {\n",
       "      background-color: #434B5C;\n",
       "      box-shadow: 0px 1px 3px 1px rgba(0, 0, 0, 0.15);\n",
       "      filter: drop-shadow(0px 1px 2px rgba(0, 0, 0, 0.3));\n",
       "      fill: #FFFFFF;\n",
       "    }\n",
       "  </style>\n",
       "\n",
       "      <script>\n",
       "        const buttonEl =\n",
       "          document.querySelector('#df-ce513463-f542-4161-9f3b-1c90cd2abba3 button.colab-df-convert');\n",
       "        buttonEl.style.display =\n",
       "          google.colab.kernel.accessAllowed ? 'block' : 'none';\n",
       "\n",
       "        async function convertToInteractive(key) {\n",
       "          const element = document.querySelector('#df-ce513463-f542-4161-9f3b-1c90cd2abba3');\n",
       "          const dataTable =\n",
       "            await google.colab.kernel.invokeFunction('convertToInteractive',\n",
       "                                                     [key], {});\n",
       "          if (!dataTable) return;\n",
       "\n",
       "          const docLinkHtml = 'Like what you see? Visit the ' +\n",
       "            '<a target=\"_blank\" href=https://colab.research.google.com/notebooks/data_table.ipynb>data table notebook</a>'\n",
       "            + ' to learn more about interactive tables.';\n",
       "          element.innerHTML = '';\n",
       "          dataTable['output_type'] = 'display_data';\n",
       "          await google.colab.output.renderOutput(dataTable, element);\n",
       "          const docLink = document.createElement('div');\n",
       "          docLink.innerHTML = docLinkHtml;\n",
       "          element.appendChild(docLink);\n",
       "        }\n",
       "      </script>\n",
       "    </div>\n",
       "  </div>\n",
       "  "
      ],
      "text/plain": [
       "       RMSE       MAE  R-squared  Adj. R-squared       MAPE\n",
       "0  5.447001  3.186901   0.766537        0.765199  64.752309"
      ]
     },
     "execution_count": 311,
     "metadata": {},
     "output_type": "execute_result"
    },
    {
     "data": {
      "application/javascript": [
       "\n",
       "            setTimeout(function() {\n",
       "                var nbb_cell_id = 311;\n",
       "                var nbb_unformatted_code = \"# Checking model performance on train set\\nprint(\\\"Training Performance\\\\n\\\")\\nlin_reg_model_train_perf = model_performance_regression(l_regression_model, X_train, y_train)\\nlin_reg_model_train_perf\";\n",
       "                var nbb_formatted_code = \"# Checking model performance on train set\\nprint(\\\"Training Performance\\\\n\\\")\\nlin_reg_model_train_perf = model_performance_regression(\\n    l_regression_model, X_train, y_train\\n)\\nlin_reg_model_train_perf\";\n",
       "                var nbb_cells = Jupyter.notebook.get_cells();\n",
       "                for (var i = 0; i < nbb_cells.length; ++i) {\n",
       "                    if (nbb_cells[i].input_prompt_number == nbb_cell_id) {\n",
       "                        if (nbb_cells[i].get_text() == nbb_unformatted_code) {\n",
       "                             nbb_cells[i].set_text(nbb_formatted_code);\n",
       "                        }\n",
       "                        break;\n",
       "                    }\n",
       "                }\n",
       "            }, 500);\n",
       "            "
      ],
      "text/plain": [
       "<IPython.core.display.Javascript object>"
      ]
     },
     "metadata": {},
     "output_type": "display_data"
    }
   ],
   "source": [
    "# Checking model performance on train set\n",
    "print(\"Training Performance\\n\")\n",
    "lin_reg_model_train_perf = model_performance_regression(l_regression_model, X_train, y_train)\n",
    "lin_reg_model_train_perf"
   ]
  },
  {
   "cell_type": "code",
   "execution_count": 312,
   "metadata": {
    "colab": {
     "base_uri": "https://localhost:8080/",
     "height": 115
    },
    "executionInfo": {
     "elapsed": 7,
     "status": "ok",
     "timestamp": 1665697308166,
     "user": {
      "displayName": "Sushant Upadhyay",
      "userId": "05018399502161361441"
     },
     "user_tz": 420
    },
    "id": "bFXEFyPwCx2W",
    "outputId": "7f8b7ffe-bf52-45d4-9fd7-02238fa141f8"
   },
   "outputs": [
    {
     "name": "stdout",
     "output_type": "stream",
     "text": [
      "Test Performance\n",
      "\n"
     ]
    },
    {
     "data": {
      "text/html": [
       "\n",
       "  <div id=\"df-9ca2403f-4214-4a44-956d-e98dc6663417\">\n",
       "    <div class=\"colab-df-container\">\n",
       "      <div>\n",
       "<style scoped>\n",
       "    .dataframe tbody tr th:only-of-type {\n",
       "        vertical-align: middle;\n",
       "    }\n",
       "\n",
       "    .dataframe tbody tr th {\n",
       "        vertical-align: top;\n",
       "    }\n",
       "\n",
       "    .dataframe thead th {\n",
       "        text-align: right;\n",
       "    }\n",
       "</style>\n",
       "<table border=\"1\" class=\"dataframe\">\n",
       "  <thead>\n",
       "    <tr style=\"text-align: right;\">\n",
       "      <th></th>\n",
       "      <th>RMSE</th>\n",
       "      <th>MAE</th>\n",
       "      <th>R-squared</th>\n",
       "      <th>Adj. R-squared</th>\n",
       "      <th>MAPE</th>\n",
       "    </tr>\n",
       "  </thead>\n",
       "  <tbody>\n",
       "    <tr>\n",
       "      <th>0</th>\n",
       "      <td>5.391342</td>\n",
       "      <td>3.012906</td>\n",
       "      <td>0.759295</td>\n",
       "      <td>0.756052</td>\n",
       "      <td>60.631715</td>\n",
       "    </tr>\n",
       "  </tbody>\n",
       "</table>\n",
       "</div>\n",
       "      <button class=\"colab-df-convert\" onclick=\"convertToInteractive('df-9ca2403f-4214-4a44-956d-e98dc6663417')\"\n",
       "              title=\"Convert this dataframe to an interactive table.\"\n",
       "              style=\"display:none;\">\n",
       "        \n",
       "  <svg xmlns=\"http://www.w3.org/2000/svg\" height=\"24px\"viewBox=\"0 0 24 24\"\n",
       "       width=\"24px\">\n",
       "    <path d=\"M0 0h24v24H0V0z\" fill=\"none\"/>\n",
       "    <path d=\"M18.56 5.44l.94 2.06.94-2.06 2.06-.94-2.06-.94-.94-2.06-.94 2.06-2.06.94zm-11 1L8.5 8.5l.94-2.06 2.06-.94-2.06-.94L8.5 2.5l-.94 2.06-2.06.94zm10 10l.94 2.06.94-2.06 2.06-.94-2.06-.94-.94-2.06-.94 2.06-2.06.94z\"/><path d=\"M17.41 7.96l-1.37-1.37c-.4-.4-.92-.59-1.43-.59-.52 0-1.04.2-1.43.59L10.3 9.45l-7.72 7.72c-.78.78-.78 2.05 0 2.83L4 21.41c.39.39.9.59 1.41.59.51 0 1.02-.2 1.41-.59l7.78-7.78 2.81-2.81c.8-.78.8-2.07 0-2.86zM5.41 20L4 18.59l7.72-7.72 1.47 1.35L5.41 20z\"/>\n",
       "  </svg>\n",
       "      </button>\n",
       "      \n",
       "  <style>\n",
       "    .colab-df-container {\n",
       "      display:flex;\n",
       "      flex-wrap:wrap;\n",
       "      gap: 12px;\n",
       "    }\n",
       "\n",
       "    .colab-df-convert {\n",
       "      background-color: #E8F0FE;\n",
       "      border: none;\n",
       "      border-radius: 50%;\n",
       "      cursor: pointer;\n",
       "      display: none;\n",
       "      fill: #1967D2;\n",
       "      height: 32px;\n",
       "      padding: 0 0 0 0;\n",
       "      width: 32px;\n",
       "    }\n",
       "\n",
       "    .colab-df-convert:hover {\n",
       "      background-color: #E2EBFA;\n",
       "      box-shadow: 0px 1px 2px rgba(60, 64, 67, 0.3), 0px 1px 3px 1px rgba(60, 64, 67, 0.15);\n",
       "      fill: #174EA6;\n",
       "    }\n",
       "\n",
       "    [theme=dark] .colab-df-convert {\n",
       "      background-color: #3B4455;\n",
       "      fill: #D2E3FC;\n",
       "    }\n",
       "\n",
       "    [theme=dark] .colab-df-convert:hover {\n",
       "      background-color: #434B5C;\n",
       "      box-shadow: 0px 1px 3px 1px rgba(0, 0, 0, 0.15);\n",
       "      filter: drop-shadow(0px 1px 2px rgba(0, 0, 0, 0.3));\n",
       "      fill: #FFFFFF;\n",
       "    }\n",
       "  </style>\n",
       "\n",
       "      <script>\n",
       "        const buttonEl =\n",
       "          document.querySelector('#df-9ca2403f-4214-4a44-956d-e98dc6663417 button.colab-df-convert');\n",
       "        buttonEl.style.display =\n",
       "          google.colab.kernel.accessAllowed ? 'block' : 'none';\n",
       "\n",
       "        async function convertToInteractive(key) {\n",
       "          const element = document.querySelector('#df-9ca2403f-4214-4a44-956d-e98dc6663417');\n",
       "          const dataTable =\n",
       "            await google.colab.kernel.invokeFunction('convertToInteractive',\n",
       "                                                     [key], {});\n",
       "          if (!dataTable) return;\n",
       "\n",
       "          const docLinkHtml = 'Like what you see? Visit the ' +\n",
       "            '<a target=\"_blank\" href=https://colab.research.google.com/notebooks/data_table.ipynb>data table notebook</a>'\n",
       "            + ' to learn more about interactive tables.';\n",
       "          element.innerHTML = '';\n",
       "          dataTable['output_type'] = 'display_data';\n",
       "          await google.colab.output.renderOutput(dataTable, element);\n",
       "          const docLink = document.createElement('div');\n",
       "          docLink.innerHTML = docLinkHtml;\n",
       "          element.appendChild(docLink);\n",
       "        }\n",
       "      </script>\n",
       "    </div>\n",
       "  </div>\n",
       "  "
      ],
      "text/plain": [
       "       RMSE       MAE  R-squared  Adj. R-squared       MAPE\n",
       "0  5.391342  3.012906   0.759295        0.756052  60.631715"
      ]
     },
     "execution_count": 312,
     "metadata": {},
     "output_type": "execute_result"
    },
    {
     "data": {
      "application/javascript": [
       "\n",
       "            setTimeout(function() {\n",
       "                var nbb_cell_id = 312;\n",
       "                var nbb_unformatted_code = \"# Checking model performance\\nprint(\\\"Test Performance\\\\n\\\")\\nlin_reg_model_test_perf = model_performance_regression(l_regression_model, X_test, y_test)\\nlin_reg_model_test_perf\";\n",
       "                var nbb_formatted_code = \"# Checking model performance\\nprint(\\\"Test Performance\\\\n\\\")\\nlin_reg_model_test_perf = model_performance_regression(\\n    l_regression_model, X_test, y_test\\n)\\nlin_reg_model_test_perf\";\n",
       "                var nbb_cells = Jupyter.notebook.get_cells();\n",
       "                for (var i = 0; i < nbb_cells.length; ++i) {\n",
       "                    if (nbb_cells[i].input_prompt_number == nbb_cell_id) {\n",
       "                        if (nbb_cells[i].get_text() == nbb_unformatted_code) {\n",
       "                             nbb_cells[i].set_text(nbb_formatted_code);\n",
       "                        }\n",
       "                        break;\n",
       "                    }\n",
       "                }\n",
       "            }, 500);\n",
       "            "
      ],
      "text/plain": [
       "<IPython.core.display.Javascript object>"
      ]
     },
     "metadata": {},
     "output_type": "display_data"
    }
   ],
   "source": [
    "# Checking model performance\n",
    "print(\"Test Performance\\n\")\n",
    "lin_reg_model_test_perf = model_performance_regression(l_regression_model, X_test, y_test)\n",
    "lin_reg_model_test_perf"
   ]
  },
  {
   "cell_type": "markdown",
   "metadata": {
    "id": "38nj722xb_b8"
   },
   "source": [
    "# **Observations & Recommendations**\n"
   ]
  },
  {
   "cell_type": "markdown",
   "metadata": {
    "id": "qfo3jJDey3ep"
   },
   "source": [
    "#### **Observations**\n",
    "\n",
    "We analyzed a dataset for used car prices. Following are conclusions based on Model -  \n",
    "\n",
    "1. There train and test $R^2$ are 0.76 and 0.75 respectively.This indicates that the model explains 76% and 75% of the total variation in the train and test sets. \n",
    "2. RMSE values on train and test sets are also comparable.\n",
    "3. This shows that model is not overfitting.\n",
    "4. MAPE of 60.63 on test data means that we are able to predict within ~61% of price value. \n",
    "\n",
    "\n",
    "\n",
    "#### **Recommendations**\n",
    "\n",
    "1. Based on this predictive model, Cars4U start-up can predict price for old cars with $R^2$ of 0.76 on training data set. \n",
    "2. There were many rows in dataset with missing value for Price (1234). If these values can be captured, this odel can perform better.\n",
    "3. Cars4U can use this model for predicting used car values with mean error of 3 on the test data set. \n",
    "4. Missing value treatment (Price, Power, Seats, Engine ) amd outier detaction and treatment (Kilometers_Driven) helped achieve better prediction for model.\n",
    "5. Cars4U can also use EDA from this analysis to find pattern and market for old cars. \n",
    "\n",
    "\n"
   ]
  }
 ],
 "metadata": {
  "colab": {
   "authorship_tag": "ABX9TyOTEWyVVJU603Db+dbKYHkE",
   "collapsed_sections": [],
   "provenance": [],
   "toc_visible": true
  },
  "kernelspec": {
   "display_name": "Python 3 (ipykernel)",
   "language": "python",
   "name": "python3"
  },
  "language_info": {
   "codemirror_mode": {
    "name": "ipython",
    "version": 3
   },
   "file_extension": ".py",
   "mimetype": "text/x-python",
   "name": "python",
   "nbconvert_exporter": "python",
   "pygments_lexer": "ipython3",
   "version": "3.9.12"
  }
 },
 "nbformat": 4,
 "nbformat_minor": 1
}
